{
 "cells": [
  {
   "cell_type": "markdown",
   "metadata": {},
   "source": [
    "# Dictionaries \n",
    "\n",
    "Dictionaries are the best! Their syntax is similar to a list and, like a list, a dictionary holds any number of values. Dictionaries are different, however, because instead of holding values at index locations dictionaries use *keys*. Imagine you wanted to store a collection of  scientific names of animals. You would like to retrieve the scientific name of an animal using it's common name. In other words, if you type \"Lion\" into your search tool it gives you \"Panthera Leo\" as a result. A dictionary is exactly what you need. Think of a dictionary like this:\n",
    "\n",
    "![Image of a Python Dictionary](images/python_dictionary.png)\n",
    "\n",
    "In the drawing the common name of an animal is the *key* and the scientific name is the *value*. In this lecture you'll learn how to create change and use dictionaries. \n",
    "\n",
    "## Create a Dictionary \n",
    "\n",
    "Dictionaries are declared with key/value pairs separated by colons. Here's an example:\n",
    "\n",
    "```python\n",
    "animals = { 'Lion': 'Panthera Leo', \n",
    "           'Tiger': 'Panthera Tigris', \n",
    "           'Bear': 'Ursus Arctos',\n",
    "          }\n",
    "```\n",
    "\n",
    "In the example above I separated the animals onto different lines to make it more readable. It's just as valid to do it all on one line like this: \n",
    "\n",
    "```python\n",
    "animals = {'Lion': 'Panthera Leo', 'Tiger': 'Panthera Tigris', 'Bear': 'Ursus Arctos',}\n",
    "```\n",
    "\n",
    "Pick your favorite example and type it into the next cell:"
   ]
  },
  {
   "cell_type": "code",
   "execution_count": null,
   "metadata": {},
   "outputs": [],
   "source": []
  },
  {
   "cell_type": "markdown",
   "metadata": {},
   "source": [
    "Just like a list, a dictionary can be empty. Here's how you create an empty dictionary:\n",
    "\n",
    "```python\n",
    "animals = {} \n",
    "```\n",
    "\n",
    "Dictionaries are their own type in Python. Here's how you use the `type` function to discover what type a dictionary is: \n",
    "\n",
    "```python\n",
    "print(type(animals))\n",
    "```\n",
    "\n",
    "Try it:"
   ]
  },
  {
   "cell_type": "code",
   "execution_count": null,
   "metadata": {},
   "outputs": [],
   "source": []
  },
  {
   "cell_type": "markdown",
   "metadata": {},
   "source": [
    "## Access, Add and Remove Dictionary Elements \n",
    "\n",
    "Dictionaries are accessed just like lists but with keys between the `[` and `]` brackets. For example:\n",
    "\n",
    "```python\n",
    "print(animals['Lion'])\n",
    "print(animals['Tiger'])\n",
    "print(animals['Bear'])\n",
    "```\n",
    "\n",
    "Use the `print` function to access one of the animals in the `animals` dictionary:"
   ]
  },
  {
   "cell_type": "code",
   "execution_count": null,
   "metadata": {},
   "outputs": [],
   "source": []
  },
  {
   "cell_type": "markdown",
   "metadata": {},
   "source": [
    "Dictionary elements are created at any time. For example, we here's how you create an element to hold the scientific name of the common house cat: \n",
    "\n",
    "```python\n",
    "animals['Cat'] = 'Felis Silvestris Silvesteris'\n",
    "```\n",
    "\n",
    "Dictionary elements are reassigned when they appear on the left of the equal sign:\n",
    "\n",
    "```python\n",
    "animals['Bear'] = 'Ursus Arctos Horribilis' # Grizzly Bear\n",
    "```"
   ]
  },
  {
   "cell_type": "markdown",
   "metadata": {},
   "source": [
    "Dictionary elements can be deleted with the `del` operator, just like with a list.\n",
    "\n",
    "```python\n",
    "del animals['Lion']\n",
    "```\n",
    "\n",
    "The `clear` function remove all of the elements of a dictionary: \n",
    "\n",
    "```python\n",
    "animals.clear()\n",
    "```\n",
    "\n",
    "Practice adding, changing and removing items from the `animals` dictionary:"
   ]
  },
  {
   "cell_type": "code",
   "execution_count": null,
   "metadata": {},
   "outputs": [],
   "source": []
  },
  {
   "cell_type": "markdown",
   "metadata": {},
   "source": [
    "## Dictionary Length\n",
    "\n",
    "Just like with lists the `len` operator tells you how many *key/value pairs* are in a dictionary.\n",
    "\n",
    "```python\n",
    "animals = { 'Lion': 'Panthera Leo', 'Tiger': 'Panthera Tigris', 'Bear': 'Ursus Arctos'}\n",
    "print(len(animals))\n",
    "```\n",
    "\n",
    "Enter the example code into the next cell:"
   ]
  },
  {
   "cell_type": "code",
   "execution_count": null,
   "metadata": {},
   "outputs": [],
   "source": []
  },
  {
   "cell_type": "markdown",
   "metadata": {},
   "source": [
    "**Can you guess what the length is?**"
   ]
  },
  {
   "cell_type": "markdown",
   "metadata": {},
   "source": [
    "## XXX: Searching for Keys with `in`\n",
    "\n",
    "The `in` operator works on dictionaries. It looks through the keys for one that matches. For example you can check to see if your `animals` dictionary contains an entry for 'Lion':\n",
    "\n",
    "```python\n",
    "if 'Lion' in animals:\n",
    "    print ('There are Lions here!')\n",
    "```\n",
    "\n",
    "You can reverse the match with `not`. For example:\n",
    "\n",
    "```python\n",
    "if 'Lemur' not in animals: \n",
    "    print ('No Lemurs')\n",
    "```\n",
    "\n",
    "Type in one example from above:"
   ]
  },
  {
   "cell_type": "code",
   "execution_count": null,
   "metadata": {},
   "outputs": [],
   "source": []
  },
  {
   "cell_type": "markdown",
   "metadata": {},
   "source": [
    "**Did it do what you expect?**"
   ]
  },
  {
   "cell_type": "markdown",
   "metadata": {},
   "source": [
    "## XXX: Iterating Through Dictionaries with `for`\n",
    "\n",
    "A dictionary can be three related sequences when used with a `for` loop:\n",
    "\n",
    "1. A sequence of *values*\n",
    "1. A sequence of *keys*\n",
    "1. A sequence of *key/value pairs* \n",
    "\n",
    "You should know how to construct a for loop for each of the sequences that a dictionary provides. The simplest (and most useful) form is a sequence of keys. Here's an example: \n",
    "\n",
    "```python\n",
    "for key in animals: \n",
    "    print (\"Common name:\", key)\n",
    "```\n",
    "\n",
    "The nice thing about iterating over keys is that you have easy access to the value as well. Let's update the previous example to print both key and value for each animal:\n",
    "\n",
    "```python\n",
    "for key in animals: \n",
    "    print (\"Common name:\", key, \"Scientific name:\", animals[key])\n",
    "```\n",
    "\n",
    "Try the updated exmple in the next cell:"
   ]
  },
  {
   "cell_type": "code",
   "execution_count": null,
   "metadata": {},
   "outputs": [],
   "source": []
  },
  {
   "cell_type": "markdown",
   "metadata": {},
   "source": [
    "If you don't care about keys you can iterate over a colletion of values:\n",
    "\n",
    "```python\n",
    "for value in animals.values():\n",
    "    print(\"Scientific name:\", value)\n",
    "```\n",
    "\n",
    "Try that in the next cell:"
   ]
  },
  {
   "cell_type": "code",
   "execution_count": null,
   "metadata": {},
   "outputs": [],
   "source": []
  },
  {
   "cell_type": "markdown",
   "metadata": {},
   "source": [
    "**What if you wanted keys?** It's not easy to get a key from a value, so the `for` loop in the previous example doesn't have a good way to print the common name. That's a bit of a limitation. The final form iterates over key value pairs:\n",
    "\n",
    "```python\n",
    "for key, value in animals.items():\n",
    "    print (\"Common name:\", key, \"Scientific name:\", value)\n",
    "```\n",
    "\n",
    "Notice how there are **two** loop variables separated by commas! A sequence can produce pairs of itms (like the `items` function). When they do you need two variables. Type in the example into the next cell:"
   ]
  },
  {
   "cell_type": "code",
   "execution_count": null,
   "metadata": {},
   "outputs": [],
   "source": []
  },
  {
   "cell_type": "markdown",
   "metadata": {},
   "source": [
    "Try to memorize the three `for` loops that iterate over a `dictionary`. Start with the first one, it's the most used."
   ]
  },
  {
   "cell_type": "markdown",
   "metadata": {},
   "source": [
    "## Key Errors \n",
    "\n",
    "If you access a key that doesn't exist you get a `KeyError` exception. \n",
    "\n",
    "```python\n",
    "print (animals['Sloth'])\n",
    "```\n",
    "\n",
    "Try the example to see the error:"
   ]
  },
  {
   "cell_type": "code",
   "execution_count": null,
   "metadata": {},
   "outputs": [],
   "source": []
  },
  {
   "cell_type": "markdown",
   "metadata": {},
   "source": [
    "An exception halts your program unless you handle it. To avoid a crash it's common to check that a key exists before using it to guard against an exception. For example:\n",
    "\n",
    "```python\n",
    "if 'Sloth' in animals:\n",
    "    print ('Sloths are:', animals['Sloth'])\n",
    "else:\n",
    "    print (\"I don't know about Sloths\")\n",
    "```"
   ]
  },
  {
   "cell_type": "markdown",
   "metadata": {},
   "source": [
    "Dictionaries provide the `get()` function that will never cause an exception. \n",
    "\n",
    "```python\n",
    "print(animals.get('Sloth'))\n",
    "```\n",
    "\n",
    "The `get` function returns `None` if the key doesn't exist in the dictionary. Try using `get` in the next cell:"
   ]
  },
  {
   "cell_type": "code",
   "execution_count": null,
   "metadata": {},
   "outputs": [],
   "source": []
  }
 ],
 "metadata": {
  "interpreter": {
   "hash": "e545cfc6c92b001762a53a61423c49d13f273f2cd05f0ba531f4055e901e6403"
  },
  "kernelspec": {
   "display_name": "Python 3.8 (XPython)",
   "language": "python",
   "name": "python3"
  },
  "language_info": {
   "file_extension": ".py",
   "mimetype": "text/x-python",
   "name": "python",
   "version": "3.8.10"
  },
  "pycharm": {
   "stem_cell": {
    "cell_type": "raw",
    "metadata": {
     "collapsed": false
    },
    "source": []
   }
  }
 },
 "nbformat": 4,
 "nbformat_minor": 4
}
