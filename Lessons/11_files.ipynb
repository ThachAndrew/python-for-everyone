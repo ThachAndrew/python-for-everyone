{
 "cells": [
  {
   "cell_type": "markdown",
   "metadata": {},
   "source": [
    "# Reading and Writing Files \n",
    "\n",
    "Computers have two kinds of memory, *volatile* memory that is maintained as long as there is electricity, and *non-volatile* memory which is maintained when the power is off. Variables are a form of volatile memory, they only last as long as the program is running while to computer is on. Files are a form of non-volatile memory, they are kept when the computer is off. \n",
    "\n",
    "Files can be small or very, very large, much larger than the amount of RAM memory in a computer. Becuase files can be so large they are accessed differently than memory. Like a book, files are read (and written) one line at a time. When you want to access a file you create a special kind of variable called a *file handle*.  "
   ]
  },
  {
   "cell_type": "code",
   "execution_count": null,
   "metadata": {},
   "outputs": [],
   "source": []
  },
  {
   "cell_type": "markdown",
   "metadata": {},
   "source": [
    "## File Paths (XXX: TODO)\n",
    "\n",
    "How do you locate a file? "
   ]
  },
  {
   "cell_type": "markdown",
   "metadata": {},
   "source": [
    "## File Handles \n",
    "\n",
    "A *file handle* is a variable that gives us access to a file. A file handle is created with the `open()` function. The `open()` function takes at least one argument, the name of the file to open. The file handle is returned so you have to assign it to a variable. For example: \n",
    "\n",
    "```python\n",
    "file_handle = open('files/example.txt')\n",
    "```\n",
    "\n",
    "Enter the code in the next cell. What *type* is `file_handle`?"
   ]
  },
  {
   "cell_type": "code",
   "execution_count": null,
   "metadata": {},
   "outputs": [],
   "source": []
  },
  {
   "cell_type": "markdown",
   "metadata": {},
   "source": [
    "The variable `file_handle` can be used just like any other Python variable but it has a type you haven't seen before:\n",
    "\n",
    "```python\n",
    "print('The type of file_handle is:', type(file_handle))\n",
    "```"
   ]
  },
  {
   "cell_type": "code",
   "execution_count": null,
   "metadata": {},
   "outputs": [],
   "source": []
  },
  {
   "cell_type": "markdown",
   "metadata": {},
   "source": [
    "The file handle gives your program a way to access the contents of the file, it does not contain the file's data. A variable that contains a file handle has functions that are needed to read and write the file. In the next sections you'll see how to use functions of a file handle to access files."
   ]
  },
  {
   "cell_type": "markdown",
   "metadata": {},
   "source": [
    "## Reading Text Files \n",
    "\n",
    "There are two ways to read a file in Python, one line at a time and the whole file at once. Try this, run the cell below to open the file `example.txt`: "
   ]
  },
  {
   "cell_type": "code",
   "execution_count": null,
   "metadata": {
    "deletable": false,
    "editable": false
   },
   "outputs": [],
   "source": [
    "file_handle = open('files/example.txt')"
   ]
  },
  {
   "cell_type": "markdown",
   "metadata": {},
   "source": [
    "Now execute the code in this cell over and over: "
   ]
  },
  {
   "cell_type": "code",
   "execution_count": null,
   "metadata": {
    "deletable": false,
    "editable": false
   },
   "outputs": [],
   "source": [
    "file_handle.readline()"
   ]
  },
  {
   "cell_type": "markdown",
   "metadata": {},
   "source": [
    "What do you notice? The file is read one line at a time, each time you execute `readline()` the next line is returned. When the file reaches the end empty lines are returned. Try doing it again but re-running the `open()` function. Now see what happens when you use the `read()` function: "
   ]
  },
  {
   "cell_type": "code",
   "execution_count": null,
   "metadata": {
    "deletable": false,
    "editable": false
   },
   "outputs": [],
   "source": [
    "file_handle.read()"
   ]
  },
  {
   "cell_type": "markdown",
   "metadata": {},
   "source": [
    "What happens when you mix `read()` and `readline()`? "
   ]
  },
  {
   "cell_type": "markdown",
   "metadata": {},
   "source": [
    "**Do you understand how calling `readline` changes the place in the file?** \n",
    "\n",
    "In a practical program you want to *do something* with the data you get in the file. The exmple below opens the file and reads the first four lines into four different variables. \n",
    "\n",
    "```python\n",
    "file_handle = open('files/example.txt')\n",
    "line1 = file_handle.readline()\n",
    "line2 = file_handle.readline()\n",
    "line3 = file_handle.readline()\n",
    "line4 = file_handle.readline()\n",
    "print(\"Lines:\", line1, line2, line3, line4)\n",
    "```\n",
    "\n",
    "Enter the program into the next cell and run it:"
   ]
  },
  {
   "cell_type": "code",
   "execution_count": null,
   "metadata": {},
   "outputs": [],
   "source": []
  },
  {
   "cell_type": "markdown",
   "metadata": {},
   "source": [
    "**Confused? Use the debugger!**"
   ]
  },
  {
   "cell_type": "markdown",
   "metadata": {},
   "source": [
    "### Reading Lines Into a List \n",
    "\n",
    "You can read the entire contents of a file into a list of lines. That can be extremely useful when you want to be able to easily access the file in random order, but beware, the entire file contents will be read into the computer memory so you have to be careful of how big the file is. This code example reads all of the lines of the example file into a list called `lines`.\n",
    "\n",
    "```python\n",
    "file_handle = open('files/example.txt')\n",
    "lines = list(file_handle)\n",
    "file_handle.close()\n",
    "print(lines)\n",
    "```\n",
    "\n",
    "Try the code in the next cell:"
   ]
  },
  {
   "cell_type": "code",
   "execution_count": null,
   "metadata": {},
   "outputs": [],
   "source": []
  },
  {
   "cell_type": "markdown",
   "metadata": {},
   "source": [
    "## Writing Text Files \n",
    "\n",
    "When you open a file you have to decide whether to read or write the file (you *can* do both, more on that later). If you only give one argument to `open()` the file is opened for reading. If you want to *write* to a file here's how you start: \n",
    "\n",
    "```python\n",
    "file_handle = open('output.txt', 'w')\n",
    "```\n",
    "\n",
    "<div class=\"alert alert-danger\">\n",
    "    <strong>Watch Out!</strong>\n",
    "    Opening a file for writing <b>erases the contents of the file</b>.\n",
    "</div>\n",
    "\n",
    "Type the open command into the next cell:"
   ]
  },
  {
   "cell_type": "code",
   "execution_count": null,
   "metadata": {},
   "outputs": [],
   "source": []
  },
  {
   "cell_type": "markdown",
   "metadata": {},
   "source": [
    "When the second argument to `open()` is `'w'` the file is open for writing. To write a file use the `write` function. Execute the code to write to the file. Once the file is open you can write to it using the `write` function. For example: \n",
    "\n",
    "```python\n",
    "file_handle.write('Hello file world!\\n')\n",
    "```\n",
    "\n",
    "Add the write command to the next cell and run it:"
   ]
  },
  {
   "cell_type": "code",
   "execution_count": null,
   "metadata": {},
   "outputs": [],
   "source": []
  },
  {
   "cell_type": "markdown",
   "metadata": {},
   "source": [
    "**Now find the file. Does it contain what you expect?**\n",
    "\n",
    "Notice that the newline character is in the string. Unlike `print()` the `write()` function does not add a newline to the end of the line. The write function also does not take multiple arguments like the `print()` function. If you want to mix variables and words in the write function use a `f-string`. Update the code cell with this code and execute it: \n",
    "\n",
    "```python\n",
    "name = 'Your Name Here'\n",
    "file_handle.write(f'Hello, my name is {name}\\n')\n",
    "```"
   ]
  },
  {
   "cell_type": "markdown",
   "metadata": {},
   "source": [
    "Notice that `write` returns a number? The number is the total number of bytes written to the file. That number can be useful because (as in the example above) when you write variables to a file you might not know in advance how much data is in the variable. Here's a complete program that writes a file: \n",
    "\n",
    "```python \n",
    "name = \"Your name here\"\n",
    "file_handle = open('greeting.txt', 'w') \n",
    "wrote = file_handle.write(f\"Hello, my name is {name}\\n\")\n",
    "print(f\"I wrote {wrote} bytes to the file\")\n",
    "file_handle.close()\n",
    "```\n",
    "\n",
    "Enter the complete program into the next cell:"
   ]
  },
  {
   "cell_type": "code",
   "execution_count": null,
   "metadata": {},
   "outputs": [],
   "source": []
  },
  {
   "cell_type": "markdown",
   "metadata": {},
   "source": [
    "**Run the program and look inside of greeting.txt** "
   ]
  },
  {
   "cell_type": "markdown",
   "metadata": {},
   "source": [
    "## Closing the File Handle \n",
    "\n",
    "If you open the file that we've just written you will notice the contents aren't there yet. When you write to a file the information you write is temporary held in memory to improve the performance of your program. When your program is done reading or writing a file you have to close the file handle using the close function:\n",
    "\n",
    "```python\n",
    "file_handle.close()\n",
    "```\n",
    "\n",
    "It's essential that you always remember to close the files you've opened. A program can only hold a fixed number of files open, if your code \"leaks\" file handles by forgetting about them it's possible that you will exhaust that number and the `open()` function will fail. "
   ]
  },
  {
   "cell_type": "markdown",
   "metadata": {},
   "source": [
    "## File Types \n",
    "\n",
    "Files contain all kinds of data, not just plain text. "
   ]
  },
  {
   "cell_type": "code",
   "execution_count": null,
   "metadata": {},
   "outputs": [],
   "source": []
  },
  {
   "cell_type": "markdown",
   "metadata": {},
   "source": [
    "## Image Files \n",
    "\n",
    "XXX: Image files"
   ]
  },
  {
   "cell_type": "code",
   "execution_count": null,
   "metadata": {},
   "outputs": [],
   "source": [
    "from PIL import Image \n",
    "\n",
    "pic = Image.open('../Labs/files/maze.png')\n",
    "pic"
   ]
  },
  {
   "cell_type": "markdown",
   "metadata": {},
   "source": [
    "## Spreadsheets \n",
    "\n",
    "Spreadsheets are data in a table. "
   ]
  },
  {
   "cell_type": "code",
   "execution_count": null,
   "metadata": {},
   "outputs": [],
   "source": [
    "import pandas\n",
    "df = pandas.read_csv('files/mlb_players.csv')\n",
    "df\n",
    "#df[df['\"Team\"'] == 'SFG']\n",
    "\n",
    "df.describe()\n",
    "\n",
    "#df[ df['Height'] == df['Height'].max() ]\n"
   ]
  },
  {
   "cell_type": "code",
   "execution_count": null,
   "metadata": {},
   "outputs": [],
   "source": [
    "df['Height'].hist().plot()"
   ]
  }
 ],
 "metadata": {
  "interpreter": {
   "hash": "e545cfc6c92b001762a53a61423c49d13f273f2cd05f0ba531f4055e901e6403"
  },
  "kernelspec": {
   "display_name": "Python 3.8 (XPython)",
   "language": "python",
   "name": "python3"
  },
  "language_info": {
   "codemirror_mode": {
    "name": "ipython",
    "version": 3
   },
   "file_extension": ".py",
   "mimetype": "text/x-python",
   "name": "python",
   "nbconvert_exporter": "python",
   "pygments_lexer": "ipython3",
   "version": "3.8.10"
  }
 },
 "nbformat": 4,
 "nbformat_minor": 4
}
