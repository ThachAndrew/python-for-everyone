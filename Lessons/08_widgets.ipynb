{
 "cells": [
  {
   "attachments": {},
   "cell_type": "markdown",
   "metadata": {},
   "source": [
    "# Widgets\n",
    "\n",
    "In Computer Science, a *widget* is a graphical unit that users interact with. Some examples of widgets are a button, menu or check box. Widgets are the fundamental units of a *Graphical User Interface* or GUI. So far, the programs you've written have not taken any input from the user. In this lesson you'll learn how to incorporate widgets in a notebook so that non-programmer users can easily control your program. The `ipywdgets` library contains widgets for just about everything you would want a user to control. We'll only use a few of them, but you can see the [complete widget list](https://ipywidgets.readthedocs.io/en/stable/examples/Widget%20List.html) on the Jupyter Widgets web site. \n",
    "\n",
    "## Widget Basics \n",
    "\n",
    "In order to use the `ipywidgets` library you have to `import` it. Run the code in the next cell to make the library available:"
   ]
  },
  {
   "cell_type": "code",
   "execution_count": null,
   "metadata": {
    "deletable": false,
    "editable": false,
    "tags": []
   },
   "outputs": [],
   "source": [
    "import ipywidgets "
   ]
  },
  {
   "attachments": {},
   "cell_type": "markdown",
   "metadata": {},
   "source": [
    "Widgets are data types, so just like anything else in Python they can be stored in a variable and displayed with the `display` function. Widgets are created just like the `Turtle`. Widgets use the *key word argument* syntax to make the controls more clear. Here's an example: \n",
    "\n",
    "```python\n",
    "dd = ipywidgets.Dropdown(\n",
    "    description=\"Make a choice.\",\n",
    "    options=[\"Choice 1\", \"Choice 2\", \"Choice 3\"],\n",
    ")\n",
    "display(dd)\n",
    "```\n",
    "\n",
    "Type the code into the next cell to see the drop down menu:"
   ]
  },
  {
   "cell_type": "code",
   "execution_count": null,
   "metadata": {},
   "outputs": [],
   "source": [
    "dd = ipywidgets.Dropdown(\n",
    "    description=\"Make a choice.\",\n",
    "    options=[\"Choice 1\", \"Choice 2\", \"Choice 3\"],\n",
    ")\n",
    "display(dd)"
   ]
  },
  {
   "attachments": {},
   "cell_type": "markdown",
   "metadata": {},
   "source": [
    "Widgets have a *value* that reflects the user's selection. The value is retrieved using the widget variable. Here's an example: \n",
    "\n",
    "```python\n",
    "print(\"You chose:\", dd.value)\n",
    "```\n",
    "\n",
    "Enter the code into the next cell and notice that the value changes when you change the selection:"
   ]
  },
  {
   "cell_type": "code",
   "execution_count": null,
   "metadata": {},
   "outputs": [],
   "source": []
  },
  {
   "attachments": {},
   "cell_type": "markdown",
   "metadata": {},
   "source": [
    "The next few sections have examples of widgets that give you different kinds of input. "
   ]
  },
  {
   "attachments": {},
   "cell_type": "markdown",
   "metadata": {},
   "source": [
    "## String Input \n",
    "\n",
    "The simplest widget lets the user type in text. "
   ]
  },
  {
   "cell_type": "code",
   "execution_count": null,
   "metadata": {
    "deletable": false,
    "editable": false,
    "tags": []
   },
   "outputs": [],
   "source": [
    "text = ipywidgets.Text(\n",
    "    description='Type Text:',\n",
    ")\n",
    "display(text)"
   ]
  },
  {
   "attachments": {},
   "cell_type": "markdown",
   "metadata": {},
   "source": [
    "### Converting Text to Numbers \n",
    "\n",
    "The `value` property of the text box is always a string. If you want to make it a number you have to convert it. The code in the next cells convert the `value` property. "
   ]
  },
  {
   "cell_type": "code",
   "execution_count": null,
   "metadata": {
    "deletable": false,
    "editable": false,
    "tags": []
   },
   "outputs": [],
   "source": [
    "int_text = int(text.value)\n",
    "print(\"As an integer:\", int_text)"
   ]
  },
  {
   "cell_type": "code",
   "execution_count": null,
   "metadata": {
    "deletable": false,
    "editable": false,
    "tags": []
   },
   "outputs": [],
   "source": [
    "float_text = float(text.value)\n",
    "print(\"As a float:\", float_text)"
   ]
  },
  {
   "attachments": {},
   "cell_type": "markdown",
   "metadata": {},
   "source": [
    "## Numerical Input \n",
    "\n",
    "If your program needs an integer or a floating point number from a range of numbers you can use a slider:"
   ]
  },
  {
   "cell_type": "code",
   "execution_count": null,
   "metadata": {
    "deletable": false,
    "editable": false,
    "tags": []
   },
   "outputs": [],
   "source": [
    "islider = ipywidgets.IntSlider(\n",
    "    min=0,\n",
    "    max=10,\n",
    "    description='Integer:',\n",
    ")\n",
    "display(islider)"
   ]
  },
  {
   "cell_type": "code",
   "execution_count": null,
   "metadata": {
    "deletable": false,
    "editable": false,
    "tags": []
   },
   "outputs": [],
   "source": [
    "fslider = ipywidgets.FloatSlider(\n",
    "    min=0,\n",
    "    max=10.0,\n",
    "    description='Float:',\n",
    ")\n",
    "display(fslider)"
   ]
  },
  {
   "attachments": {},
   "cell_type": "markdown",
   "metadata": {},
   "source": [
    "It's also handy to have a text box that only numbers can be typed in to. That saves you having to do a conversion:"
   ]
  },
  {
   "cell_type": "code",
   "execution_count": null,
   "metadata": {
    "deletable": false,
    "editable": false,
    "tags": []
   },
   "outputs": [],
   "source": [
    "itext = ipywidgets.IntText(\n",
    "    description='Integer:',\n",
    ")\n",
    "display(itext)"
   ]
  },
  {
   "cell_type": "code",
   "execution_count": null,
   "metadata": {
    "deletable": false,
    "editable": false,
    "tags": []
   },
   "outputs": [],
   "source": [
    "ftext = ipywidgets.FloatText(\n",
    "    description='Float:',\n",
    ")\n",
    "display(ftext)"
   ]
  },
  {
   "attachments": {},
   "cell_type": "markdown",
   "metadata": {},
   "source": [
    "## Selection \n",
    "\n",
    "Sometimes you want the user to select between a confined set of choices. There are several graphical ways to do that. Each of the widgets in this section works the same way as the others. The difference is what the user sees."
   ]
  },
  {
   "cell_type": "code",
   "execution_count": null,
   "metadata": {
    "deletable": false,
    "editable": false,
    "tags": []
   },
   "outputs": [],
   "source": [
    "dd = ipywidgets.Dropdown(\n",
    "    description='City:',\n",
    "    options=['Capitola', 'Santa Cruz', 'Scotts Valley', 'Watsonville'],\n",
    ")\n",
    "display(dd)"
   ]
  },
  {
   "cell_type": "code",
   "execution_count": null,
   "metadata": {
    "deletable": false,
    "editable": false,
    "tags": []
   },
   "outputs": [],
   "source": [
    "rb = ipywidgets.RadioButtons(\n",
    "    description='City:',\n",
    "    options=['Capitola', 'Santa Cruz', 'Scotts Valley', 'Watsonville'],\n",
    ")\n",
    "display(rb)"
   ]
  },
  {
   "cell_type": "code",
   "execution_count": null,
   "metadata": {
    "deletable": false,
    "editable": false,
    "tags": []
   },
   "outputs": [],
   "source": [
    "se = ipywidgets.Select(\n",
    "    description='City:',\n",
    "    options=['Capitola', 'Santa Cruz', 'Scotts Valley', 'Watsonville'],\n",
    ")\n",
    "display(se)"
   ]
  },
  {
   "cell_type": "code",
   "execution_count": null,
   "metadata": {
    "deletable": false,
    "editable": false,
    "tags": []
   },
   "outputs": [],
   "source": [
    "tb = ipywidgets.ToggleButtons(\n",
    "    description='City:',\n",
    "    options=['Capitola', 'Santa Cruz', 'Scotts Valley', 'Watsonville'],\n",
    ")\n",
    "display(tb)"
   ]
  },
  {
   "attachments": {},
   "cell_type": "markdown",
   "metadata": {},
   "source": [
    "## Miscellaneous Choices \n",
    "\n",
    "There are some good complex widgets available that do useful things such as asking the user for a date or a color. "
   ]
  },
  {
   "cell_type": "code",
   "execution_count": null,
   "metadata": {
    "deletable": false,
    "editable": false,
    "tags": []
   },
   "outputs": [],
   "source": [
    "date = ipywidgets.DatePicker(\n",
    "    description='Birthday:',\n",
    ")\n",
    "display(date)"
   ]
  },
  {
   "cell_type": "code",
   "execution_count": null,
   "metadata": {
    "deletable": false,
    "editable": false,
    "tags": []
   },
   "outputs": [],
   "source": [
    "color = ipywidgets.ColorPicker(\n",
    "    description='Pick a color:',\n",
    ")\n",
    "display(color)"
   ]
  },
  {
   "attachments": {},
   "cell_type": "markdown",
   "metadata": {},
   "source": [
    "## Widget Layouts \n",
    "\n",
    "I will use widgets as inputs to your programs. The `VBox` and `HBox` layouts let me create widget panels for you so that the widgets are layed out nicely. You can use them yourself, though it's not necessary. "
   ]
  },
  {
   "cell_type": "code",
   "execution_count": null,
   "metadata": {},
   "outputs": [],
   "source": [
    "from ipywidgets import VBox, HBox \n",
    "\n",
    "VBox([\n",
    "    HBox([text]),\n",
    "    HBox([islider, fslider]),\n",
    "    HBox([itext, ftext]),\n",
    "    HBox([dd, rb]),\n",
    "    HBox([se, tb]), \n",
    "    HBox([date, color]),\n",
    "])"
   ]
  }
 ],
 "metadata": {
  "kernelspec": {
   "display_name": "Python 3 (ipykernel)",
   "language": "python",
   "name": "python3"
  },
  "language_info": {
   "codemirror_mode": {
    "name": "ipython",
    "version": 3
   },
   "file_extension": ".py",
   "mimetype": "text/x-python",
   "name": "python",
   "nbconvert_exporter": "python",
   "pygments_lexer": "ipython3",
   "version": "3.10.6"
  }
 },
 "nbformat": 4,
 "nbformat_minor": 4
}
