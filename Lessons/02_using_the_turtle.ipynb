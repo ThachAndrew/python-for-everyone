{
 "cells": [
  {
   "cell_type": "markdown",
   "metadata": {},
   "source": [
    "# Using The `Turtle` \n",
    "\n",
    "The `Turtle` is inspired by the [Logo programming language](https://en.wikipedia.org/wiki/Logo_(programming_language)). It lets you draw lines and shapes by moving a pen that looks like a turtle around a canvas. This notebook will show you all of the things you can do with the turtle. Before the turtle can be used you have to run the code in the cell below:"
   ]
  },
  {
   "cell_type": "code",
   "execution_count": null,
   "metadata": {},
   "outputs": [],
   "source": [
    "import jupyter_turtle.turtle as tu"
   ]
  },
  {
   "cell_type": "markdown",
   "metadata": {},
   "source": [
    "You only have to run the `import` cell once unless you restart the Python kernel. "
   ]
  },
  {
   "cell_type": "markdown",
   "metadata": {
    "tags": []
   },
   "source": [
    "## Creating a Canvas\n",
    "\n",
    "The Turtle draws on a canvas. The canvas won't show unless you ask for it. The statement `tu.new()` says to display a new canvas you created. If you forget to run `tu.new()` then the turtle commands will operate on the last canvas you created. "
   ]
  },
  {
   "cell_type": "code",
   "execution_count": null,
   "metadata": {},
   "outputs": [],
   "source": [
    "tu.new()"
   ]
  },
  {
   "cell_type": "markdown",
   "metadata": {},
   "source": [
    "## Drawing Lines \n",
    "\n",
    "Think of the turtle as having a pen tied to its tail. When the turtle moves the pen draws a line. The `move` function moves the turtle. Later you'll see how the turtle can pick up and put down the pen so that it's possible to move without drawing a line."
   ]
  },
  {
   "cell_type": "code",
   "execution_count": null,
   "metadata": {},
   "outputs": [],
   "source": [
    "tu.new()\n",
    "tu.move(100)"
   ]
  },
  {
   "cell_type": "markdown",
   "metadata": {},
   "source": [
    "You can also move in reverse."
   ]
  },
  {
   "cell_type": "code",
   "execution_count": null,
   "metadata": {},
   "outputs": [],
   "source": [
    "tu.new()\n",
    "tu.move(100) # Go forward 100 steps.\n",
    "tu.move(-50) # Go back 50 steps."
   ]
  },
  {
   "cell_type": "markdown",
   "metadata": {},
   "source": [
    "## Turns\n",
    "\n",
    "The `turn` function turns the turtle. The number provided to the `turn` function is the angle to turn in degrees. A positive angle is a left turn and a negative angle is a right turn. "
   ]
  },
  {
   "cell_type": "code",
   "execution_count": null,
   "metadata": {},
   "outputs": [],
   "source": [
    "tu.new()\n",
    "tu.move(30)\n",
    "tu.turn(45) # Turn left\n",
    "tu.move(30)\n",
    "tu.turn(-45) # Turn right\n",
    "tu.move(30)"
   ]
  },
  {
   "cell_type": "markdown",
   "metadata": {},
   "source": [
    "## Picking Up and Putting Down the Pen \n",
    "\n",
    "You can control the drawing by picking up the pen. When the pen is up the turtle moves without drawing a line. When you want to draw lines again you can put the pen back down. The `pen_up` and `pen_down` functions control the pen."
   ]
  },
  {
   "cell_type": "code",
   "execution_count": null,
   "metadata": {},
   "outputs": [],
   "source": [
    "tu.new()\n",
    "tu.move(30)\n",
    "tu.pen_up()    # Pick up the pen\n",
    "tu.move(20)    # There will be no line from this draw.\n",
    "tu.pen_down()  # Put down the pen\n",
    "tu.move(30)"
   ]
  },
  {
   "cell_type": "markdown",
   "metadata": {},
   "source": [
    "## The Color and Width of the Pen \n",
    "\n",
    "The `move` and `turn` commands for the turtle are called *functions*. Functions always have the parenthesis `(` and `)` where you give a number for the amount to move or turn. The turtle also has *properties*. A property is set using the equal sign (`=`). The color and width of the pen are properties. Here's how to set them:"
   ]
  },
  {
   "cell_type": "code",
   "execution_count": null,
   "metadata": {},
   "outputs": [],
   "source": [
    "tu.new()\n",
    "tu.width = 30      # Draw a 30 pixel line.  \n",
    "tu.color = 'red'   # Draw red\n",
    "tu.move(150)\n",
    "tu.turn(120)\n",
    "tu.color = 'green' # Draw green\n",
    "tu.move(150)\n",
    "tu.turn(120)\n",
    "tu.color = 'blue'  # Draw blue\n",
    "tu.move(150)\n",
    "tu.turn(120)"
   ]
  },
  {
   "cell_type": "markdown",
   "metadata": {},
   "source": [
    "You can also print the properties of the turtle like this:"
   ]
  },
  {
   "cell_type": "code",
   "execution_count": null,
   "metadata": {},
   "outputs": [],
   "source": [
    "print(\"The current color is:\", tu.color)\n",
    "print(\"The current width is:\", tu.width)"
   ]
  },
  {
   "cell_type": "markdown",
   "metadata": {},
   "source": [
    "The pen can use any colors that are valid in HTML. You can see HTML color codes on [this page](https://htmlcolorcodes.com/)."
   ]
  },
  {
   "cell_type": "code",
   "execution_count": null,
   "metadata": {},
   "outputs": [],
   "source": [
    "tu.new()\n",
    "tu.width = 30         # Draw a 30px line.  \n",
    "tu.color = 'fuchsia'  # Draw a fuchsia \n",
    "tu.move(150)\n",
    "tu.turn(120)\n",
    "tu.color = '#ff1010'  # Use #RRGGBB notation. \n",
    "tu.move(150)\n",
    "tu.turn(120)\n",
    "tu.color = '#00ff00'  \n",
    "tu.move(150)\n",
    "tu.turn(120)"
   ]
  },
  {
   "cell_type": "markdown",
   "metadata": {},
   "source": [
    "## Moving the Turtle to Absolute Coordinates \n",
    "\n",
    "The `pos` property tells you where the turtle is and can also move the turtle to a particular location. If the pen is down it will draw a line on the path to that location. If the pen is up no line will be drawn. "
   ]
  },
  {
   "cell_type": "code",
   "execution_count": null,
   "metadata": {},
   "outputs": [],
   "source": [
    "tu.new()\n",
    "print(\"The turtle is located at:\", tu.pos)\n",
    "tu.pos = (-100, -100)\n",
    "tu.pos = (100, -100)\n",
    "tu.pos = (100, 100)\n",
    "tu.pos = (-100, 100)\n",
    "print(\"The turtle is now at:\", tu.pos)"
   ]
  },
  {
   "cell_type": "markdown",
   "metadata": {},
   "source": [
    "## Controlling the Pen's Heading \n",
    "\n",
    "The `heading` property controls where the turtle is facing. The heading is in degrees. The table shows you how to convert degrees into directions:\n",
    "\n",
    "| `heading` | Facing | \n",
    "| --- | --- | \n",
    "| 0 | Up | \n",
    "| 90 | Left | \n",
    "| 180 | Down | \n",
    "| 270 | Right | \n",
    "\n",
    "Here's an example of the `heading` property. "
   ]
  },
  {
   "cell_type": "code",
   "execution_count": null,
   "metadata": {},
   "outputs": [],
   "source": [
    "tu.new()\n",
    "tu.heading = 90 # Face left \n",
    "tu.move(100)\n",
    "tu.heading = 180 # Face down\n",
    "tu.move(100)\n",
    "print(\"My current heading is:\", tu.heading)"
   ]
  },
  {
   "cell_type": "markdown",
   "metadata": {},
   "source": [
    "## Writing Text \n",
    "\n",
    "The turtle can write text. The text position and orientation is based on the turtle. "
   ]
  },
  {
   "cell_type": "code",
   "execution_count": null,
   "metadata": {},
   "outputs": [],
   "source": [
    "tu.new()\n",
    "tu.pen_up()\n",
    "tu.write(\"Python\")\n",
    "tu.turn(30)\n",
    "tu.move(-30)\n",
    "tu.write(\"is\")\n",
    "tu.turn(30)\n",
    "tu.move(-30)\n",
    "tu.write(\"fun\")\n",
    "tu.move(-30)"
   ]
  },
  {
   "cell_type": "markdown",
   "metadata": {},
   "source": [
    "## Showing and Hiding the Turtle\n",
    "\n",
    "If you don't want the turtle to get in the way of your drawing you can use the `hide` function to make it invisible. The `show` function makes the turtle visible again. "
   ]
  },
  {
   "cell_type": "code",
   "execution_count": null,
   "metadata": {},
   "outputs": [],
   "source": [
    "tu.new()\n",
    "tu.move(100)\n",
    "tu.hide()"
   ]
  },
  {
   "cell_type": "markdown",
   "metadata": {},
   "source": [
    "## Drawing a Polygon\n",
    "\n",
    "The `polygon` function fills a shape given absolute coordinates. Unlike other drawing functions, `polygon` does not depend on the position or orientation of the turtle. "
   ]
  },
  {
   "cell_type": "code",
   "execution_count": null,
   "metadata": {},
   "outputs": [],
   "source": [
    "tu.new()\n",
    "tu.polygon([(0,0), (0,100), (100,100), (100,0)])"
   ]
  },
  {
   "cell_type": "markdown",
   "metadata": {},
   "source": [
    "Polygons can be hollow or filled. The `fill` property controls the fill color."
   ]
  },
  {
   "cell_type": "code",
   "execution_count": null,
   "metadata": {},
   "outputs": [],
   "source": [
    "tu.new()\n",
    "tu.fill = 'blue'\n",
    "tu.polygon([(0,0), (0,100), (100,100), (100,0)])\n",
    "\n",
    "tu.fill = None # Set the fill to None (the default) for hollow polygons.\n",
    "tu.polygon([(0,0), (0,-100), (-100,-100), (-100,0)])"
   ]
  },
  {
   "cell_type": "markdown",
   "metadata": {},
   "source": [
    "## Setting a Background Image \n",
    "\n",
    "You can set a custom background image for the arena. The image is automatically scaled to the size of the arena. "
   ]
  },
  {
   "cell_type": "code",
   "execution_count": null,
   "metadata": {},
   "outputs": [],
   "source": [
    "tu.new()\n",
    "tu.background('../Labs/files/maze.png')"
   ]
  },
  {
   "cell_type": "markdown",
   "metadata": {},
   "source": [
    "The background image can be changed using the `background` function. "
   ]
  },
  {
   "cell_type": "markdown",
   "metadata": {},
   "source": [
    "## Controlling the Shape of the Arena \n",
    "\n",
    "The `size` property controls the size of the arena. The default arena size is 600 by 300 pixels. When you resize the arena the turtle is automatically moved to the middle:"
   ]
  },
  {
   "cell_type": "code",
   "execution_count": null,
   "metadata": {},
   "outputs": [],
   "source": [
    "tu.new()\n",
    "tu.size = (100, 100)\n",
    "tu.move(20)\n",
    "tu.turn(-120)\n",
    "tu.move(20)\n",
    "tu.turn(-120)\n",
    "tu.move(20)"
   ]
  },
  {
   "cell_type": "markdown",
   "metadata": {
    "tags": []
   },
   "source": [
    "## Face Recognition \n",
    "\n",
    "The turtle is capable of recognizing faces in the image loaded into the canvas. The `find_face` function returns a `list` with information about each of the faces that it found. Each list contains a `dict` with landmarks in the face."
   ]
  },
  {
   "cell_type": "code",
   "execution_count": null,
   "metadata": {},
   "outputs": [],
   "source": [
    "tu.new()\n",
    "tu.background(\"images/forrest_gump.jpeg\")\n",
    "\n",
    "faces = tu.find_faces()\n",
    "face = faces[0] # The first face in the list \n",
    "\n",
    "# Draw a box around the face. The top/bottom, left_right\n",
    "# landmarks show us where the face was found and contain \n",
    "# a single point.\n",
    "tu.width = 2\n",
    "tu.color = 'yellow'\n",
    "tu.pen_up()\n",
    "tu.pos = face['top_right']\n",
    "tu.pen_down()\n",
    "tu.pos = face['top_left']\n",
    "tu.pos = face['bottom_left']\n",
    "tu.pos = face['bottom_right']\n",
    "tu.pos = face['top_right']\n",
    "\n",
    "# The feature landmarks are outlines of facial features. \n",
    "tu.color = 'red'\n",
    "tu.fill = 'orange'\n",
    "tu.polygon(face['bottom_lip'])\n",
    "tu.polygon(face['top_lip'])"
   ]
  },
  {
   "cell_type": "markdown",
   "metadata": {
    "tags": []
   },
   "source": [
    "## Getting Help \n",
    "\n",
    "The `help` function in Python can show you the documentation for an object like the pen. "
   ]
  },
  {
   "cell_type": "code",
   "execution_count": null,
   "metadata": {},
   "outputs": [],
   "source": [
    "help(tu)"
   ]
  }
 ],
 "metadata": {
  "interpreter": {
   "hash": "e545cfc6c92b001762a53a61423c49d13f273f2cd05f0ba531f4055e901e6403"
  },
  "kernelspec": {
   "display_name": "Python 3 (ipykernel)",
   "language": "python",
   "name": "python3"
  },
  "language_info": {
   "codemirror_mode": {
    "name": "ipython",
    "version": 3
   },
   "file_extension": ".py",
   "mimetype": "text/x-python",
   "name": "python",
   "nbconvert_exporter": "python",
   "pygments_lexer": "ipython3",
   "version": "3.10.6"
  }
 },
 "nbformat": 4,
 "nbformat_minor": 4
}
