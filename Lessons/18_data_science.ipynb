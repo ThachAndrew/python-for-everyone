{
 "cells": [
  {
   "attachments": {},
   "cell_type": "markdown",
   "id": "a4354faa-03f9-4220-b0c6-a1f235ee70c4",
   "metadata": {},
   "source": [
    "# Data Science \n",
    "\n",
    "According to [Wikipedia](https://en.wikipedia.org/wiki/Data_science): \n",
    "\n",
    "> Data science is an interdisciplinary field that uses scientific methods, processes, algorithms and systems to extract knowledge and insights from structured and unstructured data, and apply knowledge and actionable insights from data across a broad range of application domains. Data science is related to data mining, machine learning and big data.\n",
    "\n",
    "Bringing data to life with graphs and analysis is what makes Jupyter so special. In this lession you'll get an introduction to `Pandas` a library for importing, processing and graphing data. \n",
    "\n",
    "> Get started with Pandas using the Pandas tutorials:\n",
    ">\n",
    "> https://pandas.pydata.org/docs/getting_started/intro_tutorials/index.html"
   ]
  },
  {
   "attachments": {},
   "cell_type": "markdown",
   "id": "26b92dee-cef2-4176-91f4-c915613bc5d7",
   "metadata": {},
   "source": [
    "## Tables \n",
    "\n",
    "Data organized into tables (or *tabular* data) is a convenient and powerful way to represent information about a group of related items. Tables consist of rows that each represent one *entity* and columns that are *attributes* of the entity. \n",
    "\n",
    "For example, let's consider the MLB Player dataset from a previous lesson:"
   ]
  },
  {
   "cell_type": "code",
   "execution_count": null,
   "id": "d6d696fb-91a9-4951-91b3-e9cd7a6ed804",
   "metadata": {
    "deletable": false,
    "editable": false,
    "tags": []
   },
   "outputs": [],
   "source": [
    "import pandas \n",
    "df = pandas.read_csv('files/mlb_players.csv', index_col='Name')\n",
    "df"
   ]
  },
  {
   "attachments": {},
   "cell_type": "markdown",
   "id": "493c66ca-a252-41ba-85a6-61cac0ec34e7",
   "metadata": {},
   "source": [
    "In the example above each row represents one player and the columns are the pieces of information about that player. Columns have a data type, just like variables. You can have as many columns and rows as you like, within the limit of the computer's memory. "
   ]
  },
  {
   "attachments": {},
   "cell_type": "markdown",
   "id": "4f1cdad0-7d21-431b-80b2-1856ccbac445",
   "metadata": {},
   "source": [
    "## The DataFrame \n",
    "\n",
    "The heart of the Pandas library is the DataFrame. The DataFrame represents a table and gives you access to the algorithms you learned in the last lesson without having to write the `for` loops yourself. The algorithms in Pandas are highly optimized and written in the C programming language so they run faster than anything you could implement yourself in Python. \n",
    "\n",
    "![Data frame](images/01_table_dataframe.svg)\n",
    "\n",
    "But the algorithms you learned don't work on tables, they work on lists. Getting a list, called a `Series`, from a table is simple: Just select the **column** you want to turn into a list. \n",
    "\n",
    "![Series](images/01_table_series.svg)\n",
    "\n",
    "For example, let's get the height of every player:\n",
    "\n",
    "```python\n",
    "df['Height']\n",
    "```\n",
    "\n",
    "Try the example:"
   ]
  },
  {
   "cell_type": "code",
   "execution_count": null,
   "id": "bc8ca1fe-c150-40db-84a6-e0c3f6124f6f",
   "metadata": {},
   "outputs": [],
   "source": []
  },
  {
   "attachments": {},
   "cell_type": "markdown",
   "id": "8e465fd8-cdaf-445b-b074-9a8f6061b12a",
   "metadata": {},
   "source": [
    "In order to stay fast, Pandas only supports certain algorithms, like taking the sum of a column. You can write your own with a `for` loop but that will be much slower.  "
   ]
  },
  {
   "attachments": {},
   "cell_type": "markdown",
   "id": "2a4fdbb4-437b-4e84-9608-80d1e1b0160a",
   "metadata": {},
   "source": [
    "## Mapping \n",
    "\n",
    "In Pandas the mapping operations work on a `Series` and create a new `Series`. Most of the time you want to add the new series to the original `DataFrame` so that you have a *derived column*. Derived columns can make your data easier to work with.\n",
    "\n",
    "![New column](images/05_newcolumn_1.svg)\n",
    "\n",
    "The `DataFrame` and `Series` support all of Python's basic operators. That makes it easy to do mapping of one or more columns. For example to translate the weight of each player from pounds to kilograms:\n",
    "\n",
    "```python\n",
    "df['Weight'] / 2.205\n",
    "```\n",
    "\n",
    "Try it:"
   ]
  },
  {
   "cell_type": "code",
   "execution_count": null,
   "id": "c67c8963-74e5-426e-9485-d9ba949191d5",
   "metadata": {},
   "outputs": [],
   "source": []
  },
  {
   "attachments": {},
   "cell_type": "markdown",
   "id": "e705472f-cb6c-445f-ab52-c6c5c80d750c",
   "metadata": {},
   "source": [
    "If you want to create a new column for the mapped series, it's easy: \n",
    "\n",
    "```python\n",
    "df['Weight (kg)'] = df['Weight'] / 2.205\n",
    "df['Height (m)'] = df['Height'] / 39.37\n",
    "df\n",
    "```\n",
    "\n",
    "Now the `DataFrame` has additional columns for metric height and weight."
   ]
  },
  {
   "cell_type": "code",
   "execution_count": null,
   "id": "29fce699-150c-4883-8331-472931e5daec",
   "metadata": {},
   "outputs": [],
   "source": []
  },
  {
   "attachments": {},
   "cell_type": "markdown",
   "id": "91065f0e-481e-444e-8a01-3a665c7ae5fe",
   "metadata": {},
   "source": [
    "Mapping functions can use more than one column in the calculation! For example, you can calculate the Body Mass Index (BMI) of each of the players. The BMI is defined to be:\n",
    "\n",
    "$$BMI = kg / m^2$$\n",
    "\n",
    "To calculate the BMI:\n",
    "\n",
    "```python \n",
    "df['BMI'] = df['Weight (kg)'] / (df['Height (m)'] ** 2)\n",
    "df\n",
    "```\n",
    "\n",
    "Try adding the BMI column:"
   ]
  },
  {
   "cell_type": "code",
   "execution_count": null,
   "id": "e3f45902-a407-4084-b487-69752a23b8a4",
   "metadata": {},
   "outputs": [],
   "source": []
  },
  {
   "attachments": {},
   "cell_type": "markdown",
   "id": "6ce7ea5a-645c-4d66-9dcd-6f1c097e2948",
   "metadata": {},
   "source": [
    "Only basic math and logic funcitons work like you would expect when you perform a mapping function. If you want a mapping that's more complicated, for example one that uses an f-string, you should create a function that takes a column or columns as arguments and returns the result.  \n",
    "\n",
    "For example:\n",
    "\n",
    "```python \n",
    "def feet_inches(inches):\n",
    "    \"\"\"Return a string in feet and inches from inches.\"\"\"\n",
    "    return f'''{inches // 12}'{inches % 12}\"'''\n",
    "\n",
    "df['Height'].apply(feet_inches)\n",
    "```"
   ]
  },
  {
   "cell_type": "code",
   "execution_count": null,
   "id": "8d4a3695-7415-490c-bebd-d255799c366a",
   "metadata": {},
   "outputs": [],
   "source": []
  },
  {
   "attachments": {},
   "cell_type": "markdown",
   "id": "22b82194-cce1-44b5-ade3-c80e5318dfec",
   "metadata": {},
   "source": [
    "## Filtering \n",
    "\n",
    "Filtering reduces the rows in a `DataFrame` or `Series` to just the ones of interest. \n",
    "\n",
    "![Filtering rows](images/03_subset_rows.svg)\n",
    "\n",
    "Filtering works on either a `Series` or a `DataFrame`. When filtering a `Series` the algorithm works just like the filters you implemented. For example if you wanted to just show player heights over 80 inches:\n",
    "\n",
    "```python \n",
    "df[df['Height'] > 80]\n",
    "```\n",
    "\n",
    "Try the example:"
   ]
  },
  {
   "cell_type": "code",
   "execution_count": null,
   "id": "00349bef-1fc7-4ecc-9bf3-fd87f03eb44e",
   "metadata": {},
   "outputs": [],
   "source": []
  },
  {
   "attachments": {},
   "cell_type": "markdown",
   "id": "b4179819-2a7a-4941-808d-2be894ba8257",
   "metadata": {},
   "source": [
    "**Look strange?** The Pandas library takes advantage of advanced features in Python. That sometimes makes it hard to read. In the example above the square brackets are the *index* operator. Inside of them there's a filtering expression that creates a new series of `True` or `False`. See for yourself: \n",
    "\n",
    "```python \n",
    "df['Height'] > 80\n",
    "```\n",
    "\n",
    "Try it:"
   ]
  },
  {
   "cell_type": "code",
   "execution_count": null,
   "id": "b16f824a-6719-492f-9b6f-76909ffca1ba",
   "metadata": {},
   "outputs": [],
   "source": []
  },
  {
   "attachments": {},
   "cell_type": "markdown",
   "id": "f6d98559-c2a0-4eb7-a3b3-0c0909e0f54a",
   "metadata": {},
   "source": [
    "**Awesome!**"
   ]
  },
  {
   "attachments": {},
   "cell_type": "markdown",
   "id": "01896466-bb04-4363-8bcc-56536e0ee6a7",
   "metadata": {},
   "source": [
    "## Reduction \n",
    "\n",
    "Reduction generates a single value from a `Series`. \n",
    "\n",
    "![Aggregation](images/06_aggregate.svg) \n",
    "\n",
    "Pandas supports many reduction operations. Here are examples:\n",
    "\n",
    "| Reduction function | Example | Description | \n",
    "| ---- | --- | --- | \n",
    "| `sum()` | `df['Height'].sum()` | Return the sum of all values. | \n",
    "| `median()` | `df['Height'].median()` | Return the median of values. | \n",
    "| `min()` | `df['Height'].min()` | Return the minimum value. | \n",
    "| `max()` | `df['Height'].min()` | Return the maximum value. | \n",
    "| `len()` | `len(df['Height'])` | Return the number of values in the series. | \n",
    "\n",
    "Try the reduction functions in the next cell:\n"
   ]
  },
  {
   "cell_type": "code",
   "execution_count": null,
   "id": "6ab00ec1-6180-43ee-92ac-9b99f38ed05d",
   "metadata": {},
   "outputs": [],
   "source": []
  },
  {
   "attachments": {},
   "cell_type": "markdown",
   "id": "86b34456-ceb4-4ee9-ad98-f312ae823d5a",
   "metadata": {},
   "source": [
    "If you're taking or are going to take statistics here's a great function for you. The `describe` function computes summary statistics on all numerical columns:\n",
    "\n",
    "```python\n",
    "df.describe()\n",
    "```\n",
    "\n",
    "Try it:"
   ]
  },
  {
   "cell_type": "code",
   "execution_count": null,
   "id": "13a8fa06-28b4-48e3-a9e6-1c08dc01532e",
   "metadata": {},
   "outputs": [],
   "source": []
  },
  {
   "attachments": {},
   "cell_type": "markdown",
   "id": "b217b6d8-9dce-4a8b-8624-fac2f2483a29",
   "metadata": {},
   "source": [
    "## Plotting \n",
    "\n",
    "A picture is worth 1,000 words! Pandas makes it easy to plot the data in a `Series` or multiple series in a `DataFrame`. There are also many kinds of plots available (too many to cover here). \n",
    "\n",
    "![Plotting](images/04_plot_overview.svg) \n",
    "\n",
    "The data we have doesn't really have an X-axis so we'll start with a density plot. A histogram shows us how many people fall into \"bins\" defined by a range of a certain attribute. Histograms of measures like BMI usually result in a *bell curve*. \n",
    "\n",
    "To make a histogram:\n",
    "\n",
    "```python \n",
    "df['BMI'].plot.hist()\n",
    "```\n",
    "\n",
    "Is the plot a bell curve?"
   ]
  },
  {
   "cell_type": "markdown",
   "id": "61a47ebc-8739-4741-b742-e3653963f696",
   "metadata": {},
   "source": [
    "## Complex Filters \n",
    "\n",
    "Sometimes you need to filter based on complex criteria. This is where Pandas can get a little weird. It's important to remember that the filtering algorithm is done by creating a `Series` that contains only `True` and `False` values.\n",
    "\n",
    "The MLB player data set has `Starting Pitcher` and `Relief Pitcher` as positions. If you want to show all pitchers you might be tempted to use the `endswith()` function, but you can't because `endswith` is a function of `str`, not a function of `Series`.\n",
    "\n",
    "```python \n",
    "# ERROR: endswith() isn't a function of a Series\n",
    "pitchers = df['Position'].endswith(\"Pitcher\")\n",
    "```\n",
    "\n",
    "The `in` operator doesn't work either:\n",
    "\n",
    "```python\n",
    "# ERROR: The in operator doesn't work on a Series\n",
    "pitchers = \"Pitcher\" in df[\"Position\"]\n",
    "```\n",
    "\n",
    "We can use the logical or but the `or` operator doesn't work as expected:\n",
    "\n",
    "```python\n",
    "# ERROR: The or operator doesn't work on a Series:\n",
    "pitchers = (df[\"Position\"] == \"Starting Pitcher\") or (df[\"Position\"] == \"Relief Pitcher\") \n",
    "```\n",
    "\n",
    "In oder to do a logical `or` we have to use Python's bitwise or operator: `|`:\n",
    "\n",
    "```python\n",
    "pitchers = (df[\"Position\"] == \"Starting Pitcher\") | (df[\"Position\"] == \"Relief Pitcher\")\n",
    "df[pitchers]\n",
    "```\n",
    "\n",
    "**The parenthesis are mandatory because `==` has a lower precedence than `|`.**. It's pretty complex syntax to remember, but there's a better way."
   ]
  },
  {
   "cell_type": "code",
   "execution_count": null,
   "metadata": {},
   "outputs": [],
   "source": []
  },
  {
   "cell_type": "markdown",
   "metadata": {},
   "source": [
    "The simplest way to do a complex filter is to use the `apply()` function. Since `apply()` works on a series and produces a series it's possible to write a function that returns `True` or `False` to create a series used for filtering. The `is_pitcher` function takes a cell value as an argument. The `Position` column is made of `str` so apply assumes that it's argument is of type `str`:\n",
    "\n",
    "```python\n",
    "def is_pitcher(position):\n",
    "    return \"Pitcher\" in position\n",
    "\n",
    "pitchers = df[\"Position\"].apply(is_pitcher)\n",
    "df[pitchers]\n",
    "```"
   ]
  },
  {
   "cell_type": "code",
   "execution_count": null,
   "metadata": {},
   "outputs": [],
   "source": []
  },
  {
   "cell_type": "markdown",
   "metadata": {},
   "source": [
    "If we want to see *non-pitchers* we can reverse the `pitchers` Series using the bitwise `not` operator, `~`. Here are all the non-pitchers:\n",
    "\n",
    "```python\n",
    "df[~pitchers]\n",
    "```\n"
   ]
  },
  {
   "cell_type": "code",
   "execution_count": null,
   "metadata": {},
   "outputs": [],
   "source": []
  },
  {
   "cell_type": "markdown",
   "metadata": {},
   "source": [
    "The `apply()` function also works on a `DataFrame`. The `axis=1` argument says to run `tall_pitcher` once for each row, rather than the default for once for each column. Using `apply` on a `DataFrame` enables filtering on multiple columns:\n",
    "\n",
    "```python\n",
    "def tall_pitcher(row):\n",
    "    return \"Pitcher\" in row['Position'] and row['Height'] > 78\n",
    "\n",
    "df[df.apply(tall_pitcher, axis=1)]\n",
    "```\n",
    "\n",
    "Try it:"
   ]
  },
  {
   "cell_type": "code",
   "execution_count": null,
   "metadata": {},
   "outputs": [],
   "source": []
  },
  {
   "cell_type": "markdown",
   "metadata": {},
   "source": [
    "\n",
    "One of the stats doesn't make a bell curve! What happens if we plot pitchers separately from other players?\n",
    "\n",
    "```python\n",
    "display(df[pitchers]['Height'].plot.hist())\n",
    "display(df[~pitchers]['Height'].plot.hist())\n",
    "```"
   ]
  },
  {
   "cell_type": "code",
   "execution_count": null,
   "metadata": {},
   "outputs": [],
   "source": []
  },
  {
   "attachments": {},
   "cell_type": "markdown",
   "id": "726337c8-e8ee-45f8-8b25-d3fec92f79d1",
   "metadata": {},
   "source": [
    "Pandas is huge and rich and there's a enough to learn to fill a whole 16-week class."
   ]
  }
 ],
 "metadata": {
  "kernelspec": {
   "display_name": "Python 3 (ipykernel)",
   "language": "python",
   "name": "python3"
  },
  "language_info": {
   "codemirror_mode": {
    "name": "ipython",
    "version": 3
   },
   "file_extension": ".py",
   "mimetype": "text/x-python",
   "name": "python",
   "nbconvert_exporter": "python",
   "pygments_lexer": "ipython3",
   "version": "3.10.12"
  }
 },
 "nbformat": 4,
 "nbformat_minor": 5
}
