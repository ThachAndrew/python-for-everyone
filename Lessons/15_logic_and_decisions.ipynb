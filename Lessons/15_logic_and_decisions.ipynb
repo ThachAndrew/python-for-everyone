{
 "cells": [
  {
   "cell_type": "markdown",
   "metadata": {},
   "source": [
    "# Logic and Decisions\n",
    "\n",
    "In this lesson we'll learn how programs make decisions and how you can write programs that respond to input in by running some statements and not others.\n",
    "\n",
    "## Making Decisions with `if`\n",
    "\n",
    "What if you wanted your code to do different things based on user input? For example, suppose you want to play a game that prints different things based on a choice. The `if` statement allows you to conditionally run Python statements. Here's a diagram of an `if` statement:\n",
    "\n",
    "![The if Statment](images/python_if_statement.png)\n",
    "\n",
    "The `if` statement conditionally runs instructions inside the body of the if statement. The code is only run if the condition evaluates to `True`. In other words, the `print` function in the picture may or may not run depending on the value of `number`. Let's start by making a widget for input:"
   ]
  },
  {
   "cell_type": "code",
   "execution_count": null,
   "metadata": {
    "deleteable": false,
    "editable": false,
    "tags": []
   },
   "outputs": [],
   "source": [
    "import ipywidgets\n",
    "number_widget = ipywidgets.IntText(description=\"Pick a number:\")\n",
    "display(number_widget)"
   ]
  },
  {
   "cell_type": "markdown",
   "metadata": {},
   "source": [
    "Now let's use an `if` statment to tell us when we've guessed the right number:\n",
    "\n",
    "```python\n",
    "if number_widget.value == 34: \n",
    "    print(\"That's right!\")\n",
    "```\n",
    "\n",
    "Enter the example code and make sure the indentation matches perfectly!"
   ]
  },
  {
   "cell_type": "code",
   "execution_count": null,
   "metadata": {},
   "outputs": [],
   "source": []
  },
  {
   "cell_type": "markdown",
   "metadata": {},
   "source": [
    "**Notice that you only see \"That's right!\" when the number in the widget is 34.** Try using the debugger and watch execution \"hop over\" the first `print` statement. \n",
    "\n",
    "The *condition* in the if statement is `number.value == 34`. When the condition is `True` the statements in the body of the `if` are executed, when the condition is `False` the statements are skipped. You can have as many statements as you like inside an `if` statement, even other `if` statements.\n",
    "\n",
    "### The `if` Condition \n",
    "\n",
    "The statement that follows the `if` keyword will be evaluated to `True` or `False`. While you're coding remember that the statement you write must be asking a question of some form. In the example above the code is asking \"if `number` is equal to `34`?\" There are many forms a question can take but they all have one thing in common: They will result in a `True` or `False` value. Here's a few examples of questions:\n",
    "\n",
    "> If `number` is less than or equal to `34`\n",
    "\n",
    "```python\n",
    "if number <= 34:\n",
    "```\n",
    "\n",
    "> If `number` modulus `2` is equal to `0` (in other words if `number` is even)?\n",
    "```python\n",
    "if (number % 2) == 0:\n",
    "```\n",
    "\n",
    "> If `course` is equal to the string `\"Python Programming for Everyone\"`\n",
    "```python\n",
    "if course == \"Python Programming for Everyone\":\n",
    "```\n",
    "\n",
    "> If `course` has the word `Python` anywhere in it\n",
    "```python\n",
    "if \"Python\" in course:\n",
    "```\n",
    "\n",
    "While your working on a program rembmer that you can print the conditional statement that you put in the `if` to see if what you get is `True` or `False`. For example:\n",
    "\n",
    "```python\n",
    "print(number <= 34)\n",
    "```\n",
    "\n",
    "If what you get is not a boolean it probably means you've made a mistake somewhere. "
   ]
  },
  {
   "cell_type": "markdown",
   "metadata": {},
   "source": [
    "## `if` with `else` \n",
    "\n",
    "The `else` statement lets you run code when something is *not* true. An `else` can only be used in combination with an `if`. Together they let you run one alternative no matter if the condition is `True` or `False`. Here's a diagram of the structure of an if/else pair. \n",
    "\n",
    "![code](images/python_if_and_else.png)\n",
    "\n",
    "When you have and if/else one of the alternatives will **always** be run depending on the condition. Let's display our number widget to try with `else`:"
   ]
  },
  {
   "cell_type": "code",
   "execution_count": null,
   "metadata": {
    "deleteable": false,
    "editable": false,
    "tags": []
   },
   "outputs": [],
   "source": [
    "display(number_widget)"
   ]
  },
  {
   "cell_type": "markdown",
   "metadata": {},
   "source": [
    "Now enter this example:\n",
    "\n",
    "```python\n",
    "if number_widget.value == 34:\n",
    "    print(\"That's right!\")\n",
    "else:\n",
    "    print(\"Guess again.\")\n",
    "```\n",
    "\n",
    "Notice that no condition follows the `else`. Whatever is in the `else` body is only run when the `if` condition is `False` and so it doesn't need any more information. Enter the example in the next cell:"
   ]
  },
  {
   "cell_type": "code",
   "execution_count": null,
   "metadata": {},
   "outputs": [],
   "source": []
  },
  {
   "cell_type": "markdown",
   "metadata": {},
   "source": [
    "## Asking Multiple Questions with `elif` \n",
    "\n",
    "In our guessing game there are really three conditions that we care about: \n",
    "\n",
    "1. The guess is correct \n",
    "1. The guess is too low \n",
    "1. The guess is too high\n",
    "\n",
    "Using `if` and `else` we've captured only two condtions: right and wrong. There's more we can do. When a program has to respond to a question with more than two alternatives the `elif` statement allows us to ask another question. The `elif` is short for \"else if\" and must follow an initial `if` statement and will only be run if the initial condition is `False`. \n",
    "\n",
    "Let's again display our number widget:"
   ]
  },
  {
   "cell_type": "code",
   "execution_count": null,
   "metadata": {
    "deleteable": false,
    "editable": false,
    "tags": []
   },
   "outputs": [],
   "source": [
    "display(number_widget)"
   ]
  },
  {
   "cell_type": "markdown",
   "metadata": {},
   "source": [
    "This example shows the best version of our game so far:\n",
    "\n",
    "```python\n",
    "if number_widget.value == 34:\n",
    "    print(\"That's right!\")\n",
    "elif number_widget.value < 34:\n",
    "    print(\"Too low!\")\n",
    "else:\n",
    "    print(\"Too high!\")\n",
    "```\n",
    "\n",
    "Enter this version of the game and try it:"
   ]
  },
  {
   "cell_type": "code",
   "execution_count": null,
   "metadata": {},
   "outputs": [],
   "source": []
  },
  {
   "cell_type": "markdown",
   "metadata": {},
   "source": [
    "Here are the rules to remember when you construct `if`, `elif`, and `else` statements:\n",
    "\n",
    "1. They always start with `if`\n",
    "1. `elif` is optional and you can have as many as you like. \n",
    "1. `else` is optional but it can only be at the end. \n",
    "1. In an `if`, `elif`, `else` structure **only one** alternative will execute. \n",
    "\n",
    "Let's finish off the game program by testing if the user entered a number between 1 and 100 like we asked:\n",
    "\n",
    "```python\n",
    "if number_widget.value == 34:\n",
    "    print(\"That's right!\")\n",
    "elif number_widget.value < 1 or number_widget.value > 100:\n",
    "    print(\"Bad guess.\")\n",
    "elif number_widget.value < 34:\n",
    "    print(\"Too low!\")\n",
    "else:\n",
    "    print(\"Too high!\")\n",
    "```\n",
    "\n",
    "Let's display our number box:"
   ]
  },
  {
   "cell_type": "code",
   "execution_count": null,
   "metadata": {
    "deleteable": false,
    "editable": false,
    "tags": []
   },
   "outputs": [],
   "source": [
    "display(number_widget)"
   ]
  },
  {
   "cell_type": "markdown",
   "metadata": {},
   "source": [
    "Enter the example into the next cell. "
   ]
  },
  {
   "cell_type": "code",
   "execution_count": null,
   "metadata": {},
   "outputs": [],
   "source": []
  },
  {
   "cell_type": "markdown",
   "metadata": {},
   "source": [
    "**Order matters!** Try reversing the two `elif` conditions in your code. What happens? "
   ]
  },
  {
   "cell_type": "markdown",
   "metadata": {},
   "source": [
    "## Logic \n",
    "\n",
    "Computers are machines that are built on their ability to perform logic. Logic functions are the basis of all mathematical computations and is built on three fundamental operations:\n",
    "\n",
    "* `and` \n",
    "* `or` \n",
    "* `not`\n",
    "\n",
    "Logic operations use `True` and `False` as input, rather than numbers. Logic operations are defined by *truth tables*. Truth tables show the output of a logic operation given all combinations of input. The next sections will define the three fundamental logic operations. "
   ]
  },
  {
   "cell_type": "markdown",
   "metadata": {},
   "source": [
    "### The `and` Operator\n",
    "\n",
    "The `and` operator returns `True` when both inputs are `True`, otherwise it returns `False`. The truth table for `and` is:\n",
    "\n",
    "| Input A | Input B | Output |\n",
    "| - | - | - |\n",
    "| `False` | `False` | `False` | \n",
    "| `False` | `True` | `False` | \n",
    "| `True` | `False` | `False` | \n",
    "| `True` | `True` | `True` | \n",
    "\n",
    "Use the cell below to test out the `and` operator:\n",
    "\n",
    "```python\n",
    "False and False\n",
    "```"
   ]
  },
  {
   "cell_type": "code",
   "execution_count": null,
   "metadata": {},
   "outputs": [],
   "source": []
  },
  {
   "cell_type": "markdown",
   "metadata": {},
   "source": [
    "### The `or` Operator\n",
    "\n",
    "The `or` operator returns `True` if either input is `True` and `False` when both inputs are `False`. The truth table for `or` is:\n",
    "\n",
    "| Input A | Input B | Output |\n",
    "| - | - | - |\n",
    "| `False` | `False` | `False` | \n",
    "| `False` | `True` | `True` | \n",
    "| `True` | `False` | `True` | \n",
    "| `True` | `True` | `True` | \n",
    "\n",
    "Use the cell below to test out the `or` operator:\n",
    "\n",
    "```python\n",
    "False or False\n",
    "```"
   ]
  },
  {
   "cell_type": "code",
   "execution_count": null,
   "metadata": {},
   "outputs": [],
   "source": []
  },
  {
   "cell_type": "markdown",
   "metadata": {},
   "source": [
    "### The `not` Operator \n",
    "\n",
    "The `not` operator returns the opposite of its input. Unlike `and` and `or`, `not` only takes a single argument. The truth table for `not` is:\n",
    "\n",
    "| Input | Output |\n",
    "| - | - |\n",
    "| `False` | `True` | \n",
    "| `True` | `False` | \n",
    "\n",
    "Use the cell below to test the `not` operator:\n",
    "\n",
    "```python\n",
    "not True\n",
    "```"
   ]
  },
  {
   "cell_type": "code",
   "execution_count": null,
   "metadata": {},
   "outputs": [],
   "source": []
  },
  {
   "cell_type": "markdown",
   "metadata": {},
   "source": [
    "### Using Logic \n",
    "\n",
    "In Lesson 4 you learned operations that returned `True` and `False`. Those operations are:\n",
    "  * `==` Equals \n",
    "  * `<` Less than \n",
    "  * `<=` Less than or equal to \n",
    "  * `>` Greater than \n",
    "  * `>=` Greater than or equal to \n",
    "  * `!=` Not equal to \n",
    "\n",
    "The logical operators make it possible to combine operations to make compound questions. "
   ]
  }
 ],
 "metadata": {
  "kernelspec": {
   "display_name": "Python 3 (ipykernel)",
   "language": "python",
   "name": "python3"
  },
  "language_info": {
   "codemirror_mode": {
    "name": "ipython",
    "version": 3
   },
   "file_extension": ".py",
   "mimetype": "text/x-python",
   "name": "python",
   "nbconvert_exporter": "python",
   "pygments_lexer": "ipython3",
   "version": "3.10.6"
  }
 },
 "nbformat": 4,
 "nbformat_minor": 4
}
