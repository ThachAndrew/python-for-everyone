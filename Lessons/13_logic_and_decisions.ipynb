{
 "cells": [
  {
   "cell_type": "markdown",
   "metadata": {},
   "source": [
    "XXX: REWRITE \n",
    "\n",
    "# Logic and Decisions\n",
    "\n",
    "In this lesson we'll learn how programs make decisions and how you can write programs that respond to input in by running some statements and not others.\n",
    "\n",
    "## Making Decisions \n",
    "\n",
    "What if you wanted your code to do different things based on a logic function? For example, suppose you want to play a game that prints different things based on user input. The `if` statement allows you to conditionally run Python statements. Here's a diagram of an `if` statement:\n",
    "\n",
    "![The if Statment](images/python_if_statement.png)\n",
    "\n",
    "The `if` statement conditionally runs instructions inside the body of the if statement. The code is only run if the condition evaluates to `True` \n",
    "\n",
    "Here's an example that uses one of the logic functions from above:"
   ]
  },
  {
   "cell_type": "code",
   "execution_count": null,
   "metadata": {},
   "outputs": [],
   "source": [
    "number = int(input(\"I'm thinking of a number between 1 and 100: \"))\n",
    "if number == 34 : \n",
    "    print(\"That's right!\")"
   ]
  },
  {
   "cell_type": "markdown",
   "metadata": {},
   "source": [
    "The *condition* in the if statement is `number == 34`. When the condition is `True` the indented statements are executed, when the condition is `False` the statements are skipped. You can have as many statements as you like inside an `if` statement, even other `if` statements. Execute the code in this example. "
   ]
  },
  {
   "cell_type": "code",
   "execution_count": null,
   "metadata": {},
   "outputs": [],
   "source": [
    "game = input(\"Would you like to play a game? \")\n",
    "if game == \"yes\":\n",
    "    number = int(input(\"I'm thinking of a number between 1 and 100: \"))\n",
    "    if number == 34 : \n",
    "        print(\"That's right!\")\n",
    "        \n",
    "print(\"Game Over\")"
   ]
  },
  {
   "cell_type": "markdown",
   "metadata": {},
   "source": [
    "The condition can be any statement that returns `True` or `False`, so the logical operators are very useful with `if` statements:"
   ]
  },
  {
   "cell_type": "code",
   "execution_count": null,
   "metadata": {},
   "outputs": [],
   "source": [
    "number = int(input('Enter an integer: '))\n",
    "if number > 5 and number < 10 : \n",
    "    print ('The number is between 5 and 10')"
   ]
  },
  {
   "cell_type": "markdown",
   "metadata": {},
   "source": [
    "## `if` and `else` \n",
    "\n",
    "The `else` statement lets you run code when something is *not* true. An `else` can only be used in combination with an `if`. Together they let you run code no matter what the condition is. Here's a diagram of the structure of an if/else pair. \n",
    "\n",
    "![code](images/python_if_statement.png)\n",
    "\n",
    "When you have and if/else one of the alternatives will **always** be run depending on the condition.  \n",
    "\n",
    "Here's an example:"
   ]
  },
  {
   "cell_type": "code",
   "execution_count": null,
   "metadata": {},
   "outputs": [],
   "source": [
    "number = int(input(\"I'm thinking of a number between 1 and 100: \"))\n",
    "if number == 34 : \n",
    "    print(\"That's right!\")\n",
    "else:\n",
    "    print('Guess again.')"
   ]
  },
  {
   "cell_type": "markdown",
   "metadata": {},
   "source": [
    "Another example:"
   ]
  },
  {
   "cell_type": "code",
   "execution_count": null,
   "metadata": {},
   "outputs": [],
   "source": [
    "number = 100\n",
    "if number > 5 and number < 10 : \n",
    "    print ('The number is between 5 and 10')\n",
    "else:\n",
    "    print ('The number is not between 5 and 10')"
   ]
  },
  {
   "cell_type": "markdown",
   "metadata": {},
   "source": [
    "Here's another example:"
   ]
  },
  {
   "cell_type": "code",
   "execution_count": null,
   "metadata": {},
   "outputs": [],
   "source": [
    "name = input(\"What's your name? \")\n",
    "if name == 'Mike' : \n",
    "    print (\"That's my name too!\")\n",
    "else:\n",
    "    print (\"Nice to meet you,\", name)"
   ]
  },
  {
   "cell_type": "markdown",
   "metadata": {},
   "source": [
    "And here's another example:"
   ]
  },
  {
   "cell_type": "code",
   "execution_count": null,
   "metadata": {},
   "outputs": [],
   "source": [
    "grade = 90\n",
    "if grade >= 70 : \n",
    "    print ('Pass')\n",
    "else:\n",
    "    print ('No Pass')"
   ]
  },
  {
   "cell_type": "markdown",
   "metadata": {},
   "source": [
    "## `if`, `else` and `elif` \n",
    "\n",
    "The `elif` statement gives your program the ability to ask a series of questions and perform one action depending on the outcome. The `elif` statement can only be used after an `if` and before an `else`, which is optional. \n",
    "\n",
    "Here's an example of a statement that computes a letter grade:"
   ]
  },
  {
   "cell_type": "code",
   "execution_count": null,
   "metadata": {},
   "outputs": [],
   "source": [
    "grade = 85 \n",
    "\n",
    "if grade < 70 : \n",
    "    # Here the grade must be less than 70\n",
    "    print('F')\n",
    "elif grade < 80 : \n",
    "    # The grade is greater than or equal to 70 and less than 80\n",
    "    print('C')\n",
    "elif grade < 90 : \n",
    "    # The grade is greater than or equal to 80 and less than 90\n",
    "    print('B')\n",
    "else: \n",
    "    # All other options eliminated, the grade is greater than or equal to 90\n",
    "    print('A')"
   ]
  },
  {
   "cell_type": "markdown",
   "metadata": {},
   "source": [
    "The most important thing to remember about using `if`, `elif` and `else` is that only one of the alternatives will ever be executed. Python evaluates the conditions starting from the top and moving to the bottom. So the code in the cell above is performing thee following tests in order:\n",
    "\n",
    "  * `grade < 70`? \n",
    "    * Yes: `print('F')` and quit\n",
    "    * No: Keep going\n",
    "  * `grade < 80`? \n",
    "    * Yes: `print('C')` and quit\n",
    "    * No: Keep going\n",
    "  * `grade < 90`? \n",
    "    * Yes: `print('B')` and quit\n",
    "    * No: Keep going\n",
    "  * Got to else: `print('A')` and quit\n",
    "    \n",
    "You may be asking how is it possible that you're testing for a range of nubmers while only using the less than operator. The answer is in the order of the tests, when the test `grade < 80` is executed we know that `grade < 70` is `False`. If it were `True` then the `print('F')` would have executed and execution of the `if`/`elif`/`else` statement stopped. \n",
    "\n",
    "Here's code that does exactly the same as the grade code above but does it in a different order:"
   ]
  },
  {
   "cell_type": "code",
   "execution_count": null,
   "metadata": {},
   "outputs": [],
   "source": [
    "grade = 85 \n",
    "\n",
    "if grade >= 90 : \n",
    "    print ('A')\n",
    "elif grade >= 80 :\n",
    "    print ('B')\n",
    "elif grade >= 70 : \n",
    "    print ('C')\n",
    "else :\n",
    "    print ('F')"
   ]
  },
  {
   "cell_type": "markdown",
   "metadata": {},
   "source": [
    "## Pitfall! \n",
    "\n",
    "It's essential that if/elif/else ladders always eliminate alternatives on the way down. If not the code will not work properly. \n",
    "\n",
    "This is an example of a common error:"
   ]
  },
  {
   "cell_type": "code",
   "execution_count": null,
   "metadata": {},
   "outputs": [],
   "source": [
    "grade = 85 \n",
    "\n",
    "if grade >= 90 : \n",
    "    print ('A')\n",
    "elif grade >= 70 : \n",
    "    # Error! A grade of 85 would match here!\n",
    "    print ('C')\n",
    "elif grade >= 80 :\n",
    "    # Error! This code will never run!\n",
    "    print ('B')\n",
    "else :\n",
    "    print ('F')"
   ]
  },
  {
   "cell_type": "markdown",
   "metadata": {},
   "source": [
    "Computers are machines that are built on their ability to perform logic. Logic functions are the basis of all mathematical computations and is built on three fundamental operations:\n",
    "\n",
    "  * and \n",
    "  * or \n",
    "  * not\n",
    "\n",
    "Logic operations use `True` and `False` as input, rather than numbers. Logic operations are defined by *truth tables*. Truth tables show the output of a logic operation given all combinations of input. The next sections will define the three fundamental logic operations. "
   ]
  },
  {
   "cell_type": "markdown",
   "metadata": {},
   "source": [
    "## The `and` Operator\n",
    "\n",
    "The `and` operator returns `True` when both inputs are `True`, otherwise it returns `False`. The truth table for `and` is:\n",
    "\n",
    "| Input A | Input B | Output |\n",
    "| - | - | - |\n",
    "| `False` | `False` | `False` | \n",
    "| `False` | `True` | `False` | \n",
    "| `True` | `False` | `False` | \n",
    "| `True` | `True` | `True` | \n",
    "\n",
    "Use the cell below to test out the `and` operator:"
   ]
  },
  {
   "cell_type": "code",
   "execution_count": null,
   "metadata": {},
   "outputs": [],
   "source": [
    "False and False"
   ]
  },
  {
   "cell_type": "markdown",
   "metadata": {},
   "source": [
    "## The `or` Operator\n",
    "\n",
    "The `or` operator returns `True` if either input is `True` and `False` when both inputs are `False`. The truth table for `or` is:\n",
    "\n",
    "| Input A | Input B | Output |\n",
    "| - | - | - |\n",
    "| `False` | `False` | `False` | \n",
    "| `False` | `True` | `True` | \n",
    "| `True` | `False` | `True` | \n",
    "| `True` | `True` | `True` | \n",
    "\n",
    "Use the cell below to test out the `or` operator:"
   ]
  },
  {
   "cell_type": "code",
   "execution_count": null,
   "metadata": {},
   "outputs": [],
   "source": [
    "False or False"
   ]
  },
  {
   "cell_type": "markdown",
   "metadata": {},
   "source": [
    "## The `not` Operator \n",
    "\n",
    "The `not` operator returns the opposite of its input. Unlike `and` and `or`, `not` only takes a single argument. The truth table for `not` is:\n",
    "\n",
    "| Input | Output |\n",
    "| - | - |\n",
    "| `False` | `True` | \n",
    "| `True` | `False` | \n",
    "\n",
    "Use the cell below to test the `not` operator:"
   ]
  },
  {
   "cell_type": "code",
   "execution_count": null,
   "metadata": {},
   "outputs": [],
   "source": [
    "not True"
   ]
  },
  {
   "cell_type": "markdown",
   "metadata": {},
   "source": [
    "## Using Logic \n",
    "\n",
    "In Lesson 2 you learned operations that returned `True` and `False`. Those operations are:\n",
    "  * `==` Equals \n",
    "  * `<` Less than \n",
    "  * `<=` Less than or equal to \n",
    "  * `>` Greater than \n",
    "  * `>=` Greater than or equal to \n",
    "  * `!=` Not equal to \n",
    "\n",
    "The logical operators make it possible to combine operations to make compound questions. Change the order variable to \"soup\" or \"salad\". Do you understand what this code does?"
   ]
  },
  {
   "cell_type": "code",
   "execution_count": null,
   "metadata": {},
   "outputs": [],
   "source": [
    "order = \"\"\n",
    "order == 'soup' or order == 'salad'"
   ]
  },
  {
   "cell_type": "markdown",
   "metadata": {},
   "source": [
    "Logic is also handy when you're testing multiple conditions. For example:"
   ]
  },
  {
   "cell_type": "code",
   "execution_count": null,
   "metadata": {},
   "outputs": [],
   "source": [
    "age = 42\n",
    "age >= 18 and age < 21 # Can you vote but not drink"
   ]
  },
  {
   "cell_type": "markdown",
   "metadata": {},
   "source": [
    "You can use a variable to remember the output of a logical operation. "
   ]
  },
  {
   "cell_type": "code",
   "execution_count": null,
   "metadata": {},
   "outputs": [],
   "source": [
    "percent = 95\n",
    "got_a = percent >= 90 \n",
    "got_b = percent >= 80 and percent < 90\n",
    "got_c = percent >= 70 and percent < 80\n",
    "print(f'a: {got_a} b: {got_b} c: {got_c}')"
   ]
  },
  {
   "cell_type": "markdown",
   "metadata": {},
   "source": [
    "Decisions are often made on user input beause you don't know what the user will do in advance. Here are some examples that use the input() and then makes decisions based on what the user typed:"
   ]
  },
  {
   "cell_type": "code",
   "execution_count": null,
   "metadata": {},
   "outputs": [],
   "source": [
    "answer = input('Yes or No? ')\n",
    "answer == \"Yes\""
   ]
  },
  {
   "cell_type": "code",
   "execution_count": null,
   "metadata": {},
   "outputs": [],
   "source": [
    "answer = int(input('Pick a number between 1 and 100: '))\n",
    "answer < 50"
   ]
  },
  {
   "cell_type": "code",
   "execution_count": null,
   "metadata": {},
   "outputs": [],
   "source": [
    "number = int(input('Pick a number between 1 and 100: ')) \n",
    "number >= 1 and number <= 100"
   ]
  }
 ],
 "metadata": {
  "kernelspec": {
   "display_name": "Python 3",
   "language": "python",
   "name": "python3"
  },
  "language_info": {
   "codemirror_mode": {
    "name": "ipython",
    "version": 3
   },
   "file_extension": ".py",
   "mimetype": "text/x-python",
   "name": "python",
   "nbconvert_exporter": "python",
   "pygments_lexer": "ipython3",
   "version": "3.8.4"
  }
 },
 "nbformat": 4,
 "nbformat_minor": 4
}
