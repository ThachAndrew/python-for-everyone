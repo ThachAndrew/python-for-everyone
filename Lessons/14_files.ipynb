{
 "cells": [
  {
   "attachments": {},
   "cell_type": "markdown",
   "metadata": {},
   "source": [
    "# Reading and Writing Files \n",
    "\n",
    "Computers have two kinds of memory, *volatile* memory that is maintained as long as there is electricity, and *non-volatile* memory which is maintained when the power is off. Variables are a form of volatile memory, they only last as long as the program is running while to computer is on. Files are a form of non-volatile memory, they are kept when the computer is off. \n",
    "\n",
    "Files can be small or very, very large, much larger than the amount of RAM memory in a computer. Because files can be so large they are accessed differently than memory. Like a book, files are read (and written) one line at a time. When you want to access a file you create a special kind of variable called a *file handle*.  "
   ]
  },
  {
   "attachments": {},
   "cell_type": "markdown",
   "metadata": {},
   "source": [
    "## File Paths\n",
    "\n",
    "Every file has a unique location in the *file system*. On modern computers we're used to navigating the file system visually as a set of files nested into folders. To use a file in your program you have to specify the file location by it's *file path*. Think of a file path as a set of instructions for finding a file, each instruction is separated by a foreslash (`/`) character. There are two kinds of file paths:\n",
    "\n",
    "1. *Absolute* paths begin with a `/` and identify a file independent of the location of the notebook. \n",
    "1. *Relative* paths don't begin with a `/` and identify a file starting from the location of the notebook.\n",
    "\n",
    "Here are some examples:"
   ]
  },
  {
   "cell_type": "code",
   "execution_count": null,
   "metadata": {},
   "outputs": [],
   "source": [
    "from PIL import Image \n",
    "\n",
    "Image.open(\"images/python_list.png\")"
   ]
  },
  {
   "cell_type": "code",
   "execution_count": null,
   "metadata": {},
   "outputs": [],
   "source": [
    "Image.open(\"../Labs/files/maze.png\")"
   ]
  },
  {
   "attachments": {},
   "cell_type": "markdown",
   "metadata": {},
   "source": [
    "## File Handles \n",
    "\n",
    "A *file handle* is a variable that gives us access to a file. A file handle is created with the `open()` function. The `open()` function takes at least one argument, the name of the file to open. The file handle is returned so you have to assign it to a variable. For example: \n",
    "\n",
    "```python\n",
    "file_handle = open('files/example.txt')\n",
    "```\n",
    "\n",
    "Enter the code in the next cell. What *type* is `file_handle`?"
   ]
  },
  {
   "cell_type": "code",
   "execution_count": null,
   "metadata": {},
   "outputs": [],
   "source": []
  },
  {
   "attachments": {},
   "cell_type": "markdown",
   "metadata": {},
   "source": [
    "The variable `file_handle` can be used just like any other Python variable but it has a type you haven't seen before:\n",
    "\n",
    "```python\n",
    "print('The type of file_handle is:', type(file_handle))\n",
    "```"
   ]
  },
  {
   "cell_type": "code",
   "execution_count": null,
   "metadata": {},
   "outputs": [],
   "source": []
  },
  {
   "attachments": {},
   "cell_type": "markdown",
   "metadata": {},
   "source": [
    "The file handle gives your program a way to access the contents of the file, it does not contain the file's data. A variable that contains a file handle has functions that are needed to read and write the file. In the next sections you'll see how to use functions of a file handle to access files."
   ]
  },
  {
   "attachments": {},
   "cell_type": "markdown",
   "metadata": {},
   "source": [
    "## Reading Text Files \n",
    "\n",
    "There are two ways to read a file in Python, one line at a time and the whole file at once. Try this, run the cell below to open the file `example.txt`: "
   ]
  },
  {
   "cell_type": "code",
   "execution_count": null,
   "metadata": {
    "deletable": false,
    "editable": false
   },
   "outputs": [],
   "source": [
    "file_handle = open('files/example.txt')"
   ]
  },
  {
   "attachments": {},
   "cell_type": "markdown",
   "metadata": {},
   "source": [
    "Now execute the code in this cell over and over: "
   ]
  },
  {
   "cell_type": "code",
   "execution_count": null,
   "metadata": {
    "deletable": false,
    "editable": false
   },
   "outputs": [],
   "source": [
    "file_handle.readline()"
   ]
  },
  {
   "attachments": {},
   "cell_type": "markdown",
   "metadata": {},
   "source": [
    "What do you notice? The file is read one line at a time, each time you execute `readline()` the next line is returned. When the file reaches the end empty lines are returned. Try doing it again but re-running the `open()` function. Now see what happens when you use the `read()` function: "
   ]
  },
  {
   "cell_type": "code",
   "execution_count": null,
   "metadata": {
    "deletable": false,
    "editable": false
   },
   "outputs": [],
   "source": [
    "file_handle.read()"
   ]
  },
  {
   "attachments": {},
   "cell_type": "markdown",
   "metadata": {},
   "source": [
    "What happens when you mix `read()` and `readline()`? "
   ]
  },
  {
   "attachments": {},
   "cell_type": "markdown",
   "metadata": {},
   "source": [
    "**Do you understand how calling `readline` changes the place in the file?** \n",
    "\n",
    "In a practical program you want to *do something* with the data you get in the file. The example below opens the file and reads the first four lines into four different variables. \n",
    "\n",
    "```python\n",
    "file_handle = open('files/example.txt')\n",
    "line1 = file_handle.readline()\n",
    "line2 = file_handle.readline()\n",
    "line3 = file_handle.readline()\n",
    "line4 = file_handle.readline()\n",
    "print(\"Lines:\", line1, line2, line3, line4)\n",
    "```\n",
    "\n",
    "Enter the program into the next cell and run it:"
   ]
  },
  {
   "cell_type": "code",
   "execution_count": null,
   "metadata": {},
   "outputs": [],
   "source": []
  },
  {
   "attachments": {},
   "cell_type": "markdown",
   "metadata": {},
   "source": [
    "**Confused? Use the debugger!**"
   ]
  },
  {
   "attachments": {},
   "cell_type": "markdown",
   "metadata": {},
   "source": [
    "### Reading Lines Into a List \n",
    "\n",
    "You can read the entire contents of a file into a list of lines. That can be extremely useful when you want to be able to easily access the file in random order, but beware, the entire file contents will be read into the computer memory so you have to be careful of how big the file is. This code example reads all of the lines of the example file into a list called `lines`.\n",
    "\n",
    "```python\n",
    "file_handle = open('files/example.txt')\n",
    "lines = list(file_handle)\n",
    "file_handle.close()\n",
    "print(lines)\n",
    "```\n",
    "\n",
    "Try the code in the next cell:"
   ]
  },
  {
   "cell_type": "code",
   "execution_count": null,
   "metadata": {},
   "outputs": [],
   "source": []
  },
  {
   "attachments": {},
   "cell_type": "markdown",
   "metadata": {},
   "source": [
    "## Writing Text Files \n",
    "\n",
    "When you open a file you have to decide whether to read or write the file (you *can* do both, more on that later). If you only give one argument to `open()` the file is opened for reading. If you want to *write* to a file here's how you start: \n",
    "\n",
    "```python\n",
    "file_handle = open('output.txt', 'w')\n",
    "```\n",
    "\n",
    "<div class=\"alert alert-danger\">\n",
    "    <strong>Watch Out!</strong>\n",
    "    Opening a file for writing <b>erases the contents of the file</b>.\n",
    "</div>\n",
    "\n",
    "Type the open command into the next cell:"
   ]
  },
  {
   "cell_type": "code",
   "execution_count": null,
   "metadata": {},
   "outputs": [],
   "source": []
  },
  {
   "attachments": {},
   "cell_type": "markdown",
   "metadata": {},
   "source": [
    "When the second argument to `open()` is `'w'` the file is open for writing. To write a file use the `write` function. Execute the code to write to the file. Once the file is open you can write to it using the `write` function. For example: \n",
    "\n",
    "```python\n",
    "file_handle.write('Hello file world!\\n')\n",
    "```\n",
    "\n",
    "Add the write command to the next cell and run it:"
   ]
  },
  {
   "cell_type": "code",
   "execution_count": null,
   "metadata": {},
   "outputs": [],
   "source": []
  },
  {
   "attachments": {},
   "cell_type": "markdown",
   "metadata": {},
   "source": [
    "**Now find the file. Does it contain what you expect?**\n",
    "\n",
    "Notice that the newline character is in the string. Unlike `print()` the `write()` function does not add a newline to the end of the line. The write function also does not take multiple arguments like the `print()` function. If you want to mix variables and words in the write function use a `f-string`. Update the code cell with this code and execute it: \n",
    "\n",
    "```python\n",
    "name = 'Your Name Here'\n",
    "file_handle.write(f'Hello, my name is {name}\\n')\n",
    "```"
   ]
  },
  {
   "attachments": {},
   "cell_type": "markdown",
   "metadata": {},
   "source": [
    "Notice that `write` returns a number? The number is the total number of bytes written to the file. That number can be useful because (as in the example above) when you write variables to a file you might not know in advance how much data is in the variable. Here's a complete program that writes a file: \n",
    "\n",
    "```python \n",
    "name = \"Your name here\"\n",
    "file_handle = open('greeting.txt', 'w') \n",
    "wrote = file_handle.write(f\"Hello, my name is {name}\\n\")\n",
    "print(f\"I wrote {wrote} bytes to the file\")\n",
    "file_handle.close()\n",
    "```\n",
    "\n",
    "Enter the complete program into the next cell:"
   ]
  },
  {
   "cell_type": "code",
   "execution_count": null,
   "metadata": {},
   "outputs": [],
   "source": []
  },
  {
   "attachments": {},
   "cell_type": "markdown",
   "metadata": {},
   "source": [
    "**Run the program and look inside of greeting.txt** "
   ]
  },
  {
   "attachments": {},
   "cell_type": "markdown",
   "metadata": {},
   "source": [
    "## Closing the File Handle \n",
    "\n",
    "If you open the file that we've just written you will notice the contents aren't there yet. When you write to a file the information you write is temporary held in memory to improve the performance of your program. When your program is done reading or writing a file you have to close the file handle using the close function:\n",
    "\n",
    "```python\n",
    "file_handle.close()\n",
    "```\n",
    "\n",
    "It's essential that you always remember to close the files you've opened. A program can only hold a fixed number of files open, if your code \"leaks\" file handles by forgetting about them it's possible that you will exhaust that number and the `open()` function will fail. "
   ]
  },
  {
   "attachments": {},
   "cell_type": "markdown",
   "metadata": {},
   "source": [
    "## File Types \n",
    "\n",
    "So far you've seen how to make plain text files. Text files are as old as computers themselves. Most files these days have a specific *format* that contains non-text information like images, video and structured data. Files have a *dot extension* that typically identify what type of file they are. Here are some file types that you can use in the notebook: \n",
    "\n",
    "| Extension | Type | Open With | \n",
    "| --- | --- | --- |\n",
    "| `.txt` | Plain text. | `open(...)` | \n",
    "| `.png` `.gif`<br>`.jpg` `.jpeg` | Uncompressed image data.<br>Compressed image data. | `Image.open(...)`<br>`Turtle(background='...')` | \n",
    "| `.wav`<br>`.mp3` | Uncompressed audio.<br>Compressed audio.| `Audio(...)` | \n",
    "| `.csv` | Simple spreadsheet structured data. | `pandas.read_csv(...)` | \n",
    "| `.xlsx` | Microsoft Excel spreadsheet structured data. | `pandas.read_excel(...)` | \n",
    "\n"
   ]
  },
  {
   "attachments": {},
   "cell_type": "markdown",
   "metadata": {},
   "source": [
    "## Image Files \n",
    "\n",
    "Image files contain two-dimensional data that can be embedded into the notebook. The Python Image Library (`PIL`) let's you load and manipulate images. Here's an example of how to load an image using `PIL`:\n",
    "\n",
    "```python\n",
    "from PIL import Image \n",
    "pic = Image.open('../Labs/files/maze.png')\n",
    "pic\n",
    "```\n",
    "\n",
    "If you want to draw over the image with the Turtle you can use my Turtle library too: \n",
    "\n",
    "```python\n",
    "from p4e.drawing import Turtle\n",
    "tu = Turtle(image=\"../Labs/files/maze.png\")\n",
    "tu\n",
    "``` \n",
    "\n",
    "Try both:"
   ]
  },
  {
   "cell_type": "code",
   "execution_count": null,
   "metadata": {},
   "outputs": [],
   "source": []
  },
  {
   "attachments": {},
   "cell_type": "markdown",
   "metadata": {},
   "source": [
    "## Audio Files \n",
    "\n",
    "Audio files contain recorded (or generated) sounds, often music. You can embed an audio player in the notebook using the `Audio` display class like this:\n",
    "\n",
    "```python \n",
    "from IPython.display import Audio \n",
    "sound = Audio('files/conga_groove.wav')\n",
    "sound\n",
    "```"
   ]
  },
  {
   "cell_type": "code",
   "execution_count": null,
   "metadata": {},
   "outputs": [],
   "source": []
  },
  {
   "attachments": {},
   "cell_type": "markdown",
   "metadata": {},
   "source": [
    "## Spreadsheets \n",
    "\n",
    "Spreadsheets are data structured into a table, with a heading in the first row and data in the rest. In a future lesson we'll use spreadsheet data to do analysis. Spreadsheets can be loaded using the Pandas library. Here's an example:\n",
    "\n",
    "```python\n",
    "import pandas\n",
    "df = pandas.read_csv('files/mlb_players.csv')\n",
    "df\n",
    "```"
   ]
  },
  {
   "cell_type": "code",
   "execution_count": null,
   "metadata": {},
   "outputs": [],
   "source": []
  },
  {
   "attachments": {},
   "cell_type": "markdown",
   "metadata": {},
   "source": [
    "The Pandas library comes with powerful selection and analysis functions. Here are some examples to try:\n",
    "\n",
    "Do a statistical analysis of all of the numerical columns in the data:\n",
    "\n",
    "```python\n",
    "df.describe()\n",
    "```\n",
    "\n",
    "Show the rows where the `Team` column is equal to `SF` (the San Francisco Giants):\n",
    "\n",
    "```python\n",
    "df[df['Team'] == 'SF']\n",
    "```\n",
    "\n",
    "Show the tallest player: \n",
    "\n",
    "```python\n",
    "df[ df['Height'] == df['Height'].max() ]\n",
    "```\n",
    "\n",
    "Plot a histogram of player heights:\n",
    "\n",
    "```python\n",
    "df['Height'].hist().plot()\n",
    "```"
   ]
  },
  {
   "cell_type": "code",
   "execution_count": null,
   "metadata": {},
   "outputs": [],
   "source": []
  }
 ],
 "metadata": {
  "interpreter": {
   "hash": "e545cfc6c92b001762a53a61423c49d13f273f2cd05f0ba531f4055e901e6403"
  },
  "kernelspec": {
   "display_name": "Python 3 (ipykernel)",
   "language": "python",
   "name": "python3"
  },
  "language_info": {
   "codemirror_mode": {
    "name": "ipython",
    "version": 3
   },
   "file_extension": ".py",
   "mimetype": "text/x-python",
   "name": "python",
   "nbconvert_exporter": "python",
   "pygments_lexer": "ipython3",
   "version": "3.10.6"
  }
 },
 "nbformat": 4,
 "nbformat_minor": 4
}
