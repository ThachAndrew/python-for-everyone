{
 "cells": [
  {
   "cell_type": "markdown",
   "metadata": {},
   "source": [
    "# The `while` Loop \n",
    "\n",
    "The `while` loop is known as the *indefinite* loop. You use it when you *can't know* how many times you need to go through the loop. The `while` loop continues looping while the *loop condidtion* is `True` and exits the loop when the condition is `False`. The `while` loop is less common than the `for` loop but still essential for most programs. \n",
    "\n",
    "Let's revisit our guessing game. In this version of the game we want the user to keep guessing until they get the right answer. There's no way to know how many guesses it will take them. \n",
    "\n",
    "```python\n",
    "guess = 0\n",
    "while guess != 34:\n",
    "    guess = int(input(\"Pick a number between 1 and 100: \"))\n",
    "print(\"You got it!\")\n",
    "```\n",
    "\n",
    "Try entering the code into the next cell:"
   ]
  },
  {
   "cell_type": "code",
   "execution_count": null,
   "metadata": {},
   "outputs": [],
   "source": []
  },
  {
   "cell_type": "markdown",
   "metadata": {},
   "source": [
    "## Game Programming \n",
    "\n",
    "At the heart of very operating system and graphical program there is a `while` loop. A `while` loop is the heart of any game. Here's an example of a game that uses a `while` loop:"
   ]
  },
  {
   "cell_type": "code",
   "execution_count": null,
   "metadata": {},
   "outputs": [],
   "source": [
    "import random \n",
    "\n",
    "def dice_game(): \n",
    "    while True:\n",
    "        command = input('Type \"roll\" to roll the dice or \"quit\" to exit: ')\n",
    "        if command == 'roll': \n",
    "            die1 = random.randint(1, 6)\n",
    "            die2 = random.randint(1, 6)\n",
    "            if die1 == 1 and die2 == 1 : \n",
    "                print (\"The dice say snake eyes!\")\n",
    "            else:\n",
    "                print (f\"The dice say {die1} and {die2}\")\n",
    "        elif command == 'quit' :\n",
    "            return\n",
    "        \n",
    "dice_game()"
   ]
  }
 ],
 "metadata": {
  "kernelspec": {
   "display_name": "Python 3.8 (XPython)",
   "language": "python",
   "name": "xpython"
  },
  "language_info": {
   "file_extension": ".py",
   "mimetype": "text/x-python",
   "name": "python",
   "version": "3.8.2"
  }
 },
 "nbformat": 4,
 "nbformat_minor": 4
}
