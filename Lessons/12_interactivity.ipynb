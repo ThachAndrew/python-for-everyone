{
 "cells": [
  {
   "cell_type": "markdown",
   "metadata": {},
   "source": [
    "# Interactivity Using Functions \n",
    "\n",
    "Functions are a powerful tool in programming. Not only do they give you a way to reuse and parameterize code but they open the possibility of *event driven* programming. Event driven programming is when a program responds to changes (called events) when they occur. Examples of events are a mouse click or key stroke. Event driven programs are *interactive* because they're always waiting for something to happen. In this lesson you'll learn how to bind a function to a widget so that the function is called every time the widget changes. "
   ]
  },
  {
   "cell_type": "markdown",
   "metadata": {},
   "source": [
    "## Interactive Functions\n",
    "\n",
    "An interactive function gets argument values from widgets and returns something to display. Consider the `power_of` function from the last lesson. The solution to that question is shown here in the example below: \n",
    "\n",
    "```python\n",
    "def power_of(sig, power):\n",
    "    \"\"\"Compute sig to the power of power\"\"\"\n",
    "    return sig ** power \n",
    "```\n",
    "\n",
    "Enter the function into the next cell and test it:"
   ]
  },
  {
   "cell_type": "code",
   "execution_count": null,
   "metadata": {},
   "outputs": [],
   "source": []
  },
  {
   "cell_type": "markdown",
   "metadata": {
    "tags": []
   },
   "source": [
    "## Choose the Right Widgets \n",
    "\n",
    "The `power_of` function takes two floats. In order to give it proper input we should use widgets that match the type of input the function expects. In this case we need widgets that are constrained to floats (or are at least numeric). For the significand I'm going to use a `FloatText` and for the power I'm going to use a `FloatSlider`.\n",
    "\n",
    "```python\n",
    "import ipywidgets \n",
    "sig_widget = ipywidgets.FloatText(\n",
    "    description='Significand:',\n",
    ")\n",
    "pow_widget = ipywidgets.FloatSlider(\n",
    "    min=0,\n",
    "    max=10.0,\n",
    "    description='Power:',\n",
    ")\n",
    "display(sig_widget, pow_widget)\n",
    "```\n",
    "\n",
    "Copy the example code into the next cell to create the widgets."
   ]
  },
  {
   "cell_type": "code",
   "execution_count": null,
   "metadata": {},
   "outputs": [],
   "source": []
  },
  {
   "cell_type": "markdown",
   "metadata": {},
   "source": [
    "## Binding Widgets to a Function\n",
    "\n",
    "Now let's make the function *interactive* using the widgets we just created. The `ipywidgets.interact` function let's you bind widget values to arguments in your own function. This code creates widgets that supply the input to our `power_of` function and displays the return value:\n",
    "\n",
    "```python\n",
    "ipywidgets.interact(power_of, sig=sig_widget, power=pow_widget)\n",
    "```\n",
    "\n",
    "Try running the example:"
   ]
  },
  {
   "cell_type": "code",
   "execution_count": null,
   "metadata": {
    "tags": []
   },
   "outputs": [],
   "source": []
  },
  {
   "cell_type": "markdown",
   "metadata": {},
   "source": [
    "You can find the complete documentation for [how to use interact](https://ipywidgets.readthedocs.io/en/latest/examples/Using%20Interact.html) on the ipywidgets home page. In this class you'll only need to know the basics. "
   ]
  },
  {
   "cell_type": "markdown",
   "metadata": {},
   "source": [
    "## Building User Interfaces\n",
    "\n",
    "The `ipywidgets.interactive` function is easy and useful, but it's limited. Sometimes you want more control of how a  program displays its widgets and output. In the projects for this class I will somtimes build interfaces for you and ask you to make functions. This section describes how I do that.\n",
    "\n",
    "Here's a pre-built user interface that takes two numbers and displays the output of two functions:"
   ]
  },
  {
   "cell_type": "code",
   "execution_count": null,
   "metadata": {
    "deletable": false,
    "editable": false,
    "tags": []
   },
   "outputs": [],
   "source": [
    "from p4e.widgets import bind\n",
    "from ipywidgets import HBox, VBox \n",
    "\n",
    "a_widget = ipywidgets.IntSlider(description=\"a:\", min=0, max=100)\n",
    "b_widget = ipywidgets.IntSlider(description=\"b:\", min=1, max=100)\n",
    "mult_out = bind('multiply', {'a': a_widget, 'b': b_widget})\n",
    "div_out = bind('divide', {'a': a_widget, 'b': b_widget})\n",
    "\n",
    "display(VBox([\n",
    "    HBox([a_widget, b_widget]),\n",
    "    mult_out, \n",
    "    div_out,\n",
    "]))"
   ]
  },
  {
   "cell_type": "markdown",
   "metadata": {},
   "source": [
    "### Write the Functions \n",
    "\n",
    "The functions are missing from the example so when you run the code hte output of `multiply` and `divide` are errors. To finish the exercise you have to create them. Here are the definitions: \n",
    "\n",
    "#### The `multiply` Function\n",
    "\n",
    "Write a function called `multiply` that takes two arguments, `a` and `b`. The function returns the product of `a` and `b`. \n",
    "\n",
    "* Name: `multiply`\n",
    "* Arguments:\n",
    "    * `a` (`int`)\n",
    "    * `b` (`int`) \n",
    "* Returns: The `a` times `b`.\n",
    "\n",
    "#### The `divide` Function\n",
    "\n",
    "Write a function called `divide` that takes two arguments, `a` and `b`. The function returns `a` divided by `b`. \n",
    "\n",
    "* Name: `divide`\n",
    "* Arguments:\n",
    "    * `a` (`int`)\n",
    "    * `b` (`int`) \n",
    "* Returns: The `a` divided by `b`.\n",
    "\n",
    "Write your two funcitons in the next cell:"
   ]
  },
  {
   "cell_type": "code",
   "execution_count": null,
   "metadata": {},
   "outputs": [],
   "source": []
  }
 ],
 "metadata": {
  "kernelspec": {
   "display_name": "Python 3 (ipykernel)",
   "language": "python",
   "name": "python3"
  },
  "language_info": {
   "codemirror_mode": {
    "name": "ipython",
    "version": 3
   },
   "file_extension": ".py",
   "mimetype": "text/x-python",
   "name": "python",
   "nbconvert_exporter": "python",
   "pygments_lexer": "ipython3",
   "version": "3.8.10"
  }
 },
 "nbformat": 4,
 "nbformat_minor": 4
}
