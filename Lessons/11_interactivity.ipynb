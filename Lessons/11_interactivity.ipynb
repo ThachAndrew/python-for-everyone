{
 "cells": [
  {
   "attachments": {},
   "cell_type": "markdown",
   "metadata": {},
   "source": [
    "# Interactivity\n",
    "\n",
    "Functions are a powerful tool in programming. Not only do they give you a way to reuse and parameterize code but they open the possibility of *event driven* programming. Event driven programming is when a program responds to real world events as they happen. Examples of events are a mouse click or key press. Event driven programs are *interactive* because they're always waiting for something to happen. In this lesson you'll learn how to bind a function to a widget so that the function is called every time the widget changes. "
   ]
  },
  {
   "cell_type": "markdown",
   "metadata": {},
   "source": [
    "To use interactivity you have to import `ipywidgets`:"
   ]
  },
  {
   "cell_type": "code",
   "execution_count": null,
   "metadata": {},
   "outputs": [],
   "source": [
    "import ipywidgets"
   ]
  },
  {
   "cell_type": "markdown",
   "metadata": {},
   "source": [
    "What's a *widget*? A widget is a graphic on the screen that you click or type into. Buttons, menus and text boxes are familiar examples of widgets. You can embed widgets into a Jupyter notebook. That gives users of your notebook an easy way to enter values into your program. Here's some example code:"
   ]
  },
  {
   "cell_type": "code",
   "execution_count": null,
   "metadata": {},
   "outputs": [],
   "source": [
    "display(ipywidgets.Button(description=\"Click Me\"))    # Button\n",
    "display(ipywidgets.Checkbox(description='Check Me'))  # Check box\n",
    "display(ipywidgets.Text(description='Write Here'))    # Text box"
   ]
  },
  {
   "attachments": {},
   "cell_type": "markdown",
   "metadata": {},
   "source": [
    "## Interacting with Functions\n",
    "\n",
    "There's nothing special about a function that's interactive. Whatever value the function returns will be displayed below the widgets. Here's a generic function that returns a string describing its argument:"
   ]
  },
  {
   "cell_type": "code",
   "execution_count": null,
   "metadata": {},
   "outputs": [],
   "source": [
    "def hello_interact(a):\n",
    "    \"\"\"Return a string that describes a.\"\"\"\n",
    "    return f\"\"\"hello_interact(): a: type: {type(a)}: value: {a}\"\"\""
   ]
  },
  {
   "cell_type": "markdown",
   "metadata": {},
   "source": [
    "You can call this function in a cell the normal way. For example:"
   ]
  },
  {
   "cell_type": "code",
   "execution_count": null,
   "metadata": {},
   "outputs": [],
   "source": [
    "hello_interact(100)"
   ]
  },
  {
   "cell_type": "markdown",
   "metadata": {},
   "source": [
    "The `ipywidgets.interactive` function creates a user interface. The first argument to `interactive` is the name of the function to call every click or keystroke. The other arguments tell `interactive` about the arguments to your function. They work by naming the argument and giving it a *default* value. \n",
    "\n",
    "Look at this example:\n",
    "\n",
    "```python\n",
    "ipywidgets.interact(hello_interact, a=100)\n",
    "```\n",
    "\n",
    "What `a=100` does is tell `interact` what the default value of `a` should be. Enter the code in and try it:\n"
   ]
  },
  {
   "cell_type": "code",
   "execution_count": null,
   "metadata": {},
   "outputs": [],
   "source": [
    "ipywidgets.interact(hello_interact, a=100)"
   ]
  },
  {
   "cell_type": "markdown",
   "metadata": {},
   "source": [
    "## Choosing the Right Widget \n",
    "\n",
    "The type of the default value tells `interact` what kind of widget to draw. Here are examples using familiar types:\n",
    "\n",
    "```python\n",
    "ipywidgets.interact(hello_interact, a=10)\n",
    "```\n",
    "\n",
    "Floating point numbers work too:\n",
    "\n",
    "```python\n",
    "ipywidgets.interact(hello_interact, a=10.5)\n",
    "```"
   ]
  },
  {
   "cell_type": "code",
   "execution_count": null,
   "metadata": {},
   "outputs": [],
   "source": []
  },
  {
   "cell_type": "markdown",
   "metadata": {},
   "source": [
    "You can set the minimum and maximum values of a slider if you want to limit the range:\n",
    "\n",
    "```python\n",
    "ipywidgets.interact(hello_interact, a=(100,200))\n",
    "```\n"
   ]
  },
  {
   "cell_type": "code",
   "execution_count": null,
   "metadata": {},
   "outputs": [],
   "source": []
  },
  {
   "cell_type": "markdown",
   "metadata": {},
   "source": [
    "If your function wants a string as input can give a default value like this:\n",
    "\n",
    "```python\n",
    "ipywidgets.interact(hello_interact, a=\"Your Name Here\")\n",
    "```"
   ]
  },
  {
   "cell_type": "code",
   "execution_count": null,
   "metadata": {},
   "outputs": [],
   "source": []
  },
  {
   "cell_type": "markdown",
   "metadata": {},
   "source": [
    "If you want to have a pulldown with a limited set of options you can use a list as the default value:\n",
    "\n",
    "```python\n",
    "ipywidgets.interact(hello_interact, a=['Scotts Valley', 'Santa Cruz', 'Capitola', 'Watonsville'])\n",
    "```"
   ]
  },
  {
   "cell_type": "code",
   "execution_count": null,
   "metadata": {},
   "outputs": [],
   "source": []
  },
  {
   "cell_type": "markdown",
   "metadata": {},
   "source": [
    "If the value is boolean you get a checkbox: \n",
    "\n",
    "```python\n",
    "ipywidgets.interact(hello_interact, a=False)\n",
    "```"
   ]
  },
  {
   "cell_type": "code",
   "execution_count": null,
   "metadata": {},
   "outputs": [],
   "source": []
  },
  {
   "cell_type": "markdown",
   "metadata": {},
   "source": [
    "There are [many awesome widgets](https://ipywidgets.readthedocs.io/en/latest/examples/Widget%20List.html#button) that you can use in your program. When you want a specific widget you can create them like this:\n",
    "\n",
    "```python\n",
    "# Choose a color\n",
    "ipywidgets.interact(hello_interact, a=ipywidgets.ColorPicker())\n",
    "\n",
    "# Choose a date\n",
    "ipywidgets.interact(hello_interact, a=ipywidgets.DatePicker())\n",
    "```\n",
    "\n",
    "Try those:"
   ]
  },
  {
   "cell_type": "code",
   "execution_count": null,
   "metadata": {},
   "outputs": [],
   "source": []
  },
  {
   "cell_type": "markdown",
   "metadata": {},
   "source": [
    "### Decorators \n",
    "\n",
    "The `interact` function is also a *decorator*. A decorator is a function in Python that can modify other functions. When you want to use a decorator you \"decorate\" a function with it. Here's how to use `interact` as a decorator:\n",
    "\n",
    "```python\n",
    "@ipywidgets.interact(a=10)\n",
    "def my_function(a):\n",
    "    return f\"a = {a}\"\n",
    "```\n",
    "\n",
    "Try typing in the example:"
   ]
  },
  {
   "cell_type": "code",
   "execution_count": null,
   "metadata": {},
   "outputs": [],
   "source": []
  },
  {
   "attachments": {},
   "cell_type": "markdown",
   "metadata": {},
   "source": [
    "Decorators work just like calling `interact` separately, the just make it compact and convenient. "
   ]
  },
  {
   "attachments": {},
   "cell_type": "markdown",
   "metadata": {},
   "source": [
    "## Global Widgets \n",
    "\n",
    "The interface widgets are global. That means that they can be accessed from inside of your function when you use the `global` keyword. Accessing widgets is necessary when the way one widget looks or acts depends on another widget. Here's an example:\n",
    "\n",
    "Suppose you had a UI for ordering at a coffee shop. You can order an item and select add-ons for the item. The valid add-ons depend on the item. For example, coffee might have half-and-half, soy and almond milk and a bagel might have butter, cream cheese and lox. You don't want the user to be able to select lox for their coffee! \n",
    "\n",
    "Here's an example UI:"
   ]
  },
  {
   "cell_type": "code",
   "execution_count": null,
   "metadata": {},
   "outputs": [],
   "source": [
    "# Global variables \n",
    "for_sale = {\n",
    "    'Coffee': ['Half and Half', 'Soy Milk', 'Almond Milk'],\n",
    "    'Bagel': ['Butter', 'Cream Cheese', 'Lox'],\n",
    "}\n",
    "\n",
    "item_widget = ipywidgets.Dropdown(description='Item:', options=for_sale.keys())\n",
    "addon_widget = ipywidgets.RadioButtons(description='Add:')\n",
    "\n",
    "# Interactive function\n",
    "def update_item(item):\n",
    "    \"\"\"Update the options when the item value changes\"\"\"\n",
    "    global for_sale\n",
    "    global addon_widget \n",
    "    addon_widget.options = for_sale[item]\n",
    "\n",
    "# Display the function and the addon widgets:\n",
    "display(\n",
    "    ipywidgets.interactive(update_item, item=item_widget), \n",
    "    addon_widget\n",
    ")"
   ]
  }
 ],
 "metadata": {
  "kernelspec": {
   "display_name": "Python 3 (ipykernel)",
   "language": "python",
   "name": "python3"
  },
  "language_info": {
   "codemirror_mode": {
    "name": "ipython",
    "version": 3
   },
   "file_extension": ".py",
   "mimetype": "text/x-python",
   "name": "python",
   "nbconvert_exporter": "python",
   "pygments_lexer": "ipython3",
   "version": "3.10.12"
  }
 },
 "nbformat": 4,
 "nbformat_minor": 4
}
