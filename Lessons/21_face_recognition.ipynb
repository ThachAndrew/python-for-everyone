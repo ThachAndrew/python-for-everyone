{
 "cells": [
  {
   "cell_type": "code",
   "execution_count": null,
   "metadata": {},
   "outputs": [],
   "source": [
    "import face_recognition\n",
    "import ipycanvas\n",
    "import functools\n"
   ]
  },
  {
   "cell_type": "code",
   "execution_count": null,
   "metadata": {},
   "outputs": [],
   "source": [
    "foo = ()\n",
    "type(foo)"
   ]
  },
  {
   "cell_type": "code",
   "execution_count": null,
   "metadata": {},
   "outputs": [],
   "source": [
    "from p4e.drawing import Turtle\n",
    "tu = Turtle()\n",
    "display(tu)\n",
    "\n",
    "tu.background(\"images/forrest_gump.jpeg\")\n",
    "\n",
    "tu.width(4)\n",
    "faces = tu.find_faces()\n",
    "face = faces[0]\n",
    "tu.up()\n",
    "tu.goto(face['top_right'])\n",
    "tu.down()\n",
    "tu.goto(face['top_left'])\n",
    "tu.goto(face['bottom_left'])\n",
    "tu.goto(face['bottom_right'])\n",
    "tu.goto(face['top_right'])\n",
    "\n",
    "tu.color('red')\n",
    "tu.polygon(face['bottom_lip'])\n",
    "tu.polygon(face['top_lip'])\n",
    "\n",
    "tu.color('blue')\n",
    "tu.polygon(face['left_eye'])\n",
    "tu.polygon(face['right_eye'])\n",
    "\n",
    "tu.color('yellow')\n",
    "tu.polygon(face['left_eyebrow'])\n",
    "tu.polygon(face['right_eyebrow'])\n",
    "\n",
    "tu.up()\n",
    "tu.goto(face['bottom_lip'][-1])\n",
    "tu.down()\n",
    "for point in face['bottom_lip']:\n",
    "    tu.goto(point)\n",
    "\n",
    "tu.goto(0,0)\n",
    "tu.hide()\n",
    "tu._canvas[1].rotate(0.1)\n",
    "tu.write(\"eat me!\", font='68px Impact', fill_color='black', line_color='white')"
   ]
  },
  {
   "cell_type": "code",
   "execution_count": null,
   "metadata": {},
   "outputs": [],
   "source": [
    "from p4e.drawing import Turtle\n",
    "\n",
    "tu = Turtle()\n",
    "tu.write(\"Hello World\")\n",
    "tu.draw(100)\n",
    "tu.turn(90)\n",
    "tu.write(\"Foo\")\n",
    "tu.draw(100)\n",
    "tu"
   ]
  },
  {
   "cell_type": "code",
   "execution_count": null,
   "metadata": {},
   "outputs": [],
   "source": [
    "img = face_recognition.load_image_file(\"images/forrest_gump.jpeg\")\n",
    "mc = ipycanvas.Canvas(width=img.shape[1], height=img.shape[0])\n",
    "\n",
    "mc.put_image_data(img)\n",
    "\n",
    "faces = face_recognition.face_locations(img, model='hog')[0]\n",
    "\n",
    "mc.stroke_style = 'red'\n",
    "mc.fill_style = 'black'\n",
    "mc.font = '12px sans'\n",
    "mc.text_align = 'center'\n",
    "\n",
    "landmarks = face_recognition.face_landmarks(img, face_locations=[faces])[0]\n",
    "\n",
    "mc.stroke_style = 'yellow'\n",
    "for feature in landmarks:\n",
    "    mc.begin_path()\n",
    "    for point in landmarks[feature]:\n",
    "        mc.line_to(point[0], point[1])\n",
    "    mc.close_path()\n",
    "    mc.stroke()\n",
    "    #mc.fill()\n",
    "    s = functools.reduce(lambda x, y: (x[0]+y[0], x[1]+y[1]), landmarks[feature])\n",
    "    s = list(map(lambda x: x / len(landmarks[feature]), s))\n",
    "    mc.stroke_text(feature, s[0], s[1])\n",
    "\n",
    "mc"
   ]
  },
  {
   "cell_type": "code",
   "execution_count": null,
   "metadata": {},
   "outputs": [],
   "source": [
    "from p4e.drawing import Turtle\n",
    "tu = Turtle()\n",
    "display(tu)\n",
    "#tu.write(\"Eat me!\")\n",
    "tu.draw(100)\n",
    "#tu.clear()\n",
    "tu.hide()\n"
   ]
  }
 ],
 "metadata": {
  "interpreter": {
   "hash": "e545cfc6c92b001762a53a61423c49d13f273f2cd05f0ba531f4055e901e6403"
  },
  "kernelspec": {
   "display_name": "Python 3.8.10 64-bit ('venv-p4e': venv)",
   "language": "python",
   "name": "python3"
  },
  "language_info": {
   "codemirror_mode": {
    "name": "ipython",
    "version": 3
   },
   "file_extension": ".py",
   "mimetype": "text/x-python",
   "name": "python",
   "nbconvert_exporter": "python",
   "pygments_lexer": "ipython3",
   "version": "3.8.10"
  },
  "orig_nbformat": 4
 },
 "nbformat": 4,
 "nbformat_minor": 2
}
