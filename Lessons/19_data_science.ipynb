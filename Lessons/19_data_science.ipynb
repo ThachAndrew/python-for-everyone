{
 "cells": [
  {
   "cell_type": "markdown",
   "id": "a4354faa-03f9-4220-b0c6-a1f235ee70c4",
   "metadata": {},
   "source": [
    "# Data Science \n",
    "\n",
    "According to [Wikipedia](https://en.wikipedia.org/wiki/Data_science): \n",
    "\n",
    "> Data science is an interdisciplinary field that uses scientific methods, processes, algorithms and systems to extract knowledge and insights from structured and unstructured data, and apply knowledge and actionable insights from data across a broad range of application domains. Data science is related to data mining, machine learning and big data.\n",
    "\n",
    "Bringing data to life with graphs and analysis is what makes Jupyter so special. In this lession you'll get an introduction to `Pandas` a library for importing, processing and graphing data. \n",
    "\n",
    "> Get started with Pandas using the Pandas tutorials:\n",
    ">\n",
    "> https://pandas.pydata.org/docs/getting_started/intro_tutorials/index.html"
   ]
  },
  {
   "cell_type": "markdown",
   "id": "26b92dee-cef2-4176-91f4-c915613bc5d7",
   "metadata": {},
   "source": [
    "## Tables \n",
    "\n",
    "Data organized into tables (or *tabular* data) is a convinent and powerful way to represent information about a group of related items. Tables consist of rows that each represent one *entity* and columns that are *attributes* of the entity. \n",
    "\n",
    "For example, let's consider the MLB Player dataset from a previous lesson:"
   ]
  },
  {
   "cell_type": "code",
   "execution_count": null,
   "id": "d6d696fb-91a9-4951-91b3-e9cd7a6ed804",
   "metadata": {
    "deletable": false,
    "editable": false,
    "tags": []
   },
   "outputs": [],
   "source": [
    "import pandas \n",
    "df = pandas.read_csv('files/mlb_players.csv')\n",
    "df"
   ]
  },
  {
   "cell_type": "markdown",
   "id": "493c66ca-a252-41ba-85a6-61cac0ec34e7",
   "metadata": {},
   "source": [
    "In the example above each row represents one player and the columns are the pieces of information about that player. Columns have a data type, just like variables. You can have as many columns and rows as you like, within the limit of the computer's memory. "
   ]
  },
  {
   "cell_type": "markdown",
   "id": "4f1cdad0-7d21-431b-80b2-1856ccbac445",
   "metadata": {},
   "source": [
    "## The DataFrame \n",
    "\n",
    "The heart of the Pandas library is the DataFrame. The DataFrame represents a table and gives you access to the algorithms you learned in the last lesson without having to write the `for` loops yourself. The algorithms in Pandas are highly optimized and written in the C programming language so they run faster than anything you could implement yourself in Python. \n",
    "\n",
    "But the algorithms you learned don't work on tables, they work on lists. Getting a list from a table is simple: Just select the **column** you want to turn into a list. For example, let's get the height of every player:\n",
    "\n",
    "```python\n",
    "height = df['Height']\n",
    "height\n",
    "```\n",
    "\n",
    "Try the example:"
   ]
  },
  {
   "cell_type": "code",
   "execution_count": null,
   "id": "bc8ca1fe-c150-40db-84a6-e0c3f6124f6f",
   "metadata": {},
   "outputs": [],
   "source": []
  },
  {
   "cell_type": "markdown",
   "id": "8e465fd8-cdaf-445b-b074-9a8f6061b12a",
   "metadata": {},
   "source": [
    "In order to stay fast, Pandas only supports certain algorithms, like taking the sum of a column. You can write your own with a `for` loop but that will be much slower.  "
   ]
  },
  {
   "cell_type": "markdown",
   "id": "2a4fdbb4-437b-4e84-9608-80d1e1b0160a",
   "metadata": {},
   "source": [
    "## Mapping \n",
    "\n",
    "The `DataFrame` and `Series` support all of Python's basic operators. That makes it easy to do mapping of one or more columns. For example to translate the weight of each player from pounds to kilograms:\n",
    "\n",
    "```python\n",
    "weight = df['Weight']\n",
    "weight / 2.205\n",
    "```\n",
    "\n",
    "Or a simply:\n",
    "\n",
    "```python\n",
    "df['Weight'] / 2.205\n",
    "```\n",
    "\n",
    "Try it:"
   ]
  },
  {
   "cell_type": "code",
   "execution_count": null,
   "id": "c67c8963-74e5-426e-9485-d9ba949191d5",
   "metadata": {},
   "outputs": [],
   "source": []
  },
  {
   "cell_type": "markdown",
   "id": "e705472f-cb6c-445f-ab52-c6c5c80d750c",
   "metadata": {},
   "source": [
    "If you want to create a new column for the mapped series, it's easy: \n",
    "\n",
    "```python\n",
    "df['Weight (kg)'] = df['Weight'] / 2.205\n",
    "df['Height (m)'] = df['Height'] / 39.37\n",
    "df\n",
    "```\n",
    "\n",
    "Now the `DataFrame` has additional columns for metric height and weight."
   ]
  },
  {
   "cell_type": "code",
   "execution_count": null,
   "id": "29fce699-150c-4883-8331-472931e5daec",
   "metadata": {},
   "outputs": [],
   "source": []
  },
  {
   "cell_type": "markdown",
   "id": "91065f0e-481e-444e-8a01-3a665c7ae5fe",
   "metadata": {},
   "source": [
    "Mapping functions can use more than one column in the calculation! For example, you can calculate the Body Mass Index (BMI) of each of the players. The BMI is defined to be:\n",
    "\n",
    "$$BMI = kg / m^2$$\n",
    "\n",
    "To calculate the BMI:\n",
    "\n",
    "```python \n",
    "df['BMI'] = df['Weight (kg)'] / (df['Height (m)'] ** 2)\n",
    "df\n",
    "```\n",
    "\n",
    "Try adding the BMI column:"
   ]
  },
  {
   "cell_type": "code",
   "execution_count": null,
   "id": "e3f45902-a407-4084-b487-69752a23b8a4",
   "metadata": {},
   "outputs": [],
   "source": []
  },
  {
   "cell_type": "markdown",
   "id": "6ce7ea5a-645c-4d66-9dcd-6f1c097e2948",
   "metadata": {},
   "source": [
    "Not everything works like you would expect when you perform a mapping function. For example, you might try to change the height to feet and inches with an f-string:\n",
    "\n",
    "```python\n",
    "f'''{height // 12}'{height % 12}\"'''  # Totally broken!\n",
    "```\n",
    "\n",
    "If you want to do something that's not supported by the built-in mapping operators you can write a function to do it. For example:\n",
    "\n",
    "```python \n",
    "def feet_inches(inches):\n",
    "    \"\"\"Return a string in feet and inches from inches.\"\"\"\n",
    "    return f'''{inches // 12}'{inches % 12}\"'''\n",
    "\n",
    "height.apply(feet_inches)\n",
    "```"
   ]
  },
  {
   "cell_type": "code",
   "execution_count": null,
   "id": "8d4a3695-7415-490c-bebd-d255799c366a",
   "metadata": {},
   "outputs": [],
   "source": []
  },
  {
   "cell_type": "markdown",
   "id": "22b82194-cce1-44b5-ade3-c80e5318dfec",
   "metadata": {},
   "source": [
    "## Filtering \n",
    "\n",
    "Filtering works on either a `Series` or a `DataFrame`. When filtering a `Series` the algorithm works just like the filters you implemented. For example if you wanted to just show player heights over 80 inches:\n",
    "\n",
    "```python \n",
    "height[height > 80]\n",
    "```\n",
    "\n",
    "Try the example:"
   ]
  },
  {
   "cell_type": "code",
   "execution_count": null,
   "id": "00349bef-1fc7-4ecc-9bf3-fd87f03eb44e",
   "metadata": {},
   "outputs": [],
   "source": []
  },
  {
   "cell_type": "markdown",
   "id": "b4179819-2a7a-4941-808d-2be894ba8257",
   "metadata": {},
   "source": [
    "**Look strange?** The Pandas library takes advantage of some of the most advanced features of Python. That sometimes makes it hard to read. In the example above the square brackets are the *index* operator. Inside of them there's a filtering expression that creates a new series of `True` or `False`. See for yourself: \n",
    "\n",
    "```python \n",
    "height > 80\n",
    "```\n",
    "\n",
    "Try it:"
   ]
  },
  {
   "cell_type": "code",
   "execution_count": null,
   "id": "b16f824a-6719-492f-9b6f-76909ffca1ba",
   "metadata": {},
   "outputs": [],
   "source": []
  },
  {
   "cell_type": "markdown",
   "id": "89a3c3b4-4919-4b72-a02e-5f9f2c8d2787",
   "metadata": {},
   "source": [
    "Filtering on a series is fine but it looses the connection between the height and the other data in the row. Filtering can also be applied to the whole `DataFrame`. When you filter this way the output is rows of the `DataFrame` that match the condition. For example:\n",
    "\n",
    "```python \n",
    "df[ df['Height'] > 80 ]\n",
    "```\n",
    "\n",
    "Try that:"
   ]
  },
  {
   "cell_type": "code",
   "execution_count": null,
   "id": "e366c615-e302-4965-a5f4-cc62a4697bfc",
   "metadata": {},
   "outputs": [],
   "source": []
  },
  {
   "cell_type": "markdown",
   "id": "f6d98559-c2a0-4eb7-a3b3-0c0909e0f54a",
   "metadata": {},
   "source": [
    "**Awesome!**"
   ]
  },
  {
   "cell_type": "markdown",
   "id": "01896466-bb04-4363-8bcc-56536e0ee6a7",
   "metadata": {},
   "source": [
    "## Reduction \n",
    "\n",
    "Pandas supports many reduction operations. Here are examples:\n",
    "\n",
    "| Reduction function | Example | Description | \n",
    "| ---- | --- | --- | \n",
    "| `sum()` | `height.sum()` | Return the sum of all values. | \n",
    "| `median()` | `height.median()` | Return the median of values. | \n",
    "| `min()` | `height.min()` | Return the minimum value. | \n",
    "| `max()` | `height.min()` | Return the maximum value. | \n",
    "| `len()` | `len(height)` | Return the number of values in the series. | \n",
    "\n",
    "Try the reduction functions in the next cell:\n"
   ]
  },
  {
   "cell_type": "code",
   "execution_count": null,
   "id": "6ab00ec1-6180-43ee-92ac-9b99f38ed05d",
   "metadata": {},
   "outputs": [],
   "source": []
  },
  {
   "cell_type": "markdown",
   "id": "86b34456-ceb4-4ee9-ad98-f312ae823d5a",
   "metadata": {},
   "source": [
    "If you're taking or are going to take statistics here's a great function for you. The `describe` function computes summary statistics on all numerical columns:\n",
    "\n",
    "```python\n",
    "df.describe()\n",
    "```\n",
    "\n",
    "Try it:"
   ]
  },
  {
   "cell_type": "code",
   "execution_count": null,
   "id": "13a8fa06-28b4-48e3-a9e6-1c08dc01532e",
   "metadata": {},
   "outputs": [],
   "source": []
  },
  {
   "cell_type": "markdown",
   "id": "b217b6d8-9dce-4a8b-8624-fac2f2483a29",
   "metadata": {},
   "source": [
    "## Plotting \n",
    "\n",
    "A picture is worth 1,000 words! Pandas makes it easy to plot the data in a `Series` or multiple series in a `DataFrame`. There are also many kinds of plots avaialable (too many to cover here). The data we have doesn't really have an X-axis so we'll start with a density plot. A histogram shows us how many people fall into \"bins\" defined by a range of a certain attribute. Histograms of measures like BMI usually result in a *bell curve*. \n",
    "\n",
    "To make a histogram:\n",
    "\n",
    "```python \n",
    "df['BMI'].plot.hist()\n",
    "```\n",
    "\n",
    "Is the plot a bell curve?"
   ]
  },
  {
   "cell_type": "code",
   "execution_count": null,
   "id": "61a47ebc-8739-4741-b742-e3653963f696",
   "metadata": {},
   "outputs": [],
   "source": []
  },
  {
   "cell_type": "markdown",
   "id": "43d5a78b-086e-4fe3-9afb-6c7ba19f590b",
   "metadata": {},
   "source": [
    "So you can see more with plotting, let's get a new data set. Pandas will load data directly from a URL. This example loads COVID-19 data from the CDC that's been lightly processed by the New York Times:\n",
    "\n",
    "```python \n",
    "covid = pandas.read_csv(\n",
    "    \"https://raw.githubusercontent.com/nytimes/covid-19-data/master/us-counties.csv\",\n",
    ")\n",
    "covid\n",
    "```\n",
    "\n",
    "**The download will take a little while. As of this writing there are 2 million rows!**"
   ]
  },
  {
   "cell_type": "code",
   "execution_count": null,
   "id": "0d0bcdbd-3b51-4ecc-bc39-4c5483b380a4",
   "metadata": {},
   "outputs": [],
   "source": []
  },
  {
   "cell_type": "markdown",
   "id": "63df06ec-4331-4235-a6b3-a6a599e0bce8",
   "metadata": {},
   "source": [
    "Pandas can't guess how our data is represented. In this case the `date` column is the X-axis or *index*. We need to tell the `DataFrame` that so our plots come out right:\n",
    "\n",
    "```python\n",
    "covid = covid.set_index('date')\n",
    "covid\n",
    "```"
   ]
  },
  {
   "cell_type": "code",
   "execution_count": null,
   "id": "848cea58-256b-41a0-9abb-0a383bdc11ca",
   "metadata": {},
   "outputs": [],
   "source": []
  },
  {
   "cell_type": "markdown",
   "id": "9679b576-f571-43b9-b241-ae3b7afa44eb",
   "metadata": {},
   "source": [
    "The data has a row for every county and day since the first reported COVID-19 case on January 21st 2020. Let's select just the data from Santa Cruz County:\n",
    "\n",
    "```python\n",
    "covid_sc = covid[covid['fips'] == 6087.0]\n",
    "covid_sc\n",
    "```\n",
    "\n",
    "The `covid_sc` `DataFrame` now only contains Santa Cruz cases. "
   ]
  },
  {
   "cell_type": "code",
   "execution_count": null,
   "id": "03c2b4a2-156d-4dae-9780-b30c204ebe76",
   "metadata": {},
   "outputs": [],
   "source": []
  },
  {
   "cell_type": "markdown",
   "id": "bad17f15-96c4-4275-9159-1589cf3db369",
   "metadata": {},
   "source": [
    "Let's plot the cumulative cases over time:\n",
    "\n",
    "```python \n",
    "covid_sc['cases'].plot()\n",
    "```\n",
    "\n",
    "Try that:"
   ]
  },
  {
   "cell_type": "code",
   "execution_count": null,
   "id": "42822b27-44e9-4c62-bbb5-b94de1445bde",
   "metadata": {},
   "outputs": [],
   "source": []
  },
  {
   "cell_type": "markdown",
   "id": "726337c8-e8ee-45f8-8b25-d3fec92f79d1",
   "metadata": {},
   "source": [
    "Pandas is **huge** and there's a enough to learn to fill a whole 16-week class. So I'll leave you with one more example. What if we wanted to see the *new* cases every day. That's the *derivative* of the cumulative cases and the derivative is a mapping function that's built into Pandas. Here's how to plot the new cases:\n",
    "\n",
    "```python \n",
    "covid_sc['cases'].plot()\n",
    "```"
   ]
  },
  {
   "cell_type": "code",
   "execution_count": null,
   "id": "71676547-f82b-4bf9-954d-d7298931e798",
   "metadata": {},
   "outputs": [],
   "source": []
  }
 ],
 "metadata": {
  "kernelspec": {
   "display_name": "Python 3 (ipykernel)",
   "language": "python",
   "name": "python3"
  },
  "language_info": {
   "codemirror_mode": {
    "name": "ipython",
    "version": 3
   },
   "file_extension": ".py",
   "mimetype": "text/x-python",
   "name": "python",
   "nbconvert_exporter": "python",
   "pygments_lexer": "ipython3",
   "version": "3.8.10"
  }
 },
 "nbformat": 4,
 "nbformat_minor": 5
}
