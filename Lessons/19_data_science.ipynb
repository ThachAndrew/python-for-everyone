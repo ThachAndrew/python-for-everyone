{
 "cells": [
  {
   "cell_type": "markdown",
   "id": "a4354faa-03f9-4220-b0c6-a1f235ee70c4",
   "metadata": {},
   "source": [
    "# Data Science \n",
    "\n",
    "According to [Wikipedia](https://en.wikipedia.org/wiki/Data_science): \n",
    "\n",
    "> Data science is an interdisciplinary field that uses scientific methods, processes, algorithms and systems to extract knowledge and insights from structured and unstructured data, and apply knowledge and actionable insights from data across a broad range of application domains. Data science is related to data mining, machine learning and big data.\n",
    "\n",
    "Bringing data to life with graphs and analysis is what makes Jupyter so special. In this lession you'll get an introduction to `Pandas` a library for importing, processing and graphing data. \n",
    "\n",
    "> Get started with Pandas using the Pandas tutorials:\n",
    ">\n",
    "> https://pandas.pydata.org/docs/getting_started/intro_tutorials/index.html"
   ]
  },
  {
   "cell_type": "markdown",
   "id": "d567cd65-aed5-4127-93bc-b64b3dc23023",
   "metadata": {},
   "source": [
    "## Fetch a Dataset \n",
    "\n",
    "The command in the next cell isn't Python. When a cell has a line that starts with a `!` the command is a UNIX command. Run the cell and it will download a dataset that is the number of COVID casses and deaths from all US counties as reported by the CDC and collected by the New York Times."
   ]
  },
  {
   "cell_type": "code",
   "execution_count": null,
   "id": "9a915d91-b4ae-4df3-9377-d29d7e23a0b5",
   "metadata": {},
   "outputs": [],
   "source": [
    "!wget -O us-counties.csv https://raw.githubusercontent.com/nytimes/covid-19-data/master/us-counties.csv"
   ]
  },
  {
   "cell_type": "markdown",
   "id": "7e248192-f173-477b-b3ec-fa7d536300ca",
   "metadata": {},
   "source": [
    "After executing the cell you should see a file called `us-counties.csv` in the file view. Open it."
   ]
  },
  {
   "cell_type": "markdown",
   "id": "e5ad2d78-7d93-497f-8b7f-552b6c3bbb4a",
   "metadata": {},
   "source": [
    "## The DataFrame \n",
    "\n",
    "The heart of the Pandas library is the DataFrame. The DataFrame gives you access to selection, manipulation and visualization of a data set. First, let's import the `pandas` library:"
   ]
  },
  {
   "cell_type": "code",
   "execution_count": null,
   "id": "00349bef-1fc7-4ecc-9bf3-fd87f03eb44e",
   "metadata": {},
   "outputs": [],
   "source": [
    "import pandas"
   ]
  },
  {
   "cell_type": "markdown",
   "id": "92ade711-0770-48eb-b436-668cce0a7e10",
   "metadata": {},
   "source": [
    "The next cell loads the CSV file into a data frame."
   ]
  },
  {
   "cell_type": "code",
   "execution_count": null,
   "id": "a83a5f03-ebac-432b-98b1-86ead36a7892",
   "metadata": {},
   "outputs": [],
   "source": [
    "data = pandas.read_csv('us-counties.csv', index_col=0)"
   ]
  },
  {
   "cell_type": "markdown",
   "id": "c3d8d409-7dd3-442e-af25-e38b2585d274",
   "metadata": {},
   "source": [
    "Now let's display the data:"
   ]
  },
  {
   "cell_type": "code",
   "execution_count": null,
   "id": "2694cf8a-a2ef-4445-90fc-dab5a8569a52",
   "metadata": {},
   "outputs": [],
   "source": [
    "data"
   ]
  },
  {
   "cell_type": "markdown",
   "id": "04ff9633-ac68-4239-8e8c-3d1993ddc6c7",
   "metadata": {},
   "source": [
    "## Selection \n",
    "\n",
    "The index operator lets you pick only the columns you want to see. You can select a single column:"
   ]
  },
  {
   "cell_type": "code",
   "execution_count": null,
   "id": "9ccac9bc-4af3-42ba-b60f-0415cd8397a9",
   "metadata": {},
   "outputs": [],
   "source": [
    "data[\"county\"]"
   ]
  },
  {
   "cell_type": "markdown",
   "id": "d7c9a77f-5b95-4511-8a97-83649c0ac41a",
   "metadata": {},
   "source": [
    "Or you can pick multiple columns using double square brackets:"
   ]
  },
  {
   "cell_type": "code",
   "execution_count": null,
   "id": "0e7ad3d8-55eb-4f62-b589-ae10a722de70",
   "metadata": {},
   "outputs": [],
   "source": [
    "data[[\"county\", \"state\"]]"
   ]
  },
  {
   "cell_type": "markdown",
   "id": "1c820260-b524-4d1c-8159-8bcb256c3f51",
   "metadata": {},
   "source": [
    "## Filtering \n",
    "\n",
    "What if you only want to see data from Santa Cruz? Filtering is the process of picking only the **rows** you want to see. You can filter the data using a somewhat obtuse but effective syntax:"
   ]
  },
  {
   "cell_type": "code",
   "execution_count": null,
   "id": "edf62620-029b-4976-916e-71d34cd3d29a",
   "metadata": {},
   "outputs": [],
   "source": [
    "data[data[\"county\"] == 'Santa Cruz']"
   ]
  },
  {
   "cell_type": "markdown",
   "id": "267d2ef4-6de5-401d-9c14-2ad365947d71",
   "metadata": {},
   "source": [
    "**Oops!** There's a Santa Cruz County, Arizona! We want only California so we have to use the `&` and operator. "
   ]
  },
  {
   "cell_type": "code",
   "execution_count": null,
   "id": "11775646-2c36-4524-b725-34d74dcd9044",
   "metadata": {},
   "outputs": [],
   "source": [
    "data[(data['county'] == 'Santa Cruz') & (data['state'] == 'California')]"
   ]
  },
  {
   "cell_type": "markdown",
   "id": "d1f0e61d-0e31-4ee3-99a0-2643cb13ac43",
   "metadata": {},
   "source": [
    "> The syntax is not very Pythonic. The parens `(` and `)` are REQUIRED when you use the `&` and `|` operators."
   ]
  },
  {
   "cell_type": "markdown",
   "id": "b217b6d8-9dce-4a8b-8624-fac2f2483a29",
   "metadata": {},
   "source": [
    "## Plotting \n",
    "\n",
    "A picture is worth 1,000 words! Pandas makes it easy to plot a DataFrame. "
   ]
  },
  {
   "cell_type": "code",
   "execution_count": null,
   "id": "92714e63-de1c-4e71-a5f4-01b5835746b7",
   "metadata": {},
   "outputs": [],
   "source": [
    "data['cases'].groupby('date').sum().plot(figsize=(10,6))"
   ]
  },
  {
   "cell_type": "markdown",
   "id": "8ff259e4-b1b9-4e2b-98cf-9ea22edcfcbc",
   "metadata": {},
   "source": [
    "Let's look at just cases from Santa Cruz:"
   ]
  },
  {
   "cell_type": "code",
   "execution_count": null,
   "id": "a939837e-383f-40f8-a8c6-23ab02f5fd7a",
   "metadata": {},
   "outputs": [],
   "source": [
    "santa_cruz_cases = data[(data['county'] == 'Santa Cruz') & (data['state'] == 'California')][\"cases\"]\n",
    "santa_cruz_cases.plot(figsize=(10,6))"
   ]
  },
  {
   "cell_type": "markdown",
   "id": "96aff97e-1fba-401b-a5c4-34f6fedf9d21",
   "metadata": {},
   "source": [
    "## Numerical Analysis \n",
    "\n",
    "Pandas has the power to apply functions to rows and colums. Our dataset only count cumulative cases. What if we want to know *new* cases? It's easy to compute, the number of new cases in a day is the difference between the total cases that day and the total cases the day before (a.k.a. the derivative of total cases). "
   ]
  },
  {
   "cell_type": "code",
   "execution_count": null,
   "id": "f1ae0cc6-9365-4eab-881d-1c3068c646dc",
   "metadata": {},
   "outputs": [],
   "source": [
    "derivative = data['cases'].groupby('date').sum().diff()\n",
    "derivative.plot(figsize=(10,6))"
   ]
  },
  {
   "cell_type": "markdown",
   "id": "7933d8ff-6ad8-45f4-aeaa-85daab79c24f",
   "metadata": {},
   "source": [
    "The derivative data is pretty noisy. Let's filter it through a running average: "
   ]
  },
  {
   "cell_type": "code",
   "execution_count": null,
   "id": "ea059350-53d1-437f-87c4-107e57d57fb7",
   "metadata": {},
   "outputs": [],
   "source": [
    "average = derivative.rolling(7).mean().plot(figsize=(10,6))"
   ]
  },
  {
   "cell_type": "markdown",
   "id": "f9d60bed-c0a0-4444-8057-cab34a780a55",
   "metadata": {},
   "source": [
    "## Data Analysis \n",
    "\n",
    "Pandas is a powerful tool for analysis. Unfortunately, its syntax can be pretty confusing. This section is a demonstration of the power of Pandas. You're not expected to know this syntax for class but I wanted to show off some of what's possible. The next cell fetches two California data sets: \n",
    "\n",
    "1. `covidvaccines.csv` - A list of vaccinations by county (with some extra junk)\n",
    "1. `income_data.csv` - A list of income and other financial metrics by county. \n",
    "\n",
    "The goal of this analysis is to see if vaccination rates correlate with income. To know if that's true or not we'll make a scatter plot. For each county we'll calculate the percent vaccinated and plot that by the median income for the latest year we have data. "
   ]
  },
  {
   "cell_type": "code",
   "execution_count": null,
   "id": "16ab9381-6d43-47fd-bf31-49f4230ac286",
   "metadata": {},
   "outputs": [],
   "source": [
    "!wget -O covidvaccines.csv https://data.chhs.ca.gov/dataset/e283ee5a-cf18-4f20-a92c-ee94a2866ccd/resource/130d7ba2-b6eb-438d-a412-741bde207e1c/download/covid19vaccinesbycounty.csv\n",
    "!wget -O income_data.csv https://data.ftb.ca.gov/api/views/usjx-d8a6/rows.csv?accessType=DOWNLOAD"
   ]
  },
  {
   "cell_type": "markdown",
   "id": "8e19553b-e77c-4e3a-99b3-dc508dde82f3",
   "metadata": {},
   "source": [
    "### Process the Vaccine Data \n",
    "\n",
    "The vaccine dataset is indexed by date. We only want the latest date that there is data for. "
   ]
  },
  {
   "cell_type": "code",
   "execution_count": null,
   "id": "916f1833-e55a-4fa8-b549-2af2a1f7d64b",
   "metadata": {},
   "outputs": [],
   "source": [
    "vaccines = pandas.read_csv('covidvaccines.csv')\n",
    "max_date = vaccines['administered_date'].max()\n",
    "print(\"Latest date:\", max_date)"
   ]
  },
  {
   "cell_type": "markdown",
   "id": "c090024b-f27b-461a-beb5-37219a76ff0a",
   "metadata": {},
   "source": [
    "Let's reduce the table down to only the rows for the maximum date, and only the columns we care about. "
   ]
  },
  {
   "cell_type": "code",
   "execution_count": null,
   "id": "edfceb47-8964-424e-a716-95247f0793c7",
   "metadata": {},
   "outputs": [],
   "source": [
    "vaccines_by_county = vaccines[vaccines['administered_date'] == max_date][\n",
    "        [\"county\", \"cumulative_fully_vaccinated\"]\n",
    "    ]\n",
    "\n",
    "# Show the data\n",
    "vaccines_by_county"
   ]
  },
  {
   "cell_type": "markdown",
   "id": "2515c23b-bb86-41e8-b643-8fb171010212",
   "metadata": {},
   "source": [
    "### Process the Income Data\n",
    "\n",
    "We want two things from the income data, the median income and the total population. We need the total population to calucate the percentage of the vaccinated. Again, this table is indexed by year, we only want to see the latest year's data. "
   ]
  },
  {
   "cell_type": "code",
   "execution_count": null,
   "id": "102439c6-9b5e-4e70-8090-6833bdb33215",
   "metadata": {},
   "outputs": [],
   "source": [
    "income = pandas.read_csv('income_data.csv')\n",
    "max_year = income['Taxable Year'].max()\n",
    "print('The latest tax year is:', max_year)"
   ]
  },
  {
   "cell_type": "markdown",
   "id": "3a4dd5ff-48fe-4df5-8ce4-186fc5609098",
   "metadata": {},
   "source": [
    "Now we make the table we want:"
   ]
  },
  {
   "cell_type": "code",
   "execution_count": null,
   "id": "c7c6490b-55ab-495c-9e5d-d42aed9d9444",
   "metadata": {},
   "outputs": [],
   "source": [
    "income_by_county = income[(income['Taxable Year'] == max_year)][\n",
    "        ['County', 'Median Income', 'Population']\n",
    "    ]\n",
    "# Show the data\n",
    "income_by_county"
   ]
  },
  {
   "cell_type": "markdown",
   "id": "d53343c1-cdb3-4e84-92fd-f9b700f2e842",
   "metadata": {},
   "source": [
    "### Merge Datasets \n",
    "\n",
    "The data we need has to be combined (or *joined*) based on the common column: The name of the county. If one table has a county that's not in the other table it gets ignored. That's good because the vaccination data has bogus counties, like \"Unknown\"."
   ]
  },
  {
   "cell_type": "code",
   "execution_count": null,
   "id": "13087f57-0941-4c04-b176-721694c114f9",
   "metadata": {},
   "outputs": [],
   "source": [
    "combined = pandas.merge(vaccines_by_county, income_by_county, \n",
    "                left_on='county', right_on='County').set_index('county')"
   ]
  },
  {
   "cell_type": "markdown",
   "id": "45ff410d-1374-42e6-b6f7-f4d09c19e85e",
   "metadata": {},
   "source": [
    "We also want to compute the percentage of people vaccinated in each county. That's a row-wise operation. Pandas makes that as easy as simple math (no `for` loop required). "
   ]
  },
  {
   "cell_type": "code",
   "execution_count": null,
   "id": "22b8e340-e772-45d9-a24c-e27172b69022",
   "metadata": {
    "tags": []
   },
   "outputs": [],
   "source": [
    "combined['vaccinated_percent'] = 100 * combined['cumulative_fully_vaccinated'] / combined['Population']"
   ]
  },
  {
   "cell_type": "markdown",
   "id": "f4dea262-f777-4306-b384-2ae2c61e2b1d",
   "metadata": {},
   "source": [
    "Finally, let's take just the columns we want in our combined data set.  "
   ]
  },
  {
   "cell_type": "code",
   "execution_count": null,
   "id": "68ba622d-5362-4b73-9493-741d55095e2c",
   "metadata": {},
   "outputs": [],
   "source": [
    "combined = combined[['Median Income', 'vaccinated_percent']]\n",
    "combined"
   ]
  },
  {
   "cell_type": "markdown",
   "id": "208bd47b-ec38-42a6-adea-bce8781206a5",
   "metadata": {},
   "source": [
    "### Plot the Data \n",
    "\n",
    "The code in the next cell produces a pretty plot. It also uses Numpy to fit a line to our scatter plot."
   ]
  },
  {
   "cell_type": "code",
   "execution_count": null,
   "id": "d37e3488-d8da-4efd-9879-93b5887bc28f",
   "metadata": {},
   "outputs": [],
   "source": [
    "import matplotlib.pyplot as plt\n",
    "import numpy as np\n",
    "\n",
    "\n",
    "fig, ax = plt.subplots()\n",
    "combined.plot(x=0, y=1, kind='scatter', figsize=(16,10), ax=ax, color='blue')\n",
    "plt.xlabel(\"Annual Median Income ($) for Households\")\n",
    "plt.ylabel(\"Percentage of Population Fully Vaccinated\")\n",
    "\n",
    "#Labels: Use annotate and specify the (labels, (x_coordinate,y_coordinate))\n",
    "for k, v in combined.iterrows():\n",
    "    ax.annotate(k,(v[\"Median Income\"],v[\"vaccinated_percent\"]))\n",
    "\n",
    "# Add a trend line (a polynomial, degreee 1) based on dataframe. x-axis is the first column. y-axis is the second column\n",
    "z = np.polyfit(combined.iloc[:,0], combined.iloc[:,1], 1)\n",
    "p = np.poly1d(z)\n",
    "plt.plot(combined.iloc[:,0],p(combined.iloc[:,0]),\"r--\") \n",
    "print(z)"
   ]
  }
 ],
 "metadata": {
  "kernelspec": {
   "display_name": "Python 3 (ipykernel)",
   "language": "python",
   "name": "python3"
  },
  "language_info": {
   "codemirror_mode": {
    "name": "ipython",
    "version": 3
   },
   "file_extension": ".py",
   "mimetype": "text/x-python",
   "name": "python",
   "nbconvert_exporter": "python",
   "pygments_lexer": "ipython3",
   "version": "3.8.10"
  }
 },
 "nbformat": 4,
 "nbformat_minor": 5
}
