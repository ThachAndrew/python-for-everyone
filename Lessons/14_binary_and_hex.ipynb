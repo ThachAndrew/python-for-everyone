{
 "cells": [
  {
   "cell_type": "markdown",
   "metadata": {},
   "source": [
    "# Binary, Hex and Character Encoding\n",
    "\n",
    "We're used to counting in a base-10 numbering system, called the decimal system. In the decimal system each place is 10 times larger than the next place and there are 10 number symbols (0 through 9). \n",
    "\n",
    "Consider the number: 231. \n",
    "\n",
    "| \\begin{align} 10^2 \\end{align} | \\begin{align} 10^1 \\end{align} | \\begin{align} 10^0 \\end{align} \n",
    "|-|-|-| \n",
    "| 100's place | 10's place | 1's place | \n",
    "| <span style=\"font-size:x-large;\">2</span> | <span style=\"font-size:x-large;\">3</span> | <span style=\"font-size:x-large;\">1</span> | \n",
    "\n",
    "Binary is a base-2 counting system, where there are just two number symbols, 0 and 1. Binary is the simplest possible counting system. It works for today's computers because 0 represents \"off\" and 1 represnts \"on\", the two states of a [CMOS](https://en.wikipedia.org/wiki/CMOS) gate. \n",
    "\n",
    "Here's the number 231 in binary. \n",
    "\n",
    "| \\begin{align} 2^7 \\end{align} | \\begin{align} 2^6 \\end{align} | \\begin{align} 2^5 \\end{align} | \\begin{align} 2^4 \\end{align} | \\begin{align} 2^3 \\end{align} | \\begin{align} 2^2 \\end{align} | \\begin{align} 2^1 \\end{align} | \\begin{align} 2^0 \\end{align} |\n",
    "|-|-|-|-|-|-|-|-| \n",
    "| 128's place | 64's place | 32's place | 16's place | 8's place | 4's place | 2's place | 1's place | \n",
    "|<span style=\"font-size:x-large;\">1</span> | <span style=\"font-size:x-large;\">1</span> | <span style=\"font-size:x-large;\">1</span> | <span style=\"font-size:x-large;\">0</span> | <span style=\"font-size:x-large;\">0</span> | <span style=\"font-size:x-large;\">1</span> | <span style=\"font-size:x-large;\">1</span> | <span style=\"font-size:x-large;\">1</span> | \n",
    "\n",
    "As you can see it takes more digits to represent a number in binary than it does in decimal. The word \"bit\" is short for \"binary digit\".\n",
    "\n",
    "## Converting from Decimal to Binary \n",
    "\n",
    "Converting from decimal to binary is easy once you know the trick. You do it with a two nstep *algorithm*. Follow these steps.\n",
    "\n",
    "1. Is your number even or odd? If it's odd write a 1. If it's even write a 0. \n",
    "2. Divide your number by 2, ignore any fractional part.  \n",
    "3. Repeat until you get to zero!\n",
    "\n",
    "Here's how to convert 231. \n",
    "\n",
    "| Step | Number | Even or Odd? | Bits so far |\n",
    "|-|-|-|-|\n",
    "| 1 | 231 | Odd | 1 | \n",
    "| 2 | 115 | Odd | 11 | \n",
    "| 3 | 57 | Odd | 111 | \n",
    "| 4 | 28 | Even | 0111 | \n",
    "| 5 | 14 | Even | 00111 | \n",
    "| 6 | 7 | Odd | 100111 | \n",
    "| 7 | 3 | Odd | 1100111 | \n",
    "| 8 | 1 | Odd | 11100111 | \n",
    "| 9 | 0 | Stop! | 11100111 | \n",
    "\n",
    "## Converting from Binary to Decimal \n",
    "\n",
    "Converting from binary to decimal is also easy. Write your binary number and add together all of the place values where your number has a one. Ignore the zeros. \n",
    "\n",
    "\n",
    "| 128 | 64 | 32 | 16 | 8 | 4 | 2 | 1 | \n",
    "|-|-|-|-|-|-|-|-| \n",
    "| 1 | 1 | 1 | 0 | 0 | 1 | 1 | 1 | \n",
    "| 128 | 64 | 32 | &nbsp; | &nbsp;  | 4 | 2 | 1 | \n",
    "\n",
    "128 + 64 + 32 + 4 + 2 + 1 = 231 \n",
    "\n",
    "\n"
   ]
  },
  {
   "cell_type": "markdown",
   "metadata": {},
   "source": [
    "## Exercise \n",
    "\n",
    "Pick a few numbers and convert them. Use my program to check your work. "
   ]
  },
  {
   "cell_type": "code",
   "execution_count": null,
   "metadata": {},
   "outputs": [],
   "source": [
    "number = int(input(\"Please enter an integer: \"))\n",
    "binary = ''\n",
    "\n",
    "while number > 0:\n",
    "    if number % 2 == 0:\n",
    "        binary = '0' + binary\n",
    "        print (f'{number} is even. ({binary})')\n",
    "    else:\n",
    "        binary = '1' + binary\n",
    "        print (f'{number} is odd. ({binary})')\n",
    "\n",
    "    number = int(number / 2)\n",
    "    \n",
    "print (\"All done!\")\n",
    "print (\"The binary is:\", binary)"
   ]
  },
  {
   "cell_type": "markdown",
   "metadata": {},
   "source": [
    "## Hexadecimal \n",
    "\n",
    "Binary is hard to work with because it takes a lot of bits to write most numbers. Decimal is hard to work with because it's cumbersome to convert between binary and decimal. So what's a nerd to do? \n",
    "\n",
    "The hexadecimal counting system is a base-16 counting system. It has 16 number symbols. Hexadecimal borrows the letters A through F to represent number values.  \n",
    "\n",
    "| Symbol | Value | \n",
    "|-|-|\n",
    "| 0-9 | Same as decimal | \n",
    "| a | 10 | \n",
    "| b | 11 | \n",
    "| c | 12 | \n",
    "| d | 13 | \n",
    "| e | 14 | \n",
    "| f | 15 | \n",
    "\n",
    "The great thing about hexadecimal is that you can convert four bits to a decimal digit easily. Here's how. \n",
    "\n",
    "| Bits | Hex | \n",
    "|-|-| \n",
    "| 0000 | 0 | \n",
    "| 0001 | 1 | \n",
    "| 0010 | 2 | \n",
    "| 0011 | 3 | \n",
    "| 0100 | 4 | \n",
    "| 0101 | 5 | \n",
    "| 0110 | 6 | \n",
    "| 0111 | 7 | \n",
    "| 1000 | 8 | \n",
    "| 1001 | 9 | \n",
    "| 1010 | a | \n",
    "| 1011 | b | \n",
    "| 1100 | c | \n",
    "| 1101 | d | \n",
    "| 1110 | e | \n",
    "| 1111 | f | \n",
    "\n",
    "Hexadecimal numbers are often written with a \"0x\" at the beginning. That makes it harder to confuse them with decimal numbers. So when you see \"10\" think *ten* and when you see \"0x10\" think *sixteen*. When you convert binary to hexadecimal split your binary number into groups of four bits. \n",
    "\n",
    "Here's how to convert 231: \n",
    "\n",
    "| 1110 | 0111 |\n",
    "|-|-|\n",
    "| e | 7 | \n",
    "\n",
    "So... \n",
    "\n",
    "230 = 11100111 (binary) = 0xe7 \n"
   ]
  },
  {
   "cell_type": "code",
   "execution_count": null,
   "metadata": {},
   "outputs": [],
   "source": []
  },
  {
   "cell_type": "markdown",
   "metadata": {},
   "source": [
    "**Notice what the special characters do?**"
   ]
  },
  {
   "cell_type": "markdown",
   "metadata": {},
   "source": [
    "## Character Encoding \n",
    "\n",
    "To the computer all data is a bunch of binary numbers, including strings, pictures and videos. So how do you get from a bunch of numbers to a string? There is an agreed upon way to convert the numbers into letters. The agreed upon way is called a *character encoding*. \n",
    "\n",
    "The oldest character encoding that's still in use is called [ASCII](https://en.wikipedia.org/wiki/ASCII), short for American Standard Code for Information Interchange. ASCII uses seven bits to represent 128 different characters. Why so many? To the computer upper case letters are different from lower case letters and there are a whole bunch of special characters. Special characters control how a string looks or is printed. \n",
    "\n",
    "There are a few special characters that are important to know. \n",
    "\n",
    "| Binary | Hex | Decimal | String Notation | Meaning | \n",
    "|-|-|-|-|-| \n",
    "| 000 0000 | 0x00 | 0 | \\0 | Null character. There must be one at the end of every string. | \n",
    "| 000 1001 | 0x09 | 9 | \\\\t | Tab character. Adds an adjustable amount of whitespace. | \n",
    "| 000 1010 | 0x0a | 10 | \\\\n | Line feed. Starts a new line of text on UNIX. | \n",
    "| 000 1101 | 0x0d | 13 | \\\\r | Carriage return. On Windows \\\\r\\\\n together start a new line of text.| \n",
    "\n",
    "Many of the special characters are leftovers from the days when there were no computer monitors. In those days the UNIX command line was typed out using a specially modifed typewriter called a [Teletype](https://en.wikipedia.org/wiki/Teleprinter#/media/File:ASR-33_at_CHM.agr.jpg). \n",
    "\n",
    "It's pretty commont to use \\\\t and \\\\n in strings: \n",
    "\n",
    "```python\n",
    "print('Special characters:\\nNo tab\\n\\tOne tab\\n\\t\\tTwo tabs\\n\\t\\t\\tThree tabs')\n",
    "```\n",
    "\n",
    "Enter the print statement into the cell below."
   ]
  },
  {
   "cell_type": "markdown",
   "metadata": {},
   "source": [
    "### UTF Encoding\n",
    "\n",
    "There's a problem with ASCII. What about if you want to interchange information with non-Americans? ASCII only contains the English alphabet, so you can't write things in other languages. In 1960 when ASCII was developed few other coutries had computers. Now, people all over the world have computers in their pocket. To address this problem the UTF family of encodings was created. UTF is short for Unicode Transformation Format. UTF encodings contain enough characters for every human language *and emojis!*\n",
    "\n",
    "In ASCII every character is one byte (8-bits, with only 7 used). UTF characters can be between one and four bytes (8 to 32 bits). The `ord` and `chr` functions are only work on single-byte characters so the new functions `encode` and `decode` are used to do the same job. \n",
    "\n",
    "### Byte Strings \n",
    "\n",
    "In order to understand what `encode` and `decode` do you need to know about a type of string that I haven't mentioned yet. The b-string is used to express *raw bytes*. Raw bytes are a bunch of numbers. They can be converted to strings using an encoding. \n",
    "\n",
    "Here's how you specify a b-string. Each hexadecimal value in the b-string starts with `\\x`. So `\\x01` is how you write hexadecimal 0x01. \n",
    "\n",
    "```python\n",
    "bytes = b'\\xF0\\x9F\\x98\\xB8'\n",
    "```\n",
    "\n",
    "The `decode` function applies a character encoding to bytes and returns a string. See what happens when you encode the bytes from the previous example: \n",
    "\n",
    "```python\n",
    "print(bytes.decode('utf-8'))\n",
    "```\n",
    "\n",
    "Enter the example lines to see the decoded bytes:"
   ]
  },
  {
   "cell_type": "code",
   "execution_count": null,
   "metadata": {},
   "outputs": [],
   "source": []
  },
  {
   "cell_type": "markdown",
   "metadata": {},
   "source": [
    "**Meow!** The `encode` and `decode` functions cannot automatically determine the character encoding, you have to tell them. See what happens to the code above if you try to decode the bytes as \"ascii\". \n",
    "\n",
    "The `encode()` function does the reverse. Here's how to convert the smiling cat face emoji to the 'utf-32' format. "
   ]
  },
  {
   "cell_type": "code",
   "execution_count": 1,
   "metadata": {
    "deletable": false,
    "editable": false
   },
   "outputs": [
    {
     "data": {
      "text/plain": [
       "b'\\xff\\xfe\\x00\\x00\\x16\\xf9\\x01\\x00'"
      ]
     },
     "execution_count": 1,
     "metadata": {},
     "output_type": "execute_result"
    }
   ],
   "source": [
    "'🤖'.encode('utf-32')"
   ]
  },
  {
   "cell_type": "markdown",
   "metadata": {},
   "source": [
    "Check out your favorite emojis at [https://getemoji.com/](https://getemoji.com/). Try encoding them to see what they look like in bytes. After that take a look at the [standard encodings](https://docs.python.org/3/library/codecs.html#standard-encodings) that are built into Python. Try encoding your favorite emoji with different *codecs* (short for coder-decoder). "
   ]
  },
  {
   "cell_type": "markdown",
   "metadata": {},
   "source": [
    "### File Encodings\n",
    "\n",
    "Files are made of raw bytes. When you open a file Python 3 assumes that the file is UTF-8 encoded and the familiar functions like `readline()` return strings. That's not always what you want. Placing the letter `b` in the file mode tells Python to return bytes instead of strings."
   ]
  },
  {
   "cell_type": "code",
   "execution_count": 1,
   "metadata": {},
   "outputs": [
    {
     "name": "stdout",
     "output_type": "stream",
     "text": [
      "b'Afrikaans\\n'\n",
      "b'\\xe1\\x8a\\xa0\\xe1\\x88\\x9b\\xe1\\x88\\xad\\xe1\\x8a\\x9b\\n'\n",
      "b'\\xd0\\x90\\xd2\\xa7\\xd1\\x81\\xd1\\x88\\xd3\\x99\\xd0\\xb0\\n'\n",
      "b'\\xd8\\xa7\\xd9\\x84\\xd8\\xb9\\xd8\\xb1\\xd8\\xa8\\xd9\\x8a\\xd8\\xa9\\n'\n"
     ]
    }
   ],
   "source": [
    "with open('files/languages.txt', 'rb') as f: \n",
    "    print (f.readline())\n",
    "    print (f.readline())\n",
    "    print (f.readline())\n",
    "    print (f.readline())"
   ]
  },
  {
   "cell_type": "markdown",
   "metadata": {},
   "source": [
    "The `b` flag is important when you're trying to read binary files like images or videos. If you're trying to read a text file with an alternate encoding you can pass the `encoding=` keyword argument to `open()`. Here's an example where the file encoding is explicity set. "
   ]
  },
  {
   "cell_type": "code",
   "execution_count": 3,
   "metadata": {},
   "outputs": [
    {
     "name": "stdout",
     "output_type": "stream",
     "text": [
      "Afrikaans\n",
      "\n",
      "አማርኛ\n",
      "\n",
      "Аҧсшәа\n",
      "\n",
      "العربية\n",
      "\n"
     ]
    }
   ],
   "source": [
    "with open('files/languages.txt', 'r', encoding='utf-8') as f: \n",
    "    print (f.readline())\n",
    "    print (f.readline())\n",
    "    print (f.readline())\n",
    "    print (f.readline())"
   ]
  }
 ],
 "metadata": {
  "kernelspec": {
   "display_name": "Python 3",
   "language": "python",
   "name": "python3"
  },
  "language_info": {
   "codemirror_mode": {
    "name": "ipython",
    "version": 3
   },
   "file_extension": ".py",
   "mimetype": "text/x-python",
   "name": "python",
   "nbconvert_exporter": "python",
   "pygments_lexer": "ipython3",
   "version": "3.8.10"
  }
 },
 "nbformat": 4,
 "nbformat_minor": 4
}
