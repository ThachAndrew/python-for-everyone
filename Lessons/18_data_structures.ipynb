{
 "cells": [
  {
   "cell_type": "markdown",
   "source": [
    "# Data Structures \n",
    "\n",
    "A *data structure* is a way to store and organize data in a computer program. Lists and a dictionaries are both data structures. In this lesson you'll see how you can *combine* dictionaries and lists to make complex structures that represent real-world data. Then you'll see how you can retrieve from the web using Python. \n",
    "\n",
    "## Lists and Dictionary Values \n",
    "\n",
    "List and dictionary values can be *any type* in Python. That's right, they can be strings, number, file handles or even *other lists or dictionareis*. Creating a dictionary of dictionaries is easy, where you would have put a scalar value you put the declaration of a dictionary. For example, think about a contact in your phone: \n",
    "\n",
    "```python\n",
    "contact = {\n",
    "    'Name': 'Mike',\n",
    "    'Email': 'mike@mike.com',\n",
    "    'Phone': {\n",
    "        'Work': '555-1212',\n",
    "        'Mobile': '555-2323',\n",
    "    }\n",
    "}\n",
    "```\n",
    "\n",
    "Look closely and you'll see that the *value* for the key `Phone` is itself a dictionary. Enter the example into the cell below and print it:"
   ],
   "metadata": {}
  },
  {
   "cell_type": "code",
   "execution_count": null,
   "source": [],
   "outputs": [],
   "metadata": {}
  },
  {
   "cell_type": "markdown",
   "source": [
    "**How do you access the phone numbers?** You stack together the square brackets `[` and `]`. Here's how you would print Mike's work number:\n",
    "\n",
    "```python\n",
    "print(contact['Phone']['Work'])\n",
    "```\n",
    "\n",
    "Try that:"
   ],
   "metadata": {}
  },
  {
   "cell_type": "code",
   "execution_count": null,
   "source": [],
   "outputs": [],
   "metadata": {}
  },
  {
   "cell_type": "markdown",
   "source": [
    "Set a breakpoint on that print statement and look at the `contact` variable in the debugger. See how the values nest? When you want to get a value from the structure you have to remember to *dereference* the contact information from left to right. \n",
    "\n",
    "## Looping Over Data Structures \n",
    "\n",
    "The `for` loop doesn't change when you start to loop over more complicated structures, but it's a little tricky to keep track of everything at first. Let's see a more complicated example where you can see how to loop over contact information. Here's an example of a contact list: \n",
    "\n",
    "```python\n",
    "contacts = {\n",
    "    'Mike': {\n",
    "        'Name': 'Mike',\n",
    "        'Email': 'mike@mike.com',\n",
    "        'Phone': {\n",
    "            'Work': '555-1212',\n",
    "            'Mobile': '555-2323',\n",
    "        }\n",
    "    },\n",
    "    'Nora': {\n",
    "        'Name': 'Nora', \n",
    "        'Email': 'nora@nora.com',\n",
    "        'Phone': {\n",
    "            'Work': '555-2222',\n",
    "            'Mobile': '555-3333',\n",
    "        }\n",
    "    }\n",
    "}\n",
    "```\n",
    "\n",
    "Copy the example into the next cell and add yourself as a contact:"
   ],
   "metadata": {}
  },
  {
   "cell_type": "code",
   "execution_count": null,
   "source": [],
   "outputs": [],
   "metadata": {}
  },
  {
   "cell_type": "markdown",
   "source": [
    "Now let's build loops to show all of the information in the contact list. Let's start by looping over contact names:\n",
    "\n",
    "```python\n",
    "for contact in contacts:\n",
    "    print(f\"Name: {contact}\")\n",
    "```\n",
    "\n",
    "Not so hard! Enter that into the next cell and test it:"
   ],
   "metadata": {}
  },
  {
   "cell_type": "code",
   "execution_count": null,
   "source": [],
   "outputs": [],
   "metadata": {}
  },
  {
   "cell_type": "markdown",
   "source": [
    "Now let's print out more information about each contact:\n",
    "\n",
    "```python\n",
    "for contact in contacts:\n",
    "    print(\"Name:\", contact)\n",
    "    print(\"  Email:\", contacts[contact][\"Email\"])\n",
    "```\n",
    "\n",
    "Now update your code to print the email address:"
   ],
   "metadata": {}
  },
  {
   "cell_type": "code",
   "execution_count": null,
   "source": [],
   "outputs": [],
   "metadata": {}
  },
  {
   "cell_type": "markdown",
   "source": [
    "**Make sure you understand how email is being retrieved.** Here's an explainer:\n",
    "\n",
    "* `contacts` -- The contact list (a dictionary with contact names as keys)\n",
    "* `contact` -- A key from the dictionary \n",
    "* `contacts[contact]` -- A dictionary with contact information types as keys\n",
    "* `contacts[contact][\"Email\"]` -- The email address of `contact`.\n",
    "\n",
    "But how do we get the phone numbers? We need another for loop! Here's completed code that gets all of the information:\n",
    "\n",
    "```python\n",
    "for contact in contacts:\n",
    "    print(\"Name:\", contact)\n",
    "    print(\"  Email:\", contacts[contact][\"Email\"])\n",
    "    for phonetype in contacts[contact][\"Phone\"]:\n",
    "        print(\"  Phone:\", phonetype, contacts[contact][\"Phone\"][phonetype])\n",
    "```\n",
    "\n",
    "Complete your code in the next cell:"
   ],
   "metadata": {}
  },
  {
   "cell_type": "code",
   "execution_count": null,
   "source": [],
   "outputs": [],
   "metadata": {}
  },
  {
   "cell_type": "markdown",
   "source": [
    "Now let's add to the explanation the way we got the phone number information:\n",
    "\n",
    "* `contacts[contact][\"Phone\"]` -- A dictionary with phone types as keys and numbers as values\n",
    "* `phonetype` -- A key in the `contacts[contact][\"Phone\"]` dictionary\n",
    "* `contacts[contact][\"Phone\"][phonetype]` -- The phone number corresponding to `phonetype`. \n",
    "\n",
    "This is complicated for a beginner. With practice you'll get the hang of it. Use the debugger. \n",
    "\n",
    "## Web APIs \n",
    "\n",
    "If data structures are complicated, why learn them in an intro class? Because knowing them enables you to do one of the most important and interesting things you can do with Python: Use the web to load data into your program. Click this link to Wikipedia:\n",
    "\n",
    "https://en.wikipedia.org/w/api.php?format=json&action=query&prop=extracts&exintro=&explaintext=&titles=Lion\n",
    "\n",
    "It's not the Wikipedia site you're expecting! What you see on your screen is JavaScript Object Notation or (JSON). It's compact, so I've \"unrolled\" it for you below: \n",
    "\n",
    "```json \n",
    "{\n",
    "    \"batchcomplete\": \"\",\n",
    "    \"query\": {\n",
    "        \"pages\": {\n",
    "            \"36896\": {\n",
    "                \"pageid\": 36896,\n",
    "                \"ns\": 0,\n",
    "                \"title\": \"Lion\",\n",
    "                \"extract\": \"The lion (Panthera leo) is a species in the family Felidae...\"}\n",
    "        }\n",
    "    }\n",
    "}\n",
    "```\n",
    "\n",
    "**Look familiar?** JSON and Python notation for dictionaries are *almost* identical. In most cases you can copy JSON right into your Python program and it will work. (One key eception is that JSON uses lower case `t` and `f` in `True` and `False`.) However you don't need to copy and paste data, Python has packages that allow you to fetch a website and convert JSON into native Python dictionaries. Here's a function that queries Wikipedia and returns the JSON data as a Python dictionary: "
   ],
   "metadata": {}
  },
  {
   "cell_type": "code",
   "execution_count": 22,
   "source": [
    "import json \n",
    "import requests \n",
    "import urllib \n",
    "\n",
    "def wiki_fetch(title) :\n",
    "    \"\"\"Queries Wikipeida using the JSON API and returns the resulting page. \n",
    "\n",
    "    Arguments: \n",
    "        title - (string) The title of the page.  \n",
    "\n",
    "    Returns: \n",
    "        The JSON response converted to a dictionary.\n",
    "    \"\"\"\n",
    "    safe_title = urllib.parse.quote(title)\n",
    "    url = f'https://en.wikipedia.org/w/api.php?format=json&action=query&prop=extracts&exintro=&explaintext=&titles={safe_title}'\n",
    "    response = requests.get(url)\n",
    "    data = json.loads(response.text)\n",
    "    return data"
   ],
   "outputs": [],
   "metadata": {
    "deletable": false,
    "editable": false
   }
  },
  {
   "cell_type": "markdown",
   "source": [
    "Here's an example of how you call the function: \n",
    "\n",
    "```python\n",
    "data = wiki_fetch(\"Lion\")\n",
    "```\n",
    "\n",
    "Call the function and print the data that is returned."
   ],
   "metadata": {}
  },
  {
   "cell_type": "code",
   "execution_count": null,
   "source": [],
   "outputs": [],
   "metadata": {}
  },
  {
   "cell_type": "markdown",
   "source": [
    "**Use the debugger to look through the data**."
   ],
   "metadata": {}
  }
 ],
 "metadata": {
  "kernelspec": {
   "name": "python3",
   "display_name": "Python 3.8.10 64-bit ('venv-p4e': venv)"
  },
  "language_info": {
   "codemirror_mode": {
    "name": "ipython",
    "version": 3
   },
   "file_extension": ".py",
   "mimetype": "text/x-python",
   "name": "python",
   "nbconvert_exporter": "python",
   "pygments_lexer": "ipython3",
   "version": "3.8.10"
  },
  "pycharm": {
   "stem_cell": {
    "cell_type": "raw",
    "metadata": {
     "collapsed": false
    },
    "source": []
   }
  },
  "interpreter": {
   "hash": "829bb803ac22aa7d95edabd6aa331a37f41a1116b507c2861962a601ca52c8cd"
  }
 },
 "nbformat": 4,
 "nbformat_minor": 4
}