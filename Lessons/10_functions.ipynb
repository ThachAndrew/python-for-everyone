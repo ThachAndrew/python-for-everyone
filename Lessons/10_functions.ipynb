{
 "cells": [
  {
   "cell_type": "markdown",
   "metadata": {},
   "source": [
    "# Functions \n",
    "\n",
    "A *function* groups together instructions and gives them a name. They are the most important way to reuse code. Python functions are named after functions in math and, just like their mathematical counterparts, have inputs and outputs. Functions begin with the `def` keyword. Here's an example of a function called `triangle`.\n",
    "\n",
    "```python \n",
    "def triangle():\n",
    "    \"\"\"Draw a triangle\"\"\"\n",
    "    from p4e.drawing import Turtle\n",
    "    tu = Turtle()\n",
    "    display(tu)\n",
    "    tu.draw(70)\n",
    "    tu.turn(120)\n",
    "    tu.draw(70)\n",
    "    tu.turn(120)\n",
    "    tu.draw(70)\n",
    "    tu.turn(120)\n",
    "```\n",
    "\n",
    "The `triangle` function is just a collection of statements that you're already familiar with. The statements are indented inside the `def` statement to signify that they belong with the definition of `triangle`. There's a string at the top called a *docstring*. The docstring describes what the function does. \n",
    "\n",
    "Try typing the `triangle` function into the next cell:"
   ]
  },
  {
   "cell_type": "code",
   "execution_count": null,
   "metadata": {},
   "outputs": [],
   "source": []
  },
  {
   "cell_type": "markdown",
   "metadata": {},
   "source": [
    "Run the code in the cell. What happened? \n",
    "\n",
    "The code above *defines* the function. Defining a function makes the name of the function available but does not execute the instructions *inside* the function. They are executed when the function is *called* or invoked. This code calls `triangle`:\n",
    "\n",
    "```python\n",
    "triangle()\n",
    "```\n",
    "\n",
    "Call `triangle` in the next cell:"
   ]
  },
  {
   "cell_type": "code",
   "execution_count": null,
   "metadata": {},
   "outputs": [],
   "source": []
  },
  {
   "cell_type": "markdown",
   "metadata": {},
   "source": [
    "A fucntion definition is a *compound statement*."
   ]
  },
  {
   "cell_type": "markdown",
   "metadata": {},
   "source": [
    "## Compound Statements and Whitespace \n",
    "\n",
    " A compound statement is a is a statement that contains other code. The code inside of a compound statement begins after a colon and is indented to the right of the beginning of the statement. \n",
    "\n",
    "![Compound Statements](images/python_compound_statements.png)\n",
    "\n",
    "Here's the pictured statement written into a cell:"
   ]
  },
  {
   "cell_type": "code",
   "execution_count": null,
   "metadata": {
    "deleteable": false,
    "editable": false
   },
   "outputs": [],
   "source": [
    "def my_function():\n",
    "    \"\"\"Say Hello!\"\"\"\n",
    "    a = 'Hello'\n",
    "    b = 'World'\n",
    "    print ('{}, {}!'.format(a,b))\n",
    "    \n",
    "print('This is my program.')\n",
    "my_function()"
   ]
  },
  {
   "cell_type": "markdown",
   "metadata": {},
   "source": [
    "**Did the print statements come out in the oder you expected?** Set a breakpoint on line 1 and step through the program. If you're new to programming it might take you a while to wrap your mind around how execution jumps around now that you use functions. Practice using the debugger!"
   ]
  },
  {
   "cell_type": "markdown",
   "metadata": {},
   "source": [
    "### Python and Whitespace \n",
    "\n",
    "The use of whitespace is controversial in Python. The statements inside of a function must be ligned up to the right of the function and even with each other. You can use either tabs or spaces but you can't mix them. Use of whitespace in Python is designed to help you easily see the instructions that are inside and oustide of a function. \n",
    "\n",
    "```python\n",
    "def line_up():\n",
    "    print('This is inside')\n",
    "    print('Also inside')\n",
    "print('This is outside')\n",
    "print('Still outside')\n",
    "```\n",
    "\n",
    "Most other programming languages like, for example C, C++, Java and JavaScript, use braces to signify the beginning and end of a function. The rule in those languages is that \"whitespace doesn't matter.\" Here's an example of \"Hello World\" in C++: \n",
    "\n",
    "```c++\n",
    "int main() { \n",
    "    std::string my_name = \"Boaty McBoatface\";\n",
    "    std::cout << \"Hello \" << my_name << std::endl;\n",
    "}\n",
    "```\n",
    "\n",
    "That's the way you're *supposed* to write it. But, you could write it to look much worse:\n",
    "\n",
    "```c++\n",
    "int main(){std::string my_name=\"Boaty McBoatface\";std::cout<<\"Hello \"<<my_name<<std::endl;}\n",
    "```\n",
    "\n",
    "Witespace in Python enforces a readable style. Not everyone likes that. "
   ]
  },
  {
   "cell_type": "markdown",
   "metadata": {},
   "source": [
    "## Function Arguments \n",
    "\n",
    "Funtions are like machines that take *inputs* and produce *outputs*. The input to the function is called an *argument* and the output is called a *return value*. Function arguments are named in the function definition between the parentheses, they are separated by commas. Here's an example of a function that takes one argument:\n",
    "\n",
    "```python \n",
    "def say_hello(name):\n",
    "    print(f\"Hello, {name}\")\n",
    "```\n",
    "\n",
    "Type the `say_hello` function into the next cell: "
   ]
  },
  {
   "cell_type": "code",
   "execution_count": null,
   "metadata": {},
   "outputs": [],
   "source": []
  },
  {
   "cell_type": "markdown",
   "metadata": {},
   "source": [
    "Now call your function in the next cell:"
   ]
  },
  {
   "cell_type": "code",
   "execution_count": null,
   "metadata": {},
   "outputs": [],
   "source": []
  },
  {
   "cell_type": "markdown",
   "metadata": {},
   "source": [
    "**Can you see how the argument becomes the `name` variable?** Now let's see a function that takes two arguments. Here's an example:\n",
    "\n",
    "```python \n",
    "def name_tag(first_name, last_name):\n",
    "    print(f\"Hello, my name is {first_name} {last_name}\")\n",
    "```\n",
    "\n",
    "Enter the `name_tag` function into the next cell:"
   ]
  },
  {
   "cell_type": "code",
   "execution_count": null,
   "metadata": {},
   "outputs": [],
   "source": []
  },
  {
   "cell_type": "markdown",
   "metadata": {},
   "source": [
    "Now call the `name_tag` function with two arguments:"
   ]
  },
  {
   "cell_type": "code",
   "execution_count": null,
   "metadata": {},
   "outputs": [],
   "source": []
  },
  {
   "cell_type": "markdown",
   "metadata": {},
   "source": [
    "Functions can have any number of arguments, zero or more. The names of arguments are used as variables inside of the function. Here's an example of why arguments are so useful. This is the `triangle` function from before with an argument that controls the size of the triangle:\n",
    "\n",
    "```python\n",
    "def triangle(size):\n",
    "    \"\"\"This triangle function takes an input: size\"\"\"\n",
    "    tu = Turtle()\n",
    "    display(tu)\n",
    "    tu.draw(size)\n",
    "    tu.turn(120)\n",
    "    tu.draw(size)\n",
    "    tu.turn(120)\n",
    "    tu.draw(size)\n",
    "```\n",
    "\n",
    "Try updating the `triangle` function to take the `size` argument:"
   ]
  },
  {
   "cell_type": "code",
   "execution_count": null,
   "metadata": {},
   "outputs": [],
   "source": []
  },
  {
   "cell_type": "markdown",
   "metadata": {},
   "source": [
    "When you call a function that takes an argument you must specify a value for the argument. Call your function and change the size around:"
   ]
  },
  {
   "cell_type": "code",
   "execution_count": null,
   "metadata": {},
   "outputs": [],
   "source": []
  },
  {
   "cell_type": "markdown",
   "metadata": {},
   "source": [
    "It's an error to call a function with the wrong number of arguments. Try it and see the error message that results. Functions can have any number of argumens. This function takes two arguments, `name` and `color`. The function uses HTML to print out the contents of `name` in the `color` of your coice: \n",
    "\n",
    "```python\n",
    "from IPython.core.display import HTML\n",
    "\n",
    "def html_nametag(name, color): \n",
    "    \"\"\"Print a nametag using HTML\"\"\"\n",
    "    display(HTML(f'''<h1 style=\"color: {color}\">Hello I'm {name}</h1>'''))\n",
    "```"
   ]
  },
  {
   "cell_type": "markdown",
   "metadata": {},
   "source": [
    "When you call the function you must supply a value for both `name` and `color`:\n",
    "\n",
    "```python\n",
    "html_nametag(\"Mike\", \"red\")\n",
    "```\n",
    "\n",
    "Try entering the html_nametag function and calling it."
   ]
  },
  {
   "cell_type": "code",
   "execution_count": null,
   "metadata": {},
   "outputs": [],
   "source": []
  },
  {
   "cell_type": "markdown",
   "metadata": {},
   "source": [
    "## Return Values \n",
    "\n",
    "The *return value* is the output of a function. The return value is passed back to the place where the function is called. Inside of a function the `return` keyword causes a function to exit (or *return*) the flow of the program to where the function was called. Here's an example of a function that returns a value:\n",
    "\n",
    "```python\n",
    "def random_number():\n",
    "    \"\"\"I chose 4 completely at random.\"\"\"\n",
    "    return 4 \n",
    "```\n",
    "\n",
    "When you call the function you use an equal sign to *catch* and store the returned value. In the code below the return value from `random_number` is stored in the variable `num`. \n",
    "\n",
    "```python\n",
    "num = random_number()\n",
    "print('num is:', num)\n",
    "```\n",
    "\n",
    "Enter the example code into the cell below and run it:"
   ]
  },
  {
   "cell_type": "code",
   "execution_count": null,
   "metadata": {},
   "outputs": [],
   "source": []
  },
  {
   "cell_type": "markdown",
   "metadata": {},
   "source": [
    "**Can you see how the number 4 is returned to the place where the call is made?**"
   ]
  },
  {
   "cell_type": "markdown",
   "metadata": {},
   "source": [
    "The `return` statement stops the execution of a function, no code after the `return` statement is executed. Here's an example of a function with a problem. The last `print` statement in the `early_return` won't be executed:\n",
    "\n",
    "```python\n",
    "def early_return():\n",
    "    print(\"You see this.\")\n",
    "    return \n",
    "    print(\"Not this.\")\n",
    "    \n",
    "early_return()\n",
    "```"
   ]
  },
  {
   "cell_type": "code",
   "execution_count": null,
   "metadata": {},
   "outputs": [],
   "source": []
  },
  {
   "cell_type": "markdown",
   "metadata": {},
   "source": [
    "**Use the debugger to trace the function execution.** A function can return any number of values. The values in the return are separated by commas. Here's a function that returns three values: \n",
    "\n",
    "```python\n",
    "def multiple_values():\n",
    "    return \"One\", \"Two\", \"Three\"\n",
    "```"
   ]
  },
  {
   "cell_type": "markdown",
   "metadata": {},
   "source": [
    "When a function returns mutiple values all of the values must be received by variables on the left of the equal sign. Here's how to catch all of the return vaules from the `multiple_values` function: \n",
    "\n",
    "```python\n",
    "one, two, three = multiple_values()\n",
    "```\n",
    "\n",
    "Try entering and calling the `multiple_values` function:"
   ]
  },
  {
   "cell_type": "code",
   "execution_count": null,
   "metadata": {},
   "outputs": [],
   "source": []
  },
  {
   "cell_type": "markdown",
   "metadata": {},
   "source": [
    "Remember the syntax! "
   ]
  },
  {
   "cell_type": "markdown",
   "metadata": {},
   "source": [
    "## Mixing Arguments and Return Values \n",
    "\n",
    "Most functions both take arguments and return values. Here's an example of a function that adds two numbers and returns their sum. \n",
    "\n",
    "```python\n",
    "def add_two_numbers(a, b) :\n",
    "    c = a + b \n",
    "    return c \n",
    "```\n",
    "\n",
    "The caller of the function supplies input and stores the returned output of the function:\n",
    "\n",
    "```python\n",
    "s = add_two_numbers(10, 100)\n",
    "print(s)\n",
    "```\n",
    "\n",
    "Here's another example of a function that performs math. This does three operations and returns the results:\n",
    "\n",
    "```python \n",
    "def do_math(a, b) :\n",
    "  su = a + b \n",
    "  pr = a * b \n",
    "  ra = a / b \n",
    "  return su, pr, ra \n",
    "```\n",
    "\n",
    "You can store multiple return values with multiple variables:\n",
    "\n",
    "```python\n",
    "ret1, ret2, ret3 = do_math(12, 45)\n",
    "print(f'The sum: {ret1}, product: {ret2} ratio: {ret3}')\n",
    "```\n",
    "\n",
    "Try entering the example functions. "
   ]
  },
  {
   "cell_type": "markdown",
   "metadata": {},
   "source": []
  },
  {
   "cell_type": "markdown",
   "metadata": {},
   "source": [
    "**Do you see that values are passed between different variables?** Use the debugger to explore. "
   ]
  },
  {
   "cell_type": "markdown",
   "metadata": {},
   "source": [
    "## An Example Problem \n",
    "\n",
    "I will ask you to write functions in assignments and on the midterm and the final. Writing functions to specification is a very common task in the life of a programmer. A function specification gives you the four important things you need to know when you write a function: \n",
    "\n",
    "1. The name of the function \n",
    "1. The function arguments \n",
    "1. The return value\n",
    "1. A description of what the function does. \n",
    "\n",
    "Here's an example speicification:\n",
    "\n",
    "<div class=\"alert alert-info\">\n",
    "<strong>Example Problem</strong>\n",
    "\n",
    "Write a function called `power_of` that takes two arguments, `sig` and `power`. The function should return the value: \n",
    "\\begin{equation*}\n",
    "sig^\\left( power \\right)\n",
    "\\end{equation*}\n",
    "\n",
    "* Name: `power_of`\n",
    "* Arguments:\n",
    "    * `sig` (`float`) - The significand  \n",
    "    * `power` (`float`) - The exponent \n",
    "* Returns: The `sig` to the `power` power.\n",
    "</div>\n",
    "\n",
    "\n",
    "When you get a function description, start by setting up the problem. Create a function with a matching name and arguments. If there's a return value add a return statement (even if it is not returning the right thing at first). Alwyas add a docstring. Here's the start of the solution: \n",
    "\n",
    "```python \n",
    "def power_of(sig, power):\n",
    "    \"\"\"The power_of function's docstring\"\"\" \n",
    "    return 0 # Fix me later\n",
    "```\n",
    "\n",
    "Once setup, write code to call your function that you use to test. It's essential to test your code as you go along. Write a line or two and then test again. Here's some code to test the `power_of` function:\n",
    "\n",
    "```python\n",
    "got = power_of(2, 5)\n",
    "print(f\"I got {got} and it should be 32\")\n",
    "```\n",
    "\n",
    "Now that you have a start and a way to test your code you can begin to problem solve and finish the question. Don't know how to do it. Try Google. Try searching for \"[python power operator](https://www.google.com/search?q=python+power+operator&oq=python+power+o&aqs=chrome.0.0l3j69i57j0l4.4884j1j7&sourceid=chrome&ie=UTF-8)\"."
   ]
  },
  {
   "cell_type": "code",
   "execution_count": null,
   "metadata": {},
   "outputs": [],
   "source": []
  },
  {
   "cell_type": "markdown",
   "metadata": {},
   "source": [
    "## Designing with Functions \n",
    "\n",
    "Functions give you a way to name snippets of code. The name of the function should succinctly describe what the function does. Here's an example of a function that reads the first line of a file:\n",
    "\n",
    "```python\n",
    "def read_first_line(filename):\n",
    "    \"\"\"Read the first line of a file.\"\"\"\n",
    "    file_handle = open(filename, 'r') \n",
    "    line = file_handle.readline()\n",
    "    file_handle.close()\n",
    "    return line\n",
    "```\n",
    "\n",
    "Calling the function returns the first line of the file:\n",
    "\n",
    "```python\n",
    "print(read_first_line('files/example.txt'))\n",
    "```\n"
   ]
  },
  {
   "cell_type": "code",
   "execution_count": null,
   "metadata": {},
   "outputs": [],
   "source": []
  },
  {
   "cell_type": "markdown",
   "metadata": {},
   "source": [
    "### The Importance of Docstrings\n",
    "\n",
    "Functions have docstrings to help readers understand what they do. For complicated functions docstrings describe in detail the function arguments and return values. Here's a docstring describing the `read_first_line` function.\n",
    "\n",
    "```python\n",
    "def read_first_line(filename) :\n",
    "    \"\"\"\n",
    "    Read the first line of a file.\n",
    "    \n",
    "    Arguments:\n",
    "        filename - The name of the file to read. \n",
    "    \n",
    "    Returns: A str containing the first line of the file.\n",
    "    \"\"\"\n",
    "    file = open(filename, 'r') \n",
    "    line = file.readline()\n",
    "    file.close()\n",
    "    return line\n",
    "```\n"
   ]
  },
  {
   "cell_type": "code",
   "execution_count": null,
   "metadata": {},
   "outputs": [],
   "source": []
  },
  {
   "cell_type": "markdown",
   "metadata": {},
   "source": [
    "The `help` function reads the docstring. Type in one version of the `read_first_line` function and use the `help` function to see the docstring.\n",
    "\n",
    "```python\n",
    "help(read_first_line)\n",
    "```"
   ]
  },
  {
   "cell_type": "code",
   "execution_count": null,
   "metadata": {},
   "outputs": [],
   "source": []
  },
  {
   "cell_type": "markdown",
   "metadata": {},
   "source": [
    "When it's not obvious what the function arguments are you should be more descriptive in your docstring. It's also important sometimes to describe what the return value is (or might be)."
   ]
  },
  {
   "cell_type": "code",
   "execution_count": null,
   "metadata": {
    "deletable": false,
    "editable": false
   },
   "outputs": [],
   "source": [
    "def read_a_line(filename, offset) :\n",
    "    '''\n",
    "    Reads a line in the file after seeking to a particular place. \n",
    "    \n",
    "    Arguments:\n",
    "      filename - The name of the file to read. \n",
    "      offset - The place in the file to start reading. \n",
    "      \n",
    "    Returns: \n",
    "      A string containing the line that was read. \n",
    "    ''' \n",
    "    file_handle = open(filename)\n",
    "    file_handle.seek(offset)\n",
    "    line = file_handle.readline()\n",
    "    file_handle.close()\n",
    "    return line"
   ]
  },
  {
   "cell_type": "markdown",
   "metadata": {},
   "source": [
    "Now the `help` function shows a really useful message:"
   ]
  },
  {
   "cell_type": "code",
   "execution_count": null,
   "metadata": {
    "deletable": false,
    "editable": false
   },
   "outputs": [],
   "source": [
    "help(read_a_line)"
   ]
  },
  {
   "cell_type": "markdown",
   "metadata": {},
   "source": [
    "There are official Python guidelines for how to use docstrings in functions:\n",
    "\n",
    "* https://www.python.org/dev/peps/pep-0257/\n",
    "\n",
    "It will be difficult at first to know what code you should put in a function. Don't worry, it's hard for everyone at first! Practice, practice, practice! "
   ]
  },
  {
   "cell_type": "markdown",
   "metadata": {},
   "source": [
    "## Function Variables and Scope \n",
    "\n",
    "Variables created inside of a function, including the function arguments, are *private* to the function. That means they only exist while the funciton is executing and disappear after the function returns. For beginners this can be confusing, but it's an essential feature of Python and other programming languages. The validity of a variable is called *scope*. "
   ]
  },
  {
   "cell_type": "markdown",
   "metadata": {},
   "source": [
    "### Global Variables\n",
    "\n",
    "Variables that are defined all the way to the left (also called top-level or file scope) are *global variables*. Global variables are available everywhere in a program, including inside of functions. The code below demonstrates that the variable `a` can be used inside of the function: "
   ]
  },
  {
   "cell_type": "code",
   "execution_count": null,
   "metadata": {
    "deletable": false,
    "editable": false
   },
   "outputs": [],
   "source": [
    "# a is a global variable.  \n",
    "a = 10\n",
    "\n",
    "def func(b):\n",
    "    # b is private to the function and can \n",
    "    # only be used inside of it. \n",
    "    print(f'a is {a} and b is {b}')\n",
    "    \n",
    "# call func and pass in a+1\n",
    "func(a+1)"
   ]
  },
  {
   "cell_type": "markdown",
   "metadata": {},
   "source": [
    "Global variables sometimes lead to confusion. When a function uses a variable with the same name as a global variable the one inside of the function is used. Here's an example where a name conflict has confusing results:"
   ]
  },
  {
   "cell_type": "code",
   "execution_count": null,
   "metadata": {
    "deletable": false,
    "editable": false
   },
   "outputs": [],
   "source": [
    "a = 10 \n",
    "print(a)\n",
    "\n",
    "def func(a):\n",
    "    a = a + 1\n",
    "    print(a)\n",
    "\n",
    "func(a)\n",
    "print(a)"
   ]
  },
  {
   "cell_type": "markdown",
   "metadata": {},
   "source": [
    "**Can you explain what happens when you run this code?** Remember there are *two* variables named `a`. "
   ]
  },
  {
   "cell_type": "markdown",
   "metadata": {},
   "source": [
    "### The Global Keyword \n",
    "\n",
    "When you use a global variable inside of a function Python has to make a guess. Should I use the global variable or should I create a local variable? Python will always choose to make a local variable. The `global` keyword tells Python to use the global variable rather than create a new local one. Look at the difference between the two functions below: "
   ]
  },
  {
   "cell_type": "code",
   "execution_count": null,
   "metadata": {
    "deletable": false,
    "editable": false
   },
   "outputs": [],
   "source": [
    "# a is global \n",
    "a = \"global\"\n",
    "\n",
    "def local_a():\n",
    "    a = \"inside of local_a()\"\n",
    "\n",
    "def global_a():\n",
    "    global a # Tell Python to use global \"a\"\n",
    "    a = \"inside of global_a()\"\n",
    "\n",
    "\n",
    "print(a)\n",
    "local_a()\n",
    "print(a)\n",
    "global_a()\n",
    "print(a)"
   ]
  },
  {
   "cell_type": "markdown",
   "metadata": {},
   "source": [
    "### Avoid Global Variables\n",
    "\n",
    "Sometimes global variables are necessary but unless there's no other way to do something it's a good idea to avoid global variables. Global variables make programs harder to read and can lead to confusing problems. For example, this program has an error, but it almost looks right:"
   ]
  },
  {
   "cell_type": "code",
   "execution_count": null,
   "metadata": {
    "deletable": false,
    "editable": true
   },
   "outputs": [],
   "source": [
    "def add_two_numbers() :\n",
    "    global a, b \n",
    "    c = a + b \n",
    "    \n",
    "a = 10 \n",
    "b = 20 \n",
    "c = 0\n",
    "add_two_numbers()\n",
    "print(c)"
   ]
  },
  {
   "cell_type": "markdown",
   "metadata": {},
   "source": [
    "**Before you use a global ask yourself, \"Can I do this another way?\" If answer is yes then you probably should.** "
   ]
  },
  {
   "cell_type": "markdown",
   "metadata": {},
   "source": [
    "## The main() Function \n",
    "\n",
    "In the C programming language every program has a `main` function. The `main` function is called to start the program and when the `main` function exits the program ends. Python works differently, it just starts executing instructions in your file, starting at the top and ending at the bottom. This is great for small programs but as programs get more complex it's a problem because all of the variables in your program are global variables. \n",
    "\n",
    "**From now on your Python programs should not use global variables and not have code outside of a function.** Starting this week your program should use a template similar to the one below: "
   ]
  },
  {
   "cell_type": "code",
   "execution_count": null,
   "metadata": {},
   "outputs": [],
   "source": [
    "\"\"\"\n",
    "CIS-15 Program with Functions \n",
    "Mike Matera\n",
    "\"\"\"\n",
    "\n",
    "# It's always okay to have import lines at top-level \n",
    "import sys \n",
    "\n",
    "\n",
    "def main():\n",
    "    \"\"\"All code goes inside of a function.\"\"\"\n",
    "    print(f'Hello, my name is {sys.argv[0]}')\n",
    "    \n",
    "\n",
    "# These two lines call the main() function when your program\n",
    "# is run from the command line. More on this later!\n",
    "if __name__ == '__main__':\n",
    "    main()"
   ]
  },
  {
   "cell_type": "markdown",
   "metadata": {},
   "source": [
    "<div class=\"alert alert-info\"><strong>WARNING: Functions in Functions</strong>\n",
    "\n",
    "In Python it's posible to define a function *inside* of another function. **DO NOT DEFINE A FUNCTION INSIDE OF ANOTHER FUNCTION** unless you know what you're doing. All of your functions should begin all the way to the left of the page. \n",
    "</div>"
   ]
  }
 ],
 "metadata": {
  "kernelspec": {
   "display_name": "Python 3.8 (XPython)",
   "language": "python",
   "name": "xpython"
  },
  "language_info": {
   "file_extension": ".py",
   "mimetype": "text/x-python",
   "name": "python",
   "version": "3.8.2"
  }
 },
 "nbformat": 4,
 "nbformat_minor": 4
}