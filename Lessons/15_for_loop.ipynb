{
 "cells": [
  {
   "attachments": {},
   "cell_type": "markdown",
   "metadata": {},
   "source": [
    "# The `for` Loop\n",
    "\n",
    "In this lesson I introduce simple syntax with powerful applications. Earlier, you learned how to create and manipulate lists. What if you wanted to run some code *for each* item in a list? To do that you need a `for` loop. Here's an example:\n",
    "\n",
    "```python\n",
    "animals = ['Lions', 'Tigers', 'Bears'] \n",
    "for item in animals: \n",
    "    print(item) \n",
    "print('Oh my!')\n",
    "```\n",
    "\n",
    "The `print` statement inside of the the `for` loop is executed once for each element in the `animals` list. Enter it into the next cell:"
   ]
  },
  {
   "cell_type": "code",
   "execution_count": null,
   "metadata": {},
   "outputs": [],
   "source": []
  },
  {
   "attachments": {},
   "cell_type": "markdown",
   "metadata": {},
   "source": [
    "Again, notice: \n",
    "\n",
    "* The `print()` statement *inside* the for loop is run once for each item in the list \n",
    "* The items in the list are assigned to the variable `item` one by one "
   ]
  },
  {
   "attachments": {},
   "cell_type": "markdown",
   "metadata": {},
   "source": [
    "## The `for` Loop \n",
    "\n",
    "This image shows the important parts of the `for` loop: \n",
    "\n",
    "![Image of a for loop](images/python_for_loop.png) \n",
    "\n",
    "The most powerful thing about Python's `for` loops is the idea that a sequence goes on the right of the `in` keyword. \n",
    "\n",
    "## Sequences\n",
    "\n",
    "A sequence is anything that can be stepped through one element at a time. In Python many data types can be treated like sequences. In a previous lesson we learned about lists which are naturally sequences but that's not the first sequence type you have learned. The next table shows example `for` loops using types that we've learned already. \n",
    "\n",
    "| Type | Sequence of | \n",
    "| --- | --- | \n",
    "| `str` | Characters in the string | \n",
    "| File handle | Lines in the file | \n",
    "| `list`| Items in the list | \n",
    "| `dict` | Keys in the dictionary | \n",
    "\n",
    "Here are some examples:\n",
    "\n",
    "### A String is a Sequence of Letters\n",
    "\n",
    "A `for` loop over a string runs once per letter in the string: \n",
    "\n",
    "```python\n",
    "sentence = \"Mary had a little lamb.\" \n",
    "for letter in sentence: \n",
    "    print(letter)\n",
    "```\n",
    "\n",
    "### A File Handle is a Sequence of Lines\n",
    "\n",
    "A `for` loop over a file handle runs once per line in the file:\n",
    "\n",
    "```python\n",
    "file_handle = open('files/example.txt')\n",
    "for line in file_handle:\n",
    "    print(line.strip())\n",
    "file_handle.close()\n",
    "```\n",
    "\n",
    "### A List is a Sequence of Items\n",
    "\n",
    "A `for` loop over a list runs once per list item: \n",
    "\n",
    "```python\n",
    "animals = ['Lions', 'Tigers', 'Bears'] \n",
    "for item in animals: \n",
    "    print(item) \n",
    "print('Oh my!')\n",
    "```\n",
    "\n",
    "### A Dictionary is a Sequence of Keys \n",
    "\n",
    "A `for` loop over a dictionary runs once per key: \n",
    "\n",
    "```python\n",
    "animals = { 'Lion': 'Panthera Leo', \n",
    "           'Tiger': 'Panthera Tigris', \n",
    "           'Bear': 'Ursus Arctos',\n",
    "          }\n",
    "for key in animals: \n",
    "    print(key) \n",
    "print('Oh my!')\n",
    "```\n",
    "\n",
    "Try the example for loops in the next cell:"
   ]
  },
  {
   "cell_type": "code",
   "execution_count": null,
   "metadata": {},
   "outputs": [],
   "source": []
  },
  {
   "attachments": {},
   "cell_type": "markdown",
   "metadata": {},
   "source": [
    "### Numerical Sequences \n",
    "\n",
    "If you've programmed in another language you've probably seen the C-style `for` loop. If not, no big deal! In many other languages the `for` loop is for counting numbers and the syntax enables you to make numerical sequences (e.g. 0, 1, 2, ...) but not \"step through\" things easily. Counting numbers is important sometimes and Python gives you a way to do that. For example:\n",
    "\n",
    "```python \n",
    "for number in range(10):\n",
    "    print(number)\n",
    "```\n",
    "\n",
    "Try it in the next cell:"
   ]
  },
  {
   "cell_type": "code",
   "execution_count": null,
   "metadata": {},
   "outputs": [],
   "source": []
  },
  {
   "attachments": {},
   "cell_type": "markdown",
   "metadata": {},
   "source": [
    "**What numbers does the list produce?**\n",
    "\n",
    "The `range` function can produce more complicated sequences. If you give `range` two numbers it starts at the first and ends one before the second. For example:\n",
    "\n",
    "```python\n",
    "for number in range(5, 10):\n",
    "    print(number)\n",
    "```\n",
    "\n",
    "Try changing the previous cell to the two-argument version of `range`.\n",
    "\n",
    "## Loop Variables \n",
    "\n",
    "Here's a pop quiz! What is the difference between the output of these three `for` loops:\n",
    "\n",
    "```python\n",
    "for item in animals:\n",
    "    print(item)\n",
    "\n",
    "for animal in animals:\n",
    "    print(animal)\n",
    "    \n",
    "for duck in animals:\n",
    "    print(duck)\n",
    "```\n",
    "\n",
    "Not sure? Try them out:"
   ]
  },
  {
   "cell_type": "code",
   "execution_count": null,
   "metadata": {},
   "outputs": [],
   "source": []
  },
  {
   "attachments": {},
   "cell_type": "markdown",
   "metadata": {},
   "source": [
    "**Answer: NOTHING!** The difference in the `for` loops is the name of the loop variable. There is nothing special about the name of the loop variable, it's simply a variable that the `for` loop creates for you to hold individual items. It's up to you to choose a name that suits your program. It's best to chose a name that will help you understand what's in the variable. Here's a better question:\n",
    "\n",
    "What is the most appropriate variable name from the loops above? \n",
    "\n",
    "1. `item`\n",
    "1. `animal`\n",
    "1. `duck`"
   ]
  }
 ],
 "metadata": {
  "interpreter": {
   "hash": "ede5dd4a0524117f1bdcf3d20d74022d27599f0f4a7a520dc0cd0446015e4e96"
  },
  "kernelspec": {
   "display_name": "Python 3 (ipykernel)",
   "language": "python",
   "name": "python3"
  },
  "language_info": {
   "codemirror_mode": {
    "name": "ipython",
    "version": 3
   },
   "file_extension": ".py",
   "mimetype": "text/x-python",
   "name": "python",
   "nbconvert_exporter": "python",
   "pygments_lexer": "ipython3",
   "version": "3.10.6"
  }
 },
 "nbformat": 4,
 "nbformat_minor": 4
}
