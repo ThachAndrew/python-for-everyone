{
 "cells": [
  {
   "cell_type": "markdown",
   "metadata": {},
   "source": [
    "# Classes and Objects \n",
    "\n",
    "In several lessons I've talked about *data types*. The `type` function shows you the type of the contents of a variable. Python enables you to create your own data types and give them any functions you like. In this lesson you'll learn how to do that. Python is an *object oriented* programming language. A data type has three essential properties:\n",
    "\n",
    "1. A name \n",
    "1. Member variables (or data) \n",
    "1. Member functions\n",
    "\n",
    "Data types are defined with the keyword `class` (like functions are defined with `def`). Let's start with a class that has a name and nothing else:\n",
    "\n",
    "```python\n",
    "class Simple: \n",
    "    \"\"\"My Simple Class\"\"\"\n",
    "```\n",
    "\n",
    "Just like functions classes have docstrings to document what they do. Use the next cell to enter the definition of the `Simple` class."
   ]
  },
  {
   "cell_type": "code",
   "execution_count": null,
   "metadata": {},
   "outputs": [],
   "source": []
  },
  {
   "cell_type": "markdown",
   "metadata": {},
   "source": [
    "A class is like a *template* for making something (like a cookie cutter). You use the template to make an object (called an *instance*). The distinction between the class and the instance is subtle at first, just try to remember:\n",
    "\n",
    "* The class is a cookie cutter\n",
    "* The instance is a cookie\n",
    "\n",
    "Here's showing how to get an instance of an object:\n",
    "\n",
    "```python\n",
    "inst = Simple()\n",
    "```\n",
    "\n",
    "You've seen this before! Remember getting a `Turtle`? It's just creating an instance of the `Turtle` class. In the next cell create an instance of `Simple` and use `type` to see its type: \n",
    "\n",
    "```python\n",
    "inst = Simple()\n",
    "print(\"The type of simple is:\", type(inst))\n",
    "```"
   ]
  },
  {
   "cell_type": "code",
   "execution_count": null,
   "metadata": {},
   "outputs": [],
   "source": []
  },
  {
   "cell_type": "markdown",
   "metadata": {},
   "source": [
    "You can see how the docstring of `Simple` works using the `help` function:\n",
    "\n",
    "```python\n",
    "help(Simple)\n",
    "```"
   ]
  },
  {
   "cell_type": "code",
   "execution_count": null,
   "metadata": {},
   "outputs": [],
   "source": []
  },
  {
   "cell_type": "markdown",
   "metadata": {},
   "source": [
    "Each instance is like a world of its own, like a gingerbread cookie you can decorate it however you want and the decorations are different for every cookie. Here's how you add variables into an instance using the dot `.` operator. \n",
    "\n",
    "```python\n",
    "one = Simple()\n",
    "one.name = \"Mike\"\n",
    "one.job = \"Instructor\"\n",
    "```\n",
    "\n",
    "Try that example:"
   ]
  },
  {
   "cell_type": "code",
   "execution_count": null,
   "metadata": {},
   "outputs": [],
   "source": []
  },
  {
   "cell_type": "markdown",
   "metadata": {},
   "source": [
    "The instance of simple called `one` now contains two variables `name` and `job`. Let's do that to another instance:\n",
    "\n",
    "```python\n",
    "two = Simple()\n",
    "two.name = \"Dan\"\n",
    "two.fam = \"Mike's Brother\"\n",
    "```\n",
    "\n",
    "Now we have a second instance named `two`. Here's how you access the variables in an instance:\n",
    "\n",
    "```python\n",
    "print(one.name)\n",
    "print(two.name)\n",
    "```\n",
    "\n",
    "Enter the example code into the next cell:"
   ]
  },
  {
   "cell_type": "code",
   "execution_count": null,
   "metadata": {},
   "outputs": [],
   "source": []
  },
  {
   "cell_type": "markdown",
   "metadata": {},
   "source": [
    "Each instance can contain as many variables as you like and they're all different. The variables `name`, `job` and `fam` are called *member variables* because they live inside of an instance. \n",
    "\n",
    "When you use an instance as an argument, it's like passing all of the member variables along with it. Here's an example of a function that uses an instance of the `Simple` class:\n",
    "\n",
    "```python\n",
    "def print_stuff_in_simple(inst):\n",
    "    print ('Name is:', inst.name)\n",
    "    print ('Job is:', inst.job)\n",
    "\n",
    "print_stuff_in_simple(one)\n",
    "```\n",
    "\n",
    "Enter the example code:"
   ]
  },
  {
   "cell_type": "code",
   "execution_count": null,
   "metadata": {},
   "outputs": [],
   "source": []
  },
  {
   "cell_type": "markdown",
   "metadata": {},
   "source": [
    "**Notice how `name` and `job` are attached to `one`.** The `print_stuff_in_simple` function takes one argument but, since that argument is a class instance, there could be hundreds of variables inside that argument. *It's a bit like a dictionary!* \n",
    "\n",
    "## Member Functions \n",
    "\n",
    "It's common to want functions that do stuff with class instances (like `print_stuff_in_simple`). Functions can be defined *inside* of a class definition and those functions become a part of the class, just like the variables. For example, if we want a function that prints the `name` member variable we can define the class like this: \n",
    "\n",
    "```python\n",
    "class Simple:\n",
    "    \"\"\"A somewhat less simple class.\"\"\" \n",
    "\n",
    "    def print_stuff(self):\n",
    "        \"\"\"Print the name variable.\"\"\"\n",
    "        print ('Name is:', self.name)\n",
    "```\n",
    "\n",
    "**Notice that the function is inside of the class**. Enter the example into the next cell:"
   ]
  },
  {
   "cell_type": "code",
   "execution_count": null,
   "metadata": {},
   "outputs": [],
   "source": []
  },
  {
   "cell_type": "markdown",
   "metadata": {},
   "source": [
    "When you run the cell, nothing happens. Let's see how to use the `print_stuff` function: \n",
    "\n",
    "```python\n",
    "inst = Simple()\n",
    "inst.name = \"Your Name\"\n",
    "inst.print_stuff()\n",
    "```\n",
    "\n",
    "Try the example in the next cell:"
   ]
  },
  {
   "cell_type": "code",
   "execution_count": null,
   "metadata": {},
   "outputs": [],
   "source": []
  },
  {
   "cell_type": "markdown",
   "metadata": {},
   "source": [
    "Now, for the first time, you see what the `.` really does when you put a function to the right. It calls a member function! \n",
    "\n",
    "### Understanding the `self` Variable \n",
    "\n",
    "A member function is just a normal function. Since it works on a class instance it must receive a copy of the class instance. Member functions are called in a special way that ensures the instance is always passed as the first argument to the function. The name `self` is not speical in Python but you see it a lot. Class member functions always have the variable `self` as their first argument. Though you can use any name the use of `self` is an important tradition. "
   ]
  },
  {
   "cell_type": "markdown",
   "metadata": {},
   "source": [
    "![The Self Variable](images/python_self_variable.png)\n",
    "\n",
    "The use of `self` ensures that the function is always working on the instance you expect. Here's an example that shows the power and usefulness of the `self` variable:\n",
    "\n",
    "```python\n",
    "one = Simple()\n",
    "one.name = \"Mike\"\n",
    "two = Simple()\n",
    "two.name = \"Dan\"\n",
    "one.print_stuff()\n",
    "two.print_stuff()\n",
    "```\n",
    "\n",
    "Enter the example into the next cell:"
   ]
  },
  {
   "cell_type": "code",
   "execution_count": null,
   "metadata": {},
   "outputs": [],
   "source": []
  },
  {
   "cell_type": "markdown",
   "metadata": {},
   "source": [
    "**Notice how each `print_stuff` call goes to the right instance?** It's because the function receives the instance in `self`. Member functions can have any number of arguments, just like regular functions, but `self` always appears first:\n",
    "\n",
    "```python \n",
    "class Simple:\n",
    "    \"\"\"A somewhat less simple class.\"\"\" \n",
    "\n",
    "    def print_stuff(self):\n",
    "        \"\"\"Print the name variable.\"\"\"\n",
    "        print ('Name is:', self.name)\n",
    "        \n",
    "    def input_name(self, prompt):\n",
    "        \"\"\"Ask the user for a name.\"\"\"\n",
    "        self.name = input(prompt)\n",
    "```\n",
    "\n",
    "The `input_name` function takes one argument in addition to self. It is called like this:\n",
    "\n",
    "```python\n",
    "inst = Simple()\n",
    "inst.input_name(\"Please type your name: \")\n",
    "```\n",
    "\n",
    "Try it in the next cell:"
   ]
  },
  {
   "cell_type": "code",
   "execution_count": null,
   "metadata": {},
   "outputs": [],
   "source": []
  },
  {
   "cell_type": "markdown",
   "metadata": {},
   "source": [
    "## The `__init__` Member Function \n",
    "\n",
    "There are special member functions that have useful properties. Special member functions begin and end with a double underscore `__`. The most important one to know is the `__init__` function. The `__init__` function is automatically called when a new instance of a class is created. \n",
    "\n",
    "```python \n",
    "\n",
    "class Simple:\n",
    "    \"\"\"A somewhat less simple class.\"\"\" \n",
    "    \n",
    "    def __init__(self):\n",
    "        \"\"\"Initialize the class.\"\"\"\n",
    "        print(\"Initializing the class...\")\n",
    "        self.name = \"(no name)\"\n",
    "       \n",
    "    def print_stuff(self):\n",
    "        \"\"\"Print the name variable.\"\"\"\n",
    "        print ('Name is:', self.name)        \n",
    "```\n",
    "\n",
    "Enter the new version of `Simple` into the next cell and make an instance:"
   ]
  },
  {
   "cell_type": "code",
   "execution_count": null,
   "metadata": {},
   "outputs": [],
   "source": []
  },
  {
   "cell_type": "markdown",
   "metadata": {},
   "source": [
    "**Can you see the `__init__` function work?** Use the debugger if not. The `__init__` function can take arguments. You have to supply those arguments when you create a new instance of the class. For example, the `__init__` function could set the initial name: \n",
    "\n",
    "```python\n",
    "class Simple:\n",
    "    \"\"\"A somewhat less simple class.\"\"\" \n",
    "\n",
    "    def __init__(self, name):\n",
    "        \"\"\"Initialize the class.\"\"\"\n",
    "        self.name = name\n",
    "\n",
    "    def print_stuff(self):\n",
    "        \"\"\"Print the name variable.\"\"\"\n",
    "        print ('Name is:', self.name)   \n",
    "```\n",
    "\n",
    "To create a `Simple` now we need to give an initial name:\n",
    "\n",
    "```python\n",
    "one = Simple(\"Mike\") \n",
    "two = Simple(\"Dan\")\n",
    "```"
   ]
  },
  {
   "cell_type": "code",
   "execution_count": null,
   "metadata": {},
   "outputs": [],
   "source": []
  },
  {
   "cell_type": "markdown",
   "metadata": {},
   "source": [
    "The purpose of the `__init__` function is to initialize all of the member variables in the class. For example, if a blog post has a title, author and text the `__init__` function would make sure they all exist when each instance is created. "
   ]
  },
  {
   "cell_type": "code",
   "execution_count": null,
   "metadata": {},
   "outputs": [],
   "source": [
    "class BlogEntry: \n",
    "    \n",
    "    def __init__(self, title):\n",
    "        self.title = title\n",
    "        self.author = None \n",
    "        self.text = None\n",
    "        \n",
    "b = BlogEntry(\"First Blog Post\")"
   ]
  },
  {
   "cell_type": "markdown",
   "metadata": {},
   "source": [
    "Notice that the `__init__` function does not need to supply meaningful values for the variables, just ensure they exist. "
   ]
  },
  {
   "cell_type": "markdown",
   "metadata": {},
   "source": [
    "## Class Design\n",
    "\n",
    "When you use your own classes in a program it's called *Object Oriented Programming*. In Python you have a choice to use OOP and most small programs won't need classes of their own. In other languages, like Java, all programs must be witten using OOP. There are advantages and disadvantages of OOP. Whether or and how to best design classes is beyond the scope of this course but here are a few things that are important to know.\n",
    "\n",
    "Ojbects are like packaged bundles, when they're well designed they are easily shared with others. Classes bundle together code and variables. Other programmers assume they can call your functions but will avoid using your variables directly. Cooperation makes larger programs --written by hundreds or thousands of programmers-- possible. There are many tricks and features of classes in Python. The most important ones we'll learn today.\n",
    "\n",
    "### Inheritance \n",
    "\n",
    "Classes are made to foster the sharing and reuse of code. You can extend the functionality of a class *without* altering its code with a mechnanism called *inheritance*. \n",
    "\n",
    "Here's an example of a class that builds on another class using inheritance."
   ]
  },
  {
   "cell_type": "code",
   "execution_count": null,
   "metadata": {},
   "outputs": [],
   "source": [
    "class Base:\n",
    "    \n",
    "    def base_function(self):\n",
    "        print ('Hello')\n",
    "        \n",
    "\n",
    "class Derived(Base): \n",
    "    \n",
    "    def derived_function(self):\n",
    "        print ('World')\n",
    "        \n",
    "\n",
    "d = Derived() \n",
    "d.base_function()\n",
    "d.derived_function()"
   ]
  },
  {
   "cell_type": "markdown",
   "metadata": {},
   "source": [
    "The class definitions look just like the ones from last week except: \n",
    "\n",
    "```python\n",
    "class Derived(Base):\n",
    "```\n",
    "\n",
    "The `Derived` class asks to inherit the functions of `Base`. Later in the program you can see that an instance of `Derived` has the functions from **both** classes. \n",
    "\n",
    "```python\n",
    "d.base_function()\n",
    "d.derived_function()\n",
    "```\n",
    "\n",
    "Notice that the instance of `Derived` has function that it inherited from the base class `Base`. "
   ]
  },
  {
   "cell_type": "markdown",
   "metadata": {},
   "source": [
    "### Inheritance and Functions \n",
    "\n",
    "Class inheritance lets you add or *modify* functions in the base class. Take a look at the code below. The `Derived` class has its own version of `base_function` and that version *overrides* the same method in the `Base` class. \n",
    "\n",
    "Take a look:"
   ]
  },
  {
   "cell_type": "code",
   "execution_count": null,
   "metadata": {},
   "outputs": [],
   "source": [
    "class Base:\n",
    "    \n",
    "    def base_function(self):\n",
    "        print ('Hello')\n",
    "        \n",
    "\n",
    "class Derived(Base): \n",
    "    \n",
    "    def base_function(self):\n",
    "        print ('Override')\n",
    "        \n",
    "    def derived_function(self):\n",
    "        print ('World')\n",
    "\n",
    "\n",
    "d = Derived() \n",
    "d.base_function()\n",
    "d.derived_function()"
   ]
  },
  {
   "cell_type": "markdown",
   "metadata": {},
   "source": [
    "The `Derived` class still has access to `base_function` and can call it using the `super()` function. Look closely at `base_function` in `Derived`."
   ]
  },
  {
   "cell_type": "code",
   "execution_count": null,
   "metadata": {},
   "outputs": [],
   "source": [
    "class Base:\n",
    "    \n",
    "    def base_function(self):\n",
    "        print ('Hello')\n",
    "        \n",
    "\n",
    "class Derived(Base): \n",
    "    \n",
    "    def base_function(self):\n",
    "        super().base_function()\n",
    "        print ('Override')\n",
    "        \n",
    "    def derived_function(self):\n",
    "        print ('World')\n",
    "\n",
    "\n",
    "d = Derived() \n",
    "d.base_function()\n",
    "d.derived_function()"
   ]
  },
  {
   "cell_type": "markdown",
   "metadata": {},
   "source": [
    "There's only one difference between this example and the previous example:\n",
    "\n",
    "```python\n",
    "super().base_function()\n",
    "``` \n",
    "\n",
    "The `super()` function returns an instance of the superclass (also known as the base class). If you use `super()` in any method of `Derived` you will get an instance of `Base`. You can use that instance to get any of the methods of `Base` that you need. There's no restriction on when or what you call using `super()`. What would the output be if `base_function` in `Derived` was written this way? \n",
    "\n",
    "```python \n",
    "    def base_function(self):\n",
    "        print ('Override')\n",
    "        super().base_function()\n",
    "```\n"
   ]
  },
  {
   "cell_type": "markdown",
   "metadata": {},
   "source": [
    "### Overriding `__init__`\n",
    "\n",
    "Overriding `__init__` is often necessary. The `__init__` function initializes class data so when you create a derived class you almost always need to be sure that the variables in the base class are initialized. "
   ]
  },
  {
   "cell_type": "code",
   "execution_count": null,
   "metadata": {},
   "outputs": [],
   "source": [
    "class Base :\n",
    "    \n",
    "    def __init__(self) : \n",
    "        print ('Initializing Base')\n",
    "        self.base_var = 'Hello'\n",
    "        \n",
    "    def base_function(self) :\n",
    "        print (self.base_var)\n",
    "        \n",
    "\n",
    "class Derived(Base) : \n",
    "\n",
    "    def __init__(self) : \n",
    "        print ('Initializing Derived')\n",
    "        self.der_var = 'World'\n",
    "        super().__init__()\n",
    "        \n",
    "    def derived_function(self) :\n",
    "        print (self.der_var)\n",
    "    \n",
    "\n",
    "d = Derived() \n",
    "d.base_function()\n",
    "d.derived_function()"
   ]
  },
  {
   "cell_type": "markdown",
   "metadata": {},
   "source": [
    "### When to Use Inheritance \n",
    "\n",
    "Class inheritance is a powerful tool and it has good and bad uses. Derived classes usually have an *is-a* relationship with their base class. That means the derived class \"is a\" base class. \n",
    "\n",
    "Here's what I mean:"
   ]
  },
  {
   "cell_type": "code",
   "execution_count": null,
   "metadata": {},
   "outputs": [],
   "source": [
    "class Animal: \n",
    "    \n",
    "    def __init__(self, num_legs):\n",
    "        self.legs = num_legs\n",
    "        \n",
    "    def get_legs(self):\n",
    "        return self.legs\n",
    "\n",
    "\n",
    "class Cat(Animal):\n",
    "    \n",
    "    def __init__(self):\n",
    "        super().__init__(4)\n",
    "        \n",
    "class Duck(Animal):\n",
    "    \n",
    "    def __init__(self):\n",
    "        super().__init__(2)\n",
    "\n",
    "c = Cat()\n",
    "d = Duck()\n",
    "print (f'A cat has {c.get_legs()} legs.')\n",
    "print (f'A duck has {d.get_legs()} legs.')"
   ]
  },
  {
   "cell_type": "markdown",
   "metadata": {},
   "source": [
    "This inheritance design works because a `Duck` and a `Cat` is-an `Animal`. Inheritance is appealing but there are other (often better) ways to mix the functions of two classes. It's possible to have *multiple inheritance* in Python where a class inherits from multiple base classes. \n",
    "\n",
    "<div class=\"alert alert-danger\">\n",
    "    <strong style=\"font-size: 150%\">Avoid using multiple inheritance!</strong>\n",
    "</div>\n",
    "\n",
    "> Multiple inheritance makes classes too complicated (see the [Diamond Problem of Death](https://en.wikipedia.org/wiki/Multiple_inheritance#:~:text=The%20%22diamond%20problem%22%20(sometimes,from%20both%20B%20and%20C.) for an eample). It's better to keep objects simple.  "
   ]
  },
  {
   "cell_type": "markdown",
   "metadata": {},
   "source": [
    "### Mix-ins \n",
    "\n",
    "Inheritance is useful but it can be confusing because base methods are called automatically. A mix-in is a way to get some of the functions of a base class but not all of them. There's no automatic function calls in a mix-in so you have to do a bit more typing. \n",
    "\n",
    "Here's an example of a mix-in:"
   ]
  },
  {
   "cell_type": "code",
   "execution_count": null,
   "metadata": {},
   "outputs": [],
   "source": [
    "class Base:\n",
    "        \n",
    "    def base_function(self):\n",
    "        print ('Hello')\n",
    "        \n",
    "\n",
    "class MixIn: \n",
    "\n",
    "    def __init__(self) : \n",
    "        self.base_instance = Base() \n",
    "\n",
    "    def base_function(self) : \n",
    "        self.base_instance.base_function() \n",
    "        \n",
    "    def derived_function(self) :\n",
    "        print ('World')\n",
    "        \n",
    "\n",
    "m = MixIn() \n",
    "m.base_function()\n",
    "m.derived_function()"
   ]
  },
  {
   "cell_type": "markdown",
   "metadata": {},
   "source": [
    "The mix-in works because `MixIn` contains an instance of `Base`. The `MixIn` class can use any member of `Base` in its own methods. Mix-ins give the programmer more control of what methods of `Base`. Mix-ins give you more control over what functions of `Base` are exposed at the expense of more code. "
   ]
  }
 ],
 "metadata": {
  "kernelspec": {
   "display_name": "Python 3 (ipykernel)",
   "language": "python",
   "name": "python3"
  },
  "language_info": {
   "codemirror_mode": {
    "name": "ipython",
    "version": 3
   },
   "file_extension": ".py",
   "mimetype": "text/x-python",
   "name": "python",
   "nbconvert_exporter": "python",
   "pygments_lexer": "ipython3",
   "version": "3.8.10"
  }
 },
 "nbformat": 4,
 "nbformat_minor": 4
}
