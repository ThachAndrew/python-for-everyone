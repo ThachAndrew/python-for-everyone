{
 "cells": [
  {
   "attachments": {},
   "cell_type": "markdown",
   "metadata": {},
   "source": [
    "# The `while` Loop \n",
    "\n",
    "The `while` loop is known as the *indefinite* loop. You use it when you *can't know* how many times you need to go through the loop. The `while` loop continues looping while the *loop condition* is `True` and exits the loop when the condition is `False`. The `while` loop is less common than the `for` loop but still essential for most programs. \n",
    "\n",
    "Let's revisit our guessing game. In this version of the game we want the user to keep guessing until they get the right answer. There's no way to know how many guesses it will take them. \n",
    "\n",
    "```python\n",
    "guess = 0\n",
    "while guess != 34:\n",
    "    guess = int(input(\"Pick a number between 1 and 100: \"))\n",
    "print(\"You got it!\")\n",
    "```\n",
    "\n",
    "Try entering the code into the next cell:"
   ]
  },
  {
   "cell_type": "code",
   "execution_count": null,
   "metadata": {},
   "outputs": [],
   "source": []
  },
  {
   "attachments": {},
   "cell_type": "markdown",
   "metadata": {},
   "source": [
    "## Input Validation \n",
    "\n",
    "The loop in the previous cell asks for input until the user provides the correct value. This is a useful behavior when you want to *validate* the input a user gives you. Here's an example, here's a program that asks for a number between 1 and 100 and forces the user to type in something correct."
   ]
  },
  {
   "cell_type": "code",
   "execution_count": 10,
   "metadata": {},
   "outputs": [
    {
     "name": "stdout",
     "output_type": "stream",
     "text": [
      "Enter an integer between 1 and 100:  23\n"
     ]
    },
    {
     "name": "stdout",
     "output_type": "stream",
     "text": [
      "Thank you for typing: 23\n"
     ]
    }
   ],
   "source": [
    "def input_number():\n",
    "    number = -1\n",
    "    while not 1 <= number <= 100:\n",
    "        number = int(input(\"Enter an integer between 1 and 100: \"))\n",
    "    return number\n",
    "\n",
    "n = input_number()\n",
    "print(\"Thank you for typing:\", n)"
   ]
  },
  {
   "attachments": {},
   "cell_type": "markdown",
   "metadata": {},
   "source": [
    "## Infinite Loops \n",
    "\n",
    "`while` loops are a bit more hazardous than `for` loops because a programming mistake can make them *infinite* loops. Getting stuck in an infinite loop is one of the ways a program can crash and become unresponsive. So more care is needed when you program a `while` loop. Sometimes `while` loops are written as infinite loops with a `break` or `return` statement that terminates the loop. Here's the input validation function again:"
   ]
  },
  {
   "cell_type": "code",
   "execution_count": 6,
   "metadata": {},
   "outputs": [
    {
     "name": "stdout",
     "output_type": "stream",
     "text": [
      "Enter an integer between 1 and 100:  32\n"
     ]
    },
    {
     "name": "stdout",
     "output_type": "stream",
     "text": [
      "Thank you for typing: 32\n"
     ]
    }
   ],
   "source": [
    "def input_number():\n",
    "    while True:\n",
    "        number = int(input(\"Enter an integer between 1 and 100: \"))\n",
    "        if 1 <= number <= 100:\n",
    "            return number\n",
    "\n",
    "n = input_number()\n",
    "print(\"Thank you for typing:\", n)"
   ]
  },
  {
   "attachments": {},
   "cell_type": "markdown",
   "metadata": {},
   "source": [
    "**Does the difference between the two `input_number` functions seem like a big deal?** Probably not. Here's a practice problem. Try writing it both ways: \n",
    "\n",
    "Write a function called `number_between` that takes two arguments, a `minimum` and a `maximum` number. The function asks the user for input with the `input` function and returns a number between `minimum` and `maximum`. If the user types an invalid number the function keeps asking for a valid one. \n",
    "\n",
    "- Function: `number_between`\n",
    "  - Arguments:\n",
    "    - `minimum`: (int) The minimum number (inclusive)\n",
    "    - `maximum`: (int) The maximum number (inclusive)\n",
    "  - Returns: (int) an integer between `minimum` and `maximum`\n",
    "  "
   ]
  },
  {
   "cell_type": "code",
   "execution_count": null,
   "metadata": {},
   "outputs": [],
   "source": []
  }
 ],
 "metadata": {
  "kernelspec": {
   "display_name": "Python 3 (ipykernel)",
   "language": "python",
   "name": "python3"
  },
  "language_info": {
   "codemirror_mode": {
    "name": "ipython",
    "version": 3
   },
   "file_extension": ".py",
   "mimetype": "text/x-python",
   "name": "python",
   "nbconvert_exporter": "python",
   "pygments_lexer": "ipython3",
   "version": "3.10.6"
  }
 },
 "nbformat": 4,
 "nbformat_minor": 4
}
