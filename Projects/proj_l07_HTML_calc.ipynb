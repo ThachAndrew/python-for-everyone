{
 "cells": [
  {
   "cell_type": "markdown",
   "metadata": {},
   "source": [
    "# Project: Variables and Formatting \n",
    "\n",
    "In this project you'll take user input, perform a calculation and print formatted output. \n",
    "\n",
    "<div class=\"alert alert-warning\" role=\"alert\">\n",
    "    Do the project inside of this notebook in the cell provided at the bottom.\n",
    "</div>"
   ]
  },
  {
   "cell_type": "markdown",
   "metadata": {},
   "source": [
    "## A Python Calculator \n",
    "\n",
    "The Python calculator is a program that asks the user for two numbers then computes various mathematical operations on those numbers. The output of the program is HTML, which will be nicely formatted by Jupyter. Starter code is provided and you should only add code and not remove any lines. The starter code has instructions that I haven't taught yet, here's a quick summary of what it does:\n",
    "\n",
    "```python\n",
    "a = float(input('Input a number for the variable \"a\": '))\n",
    "b = float(input('Input a number for the variable \"b\": '))\n",
    "```\n",
    "\n",
    "These statements ask the user for input when you run your program you will see the prompts at the bottom of the Python cell. Enter numbers into the prompts and they will be assigned to the variables `a` and `b`. We'll talk about taking input from the user next week. \n",
    "\n",
    "### Calculator Output \n",
    "\n",
    "Your calculator should perform the following operations: \n",
    "\n",
    "  1. Addition (`+`)\n",
    "  2. Subtraction (`-`)\n",
    "  3. Multiplication (`*`)\n",
    "  4. Division (`/`)\n",
    "  5. Modululs (`%`)\n",
    "  6. Less than (`<`)\n",
    "  7. Greater than (`>`)\n",
    "  8. Equal to (`==`)\n",
    "  \n",
    "For example, if a user enters the numbers `12` and `56` the program generates an HTML table that looks like this: \n",
    "\n",
    "\n",
    "| Operation | Result |\n",
    "| --- | --- | \n",
    "| 12.0 + 56.0 | 68.0 |\n",
    "| 12.0 - 56.0 | -44.0 | \n",
    "| 12.0 * 56.0 | 672.0 | \n",
    "| 12.0 / 56.0 | 0.21428571428571427 | \n",
    "| 12.0 % 56.0 | 12.0 | \n",
    "| 12.0 < 56.0 | True |\n",
    "| 12.0 > 56.0 | False | \n",
    "| 12.0 == 56.0 | False | \n",
    "\n",
    "### HTML Tables \n",
    "\n",
    "You learned a little about HTML in class. Here's a link to a tutorial that will help you understand how to build HTML tables: \n",
    "\n",
    "https://www.w3schools.com/html/html_tables.asp\n",
    "\n",
    "\n",
    "### Requirements \n",
    "\n",
    "  - Your program must have a docstring \n",
    "  - Your program must generate HTML \n",
    "  - Your table must have a header row as shown in the example.\n",
    "  - You must perform all of the operations shown. \n",
    "    - I will test your code with random numbers, you must actually do the math! \n",
    "  - Your program must be submitted inside of this notebook.  "
   ]
  },
  {
   "cell_type": "markdown",
   "metadata": {},
   "source": [
    "## Code Cell \n",
    "\n",
    "Put your solution in the cell below:"
   ]
  },
  {
   "cell_type": "code",
   "execution_count": null,
   "metadata": {},
   "outputs": [],
   "source": [
    "\"\"\"\n",
    "CIS-15 Variables and Printing Project\n",
    "Your Name Here\n",
    "\"\"\"\n",
    "\n",
    "from IPython.core.display import HTML, display\n",
    "\n",
    "# These lines read variables from the user.\n",
    "a = float(input('Input a number for the variable \"a\": '))\n",
    "b = float(input('Input a number for the variable \"b\": '))\n",
    "\n",
    "# HTML in this variable will be displayed.\n",
    "output = \"\"\"\n",
    "<table>\n",
    "    <tr>\n",
    "        <th>Operation</th>\n",
    "        <th>Result</th>\n",
    "    </tr>\n",
    "</table>\n",
    "\"\"\"\n",
    "\n",
    "# This must be the last line of your program.\n",
    "display(HTML(output))"
   ]
  }
 ],
 "metadata": {
  "kernelspec": {
   "display_name": "Python 3",
   "language": "python",
   "name": "python3"
  },
  "language_info": {
   "codemirror_mode": {
    "name": "ipython",
    "version": 3
   },
   "file_extension": ".py",
   "mimetype": "text/x-python",
   "name": "python",
   "nbconvert_exporter": "python",
   "pygments_lexer": "ipython3",
   "version": "3.8.4"
  }
 },
 "nbformat": 4,
 "nbformat_minor": 4
}
