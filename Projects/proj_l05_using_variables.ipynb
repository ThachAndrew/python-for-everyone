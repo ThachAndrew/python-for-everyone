{
 "cells": [
  {
   "cell_type": "markdown",
   "metadata": {},
   "source": [
    "# Using Variables\n",
    "\n",
    "In this project you'll create a program that uses variable to parameterize the execution of code.\n",
    "\n",
    "## Lesson Exercises\n",
    "\n",
    "The exercises in this lesson must be turned in. They're important practice and will help you with the project. \n",
    "\n",
    "## A Simple Calculation\n",
    "\n",
    "According to Wikipedia the average solar year is\n",
    "\n",
    " * 365 days\n",
    " * 5 hours\n",
    " * 48 minutes\n",
    " * 45 seconds\n",
    "\n",
    "Write a program that calculates the number of seconds in a mean solar year and prints the calculation. Start by storing each of the days, hours, minutes and seconds in a variable. Like this:\n",
    "\n",
    "```python\n",
    "days = 365 \n",
    "hours = 5 \n",
    "```\n",
    "\n",
    "Name your program `using_variables.py` I will run it like this:\n",
    "\n",
    "```bash\n",
    "$ python3.6 ./using_variables.py \n",
    "There are exactly 31556925 seconds in a solar year.\n",
    "```\n",
    "\n",
    "Your program should produce output that looks exactly like mine. Be precise! \n",
    "\n",
    "## Requirements\n",
    "\n",
    " * All Python files must have a properly formatted docstring\n",
    " * Submit your program in a file called `using_variables.py`\n",
    " * Your program must print only one number, the number of seconds in a solar year\n",
    " * You can print any other words you want\n",
    " * **DO NOT** print any other numbers!\n",
    "\n",
    "## Turn In\n",
    "\n",
    "You must turn in the following files:\n",
    "\n",
    " * using_variables.py\n",
    "\n",
    "The file should be zipped inside of the `Lesson02` directory and submitted with your completed practice notebooks. \n"
   ]
  },
  {
   "cell_type": "markdown",
   "metadata": {},
   "source": [
    "## Testing Your Project \n",
    "\n",
    "The cell below contains a test case that will test if your project meets requirements. Before you submit your assignment run the cell and make sure there are no errors. "
   ]
  },
  {
   "cell_type": "code",
   "execution_count": null,
   "metadata": {},
   "outputs": [],
   "source": [
    "import re\n",
    "import pexpect\n",
    "from p4e.testlib import TestCase, run\n",
    "\n",
    "class TestUsingVariables(TestCase):\n",
    "\n",
    "    test_file = 'using_variables.py'\n",
    "       \n",
    "    def test_01_for_docstring(self):\n",
    "        \"\"\"Looking for the docstring\"\"\"\n",
    "        if re.search(r'(?i)cis-15', self.source) is None:\n",
    "            self.fail(\"Your program doesn't have the right docstring.\")\n",
    "        \n",
    "    def test_02_check_output(self):        \n",
    "        \"\"\"Looking for the right number in the output of your program.\"\"\"\n",
    "        with self.spawn() as test:\n",
    "            test.expect(\"31556926\")\n",
    "\n",
    "    def test_03_check_hardcode(self):\n",
    "        \"\"\"Making sure the result number is not hard-coded.\"\"\"\n",
    "        for i,l in enumerate(self.source.splitlines()):\n",
    "            if re.search(r'31556925', l) is not None:\n",
    "                if re.search(r'#', l) is None:\n",
    "                    self.fail(f'Suspicious line {i+1}: The number 31556925 in your code.')\n",
    "\n",
    "\n",
    "run()"
   ]
  }
 ],
 "metadata": {
  "kernelspec": {
   "display_name": "Python 3",
   "language": "python",
   "name": "python3"
  },
  "language_info": {
   "codemirror_mode": {
    "name": "ipython",
    "version": 3
   },
   "file_extension": ".py",
   "mimetype": "text/x-python",
   "name": "python",
   "nbconvert_exporter": "python",
   "pygments_lexer": "ipython3",
   "version": "3.8.4"
  }
 },
 "nbformat": 4,
 "nbformat_minor": 4
}
