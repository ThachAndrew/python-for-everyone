{
 "cells": [
  {
   "cell_type": "markdown",
   "metadata": {
    "pycharm": {
     "name": "#%% md\n"
    }
   },
   "source": [
    "# Project: Interactively Fetch Wikipedia Articles \n",
    "\n",
    "In this project you will use Wikipedia's public API to fetch articles headers and, for extra credit, spell check them. Your project will use a `while` loop that asks the user to type the title of an article."
   ]
  },
  {
   "cell_type": "markdown",
   "metadata": {},
   "source": [
    "## Program Flow \n",
    "\n",
    "Your program should perform the following steps: \n",
    "\n",
    "  1. Ask the user for the title of a Wikipedia article or the word \"quit\".\n",
    "  2. If the user types \"quit\" exit your program.\n",
    "  3. If the user types anything else use the `get_summary` function to retrieve the summary of the article. \n",
    "      1. If the article doesn't exist `get_summary` returns `None`. In that case print an error message that contains the word \"ERROR\" and start over. \n",
    "      2. If the article does exist print the summary of the article and a list of misspelled words. "
   ]
  },
  {
   "cell_type": "markdown",
   "metadata": {},
   "source": [
    "## Extra Credit: Finding Misspelled Words \n",
    "\n",
    "The summary of an article is a paragraph. The `split()` function splits the paragraph into individual words but leaves punctuation in place. Punctuation marks will throw off the spell check function so you must remove them before you can know if a word is misspelled. Remove punctuation using the `isalpha()` function. Here's an example of how `isalpha()` works:"
   ]
  },
  {
   "cell_type": "code",
   "execution_count": null,
   "metadata": {},
   "outputs": [],
   "source": [
    "word = \"heavy-duty\"\n",
    "for letter in word:\n",
    "    if not letter.isalpha():\n",
    "        print(f'The character \"{letter}\" is not a letter')"
   ]
  },
  {
   "cell_type": "markdown",
   "metadata": {},
   "source": [
    "For example if your checker encounters a word with punctuation: \n",
    "\n",
    "  - Although, \n",
    "  - finally. \n",
    "  - \"Hello\n",
    "  \n",
    "It transforms those words into: \n",
    "\n",
    "  - Although\n",
    "  - finally\n",
    "  - Hello\n",
    "\n",
    "As a special case, if your checker encounters a word with a hyphen: \n",
    "\n",
    "  - alternative-valued \n",
    " \n",
    "  \n",
    "You must look up both words separately. Once you have found the misspelled words print them on a single line in **sorted** order.  \n",
    "      "
   ]
  },
  {
   "cell_type": "markdown",
   "metadata": {
    "pycharm": {
     "is_executing": false,
     "name": "#%% md\n"
    }
   },
   "source": [
    "## Starter Code \n",
    "\n",
    "You need two functions to get started. They are `spell_check` and `get_summary`. Copy this code into your project. The functions are documented in their docstrings. Don't forget to copy the `import` lines. The `spell_check` function uses the global variable `dictionary` to improve its performance. Make sure to copy the assignment of `dictionary` into your code. "
   ]
  },
  {
   "cell_type": "code",
   "execution_count": null,
   "metadata": {
    "collapsed": false,
    "jupyter": {
     "outputs_hidden": false
    },
    "pycharm": {
     "is_executing": false,
     "name": "#%%\n"
    }
   },
   "outputs": [],
   "source": [
    "\"\"\"\n",
    "CIS-15 Wikipedia Spell Check\n",
    "Your Name Here\n",
    "\"\"\"\n",
    "\n",
    "import requests \n",
    "import json \n",
    "\n",
    "dictionary = None\n",
    "\n",
    "\n",
    "def spell_check(word): \n",
    "    \"\"\"Return True if word is in the dictionary, False otherwise.\"\"\"\n",
    "    global dictionary\n",
    "    if dictionary == None:\n",
    "        # Only load the dictionary once.\n",
    "        with open ('/usr/share/dict/words') as d : \n",
    "            dictionary = [w.strip().lower() for w in d]\n",
    "    return word.lower() in dictionary \n",
    "                \n",
    "\n",
    "def get_summary(title) :\n",
    "    \"\"\"Queries Wikipeida using the JSON API and returns the resulting page. \n",
    "    \n",
    "    Arguments: \n",
    "        title - (string) The title of the page.  \n",
    "\n",
    "    Returns: \n",
    "        The extract of the page or None if the page doesn't exist.\n",
    "    \"\"\"    \n",
    "    url = f'https://en.wikipedia.org/w/api.php?format=json&action=query&prop=extracts&exintro=&explaintext=&titles={title}'\n",
    "    response = requests.get(url)\n",
    "    data = json.loads(response.text)\n",
    "    page = list(data['query']['pages'].values())[0]\n",
    "    return page.get('extract', None)\n",
    "\n",
    "\n",
    "def main():\n",
    "    \"\"\"Your main() function\"\"\"\n",
    "    \n",
    "\n",
    "if __name__ == '__main__':\n",
    "    main()"
   ]
  },
  {
   "cell_type": "markdown",
   "metadata": {},
   "source": [
    "## Requirements\n",
    "\n",
    "- Your program should have a docstring\n",
    "- Your program should be named `wiki_checker.py`\n",
    "- Your program must take input using the `input` function. \n",
    "- Do not have code outside of a function (except for what's in the starter code)\n",
    "- Your program should print the summary of the article or an error message containing \"ERROR\"\n",
    "- Extra Credit (10 points)\n",
    "  - If your program does the extra credit print \"EXTRA CREDIT\"\n",
    "  - On the next line your program should print misspelled words on a single line in alphabetical order. "
   ]
  }
 ],
 "metadata": {
  "kernelspec": {
   "display_name": "Python 3",
   "language": "python",
   "name": "python3"
  },
  "language_info": {
   "codemirror_mode": {
    "name": "ipython",
    "version": 3
   },
   "file_extension": ".py",
   "mimetype": "text/x-python",
   "name": "python",
   "nbconvert_exporter": "python",
   "pygments_lexer": "ipython3",
   "version": "3.8.4"
  },
  "pycharm": {
   "stem_cell": {
    "cell_type": "raw",
    "metadata": {
     "collapsed": false
    },
    "source": []
   }
  }
 },
 "nbformat": 4,
 "nbformat_minor": 4
}
