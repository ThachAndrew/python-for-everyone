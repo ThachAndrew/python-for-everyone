{
 "cells": [
  {
   "cell_type": "markdown",
   "metadata": {},
   "source": [
    "# Project: The Monty Hall Paradox  \n",
    "\n",
    "In this project you will implement a version of the game show, \"Let's Make a Deal.\" Your version of the game show is famous because it demonstrates the [Monty Hall Pradox](https://en.wikipedia.org/wiki/Monty_Hall_problem).\n",
    "\n",
    "## The Monty Hall Problem \n",
    "\n",
    "The game show starts with three doors. Behind one of them is a car. Behind the other two are goats. Monty asks you to choose a door. For argument's sake let's say you choose door number 1. Then Monty opens a different door to reveal a goat. \n",
    "\n",
    "![Monty reveals a goat](monty_open_door.png)\n",
    "\n",
    "Monty then asks you, \"would you like to keep the door you chose or switch doors?\" The problem is a paradox because most people (even some with a Ph.D.) think that the odds of guessing right are 50/50. They're not, you have better odds if you switch. "
   ]
  },
  {
   "cell_type": "markdown",
   "metadata": {},
   "source": [
    "## Getting Random Numbers \n",
    "\n",
    "In order to play the game your program needs to get a random number. Otherwise the car would always be behind the same door! There are two kinds of random numbers on a computer. Random numbers that are good for things like games and random numbers that are good for cryptography. Cryptographic random numbers are so random it's very difficult to guess them, but they take time to generate. The `random` package has random numbers that are good for games. \n",
    "\n",
    "Here's how to get a random number between 1 and 3 (including 1 and 3): "
   ]
  },
  {
   "cell_type": "code",
   "execution_count": null,
   "metadata": {},
   "outputs": [],
   "source": [
    "import random \n",
    "\n",
    "car_door = random.randrange(1, 4) \n",
    "print(f'The car is behind door nunber {car_door}.')"
   ]
  },
  {
   "cell_type": "markdown",
   "metadata": {},
   "source": [
    "Use this code to generate the number of the door with a car behind it. You should assume that the other doors have the goats. "
   ]
  },
  {
   "cell_type": "markdown",
   "metadata": {},
   "source": [
    "## Game Procedure \n",
    "\n",
    "Your game starts by picking a random number (the number of the door with the car). Then it prompts the user for the first guess. \n",
    "\n",
    "```\n",
    "Pick a door:\n",
    "```\n",
    "\n",
    "Your program has to determine what Monty's guess will be. There are rules that govern Monty's guess: \n",
    "\n",
    "1. **Monty will always pick a goat.**\n",
    "2. If the contestant picked a door with a car behind it Monty may open any other door.\n",
    "3. If the contestant picked a door with a goat behind it Monty will open the door with the other goat. \n",
    "\n",
    "You will need nested if/elif/else statements to determine Monty's pick. Once Monty decides make Monty's choice known by printing which door Monty opens.\n",
    "\n",
    "```\n",
    "Monty opens door #3\n",
    "```\n",
    "\n",
    "Prompt the user if they wish to stay or switch. \n",
    "\n",
    "```\n",
    "Do you wish to stay or switch: \n",
    "```\n",
    "\n",
    "The user must type `stay` or `switch` you don't have to worry about incorrect input. After the second choice reveal whether the user won the car or won the goat. \n",
    "\n",
    "```\n",
    "You won the car!\n",
    "```\n",
    "\n",
    "Test your game thoroughly. While you're developing the game it's a good idea to print out the door that the car is behind so you can verify that it works. "
   ]
  },
  {
   "cell_type": "markdown",
   "metadata": {},
   "source": [
    "## Debugging Your Program \n",
    "\n",
    "It's helpful to have two modes in a program: production mode where it operates normally and debugging mode for when you're trying to understand what your program does. Your Monty Hall program must have a debugging mode that uses an environment variable. When the `DEBUG` environment variable is set your program should print a trace for each of the function calls. In order to use an environemnt variable place the following line near the top of your program: "
   ]
  },
  {
   "cell_type": "code",
   "execution_count": null,
   "metadata": {},
   "outputs": [],
   "source": [
    "import os "
   ]
  },
  {
   "cell_type": "markdown",
   "metadata": {},
   "source": [
    "In your functions you can use this `if` statement to test if debugging mode is on:"
   ]
  },
  {
   "cell_type": "code",
   "execution_count": null,
   "metadata": {},
   "outputs": [],
   "source": [
    "if \"DEBUG\" in os.environ:\n",
    "    print(\"DEBUG: pick_random_door() returns...\")"
   ]
  },
  {
   "cell_type": "markdown",
   "metadata": {},
   "source": [
    "When you run your program you can turn on debugging mode from the command line like this:\n",
    "\n",
    "```bash\n",
    "$ DEBUG=1 python3 monty_hall.py\n",
    "```"
   ]
  },
  {
   "cell_type": "markdown",
   "metadata": {},
   "source": [
    "## Required Functions\n",
    "\n",
    "Your program is required to have the following functions:\n",
    "\n",
    "  - Function: `pick_random_door` - Choose a door at random and return it to the caller. In debug mode print a trace like the following:\n",
    "```\n",
    "DEBUG: pick_random_door() returns X\n",
    "```\n",
    "    - Arguments: None\n",
    "    - Returns:\n",
    "      - (int) The door number with the car behind it (1, 2 or 3). \n",
    "  - Function: `montys_choice` - Choose a door for Monty to open given the contestant's choice and the door with that's known to have the car behind it. In debug mode print a trace like the following: \n",
    "```\n",
    "DEBUG: montys_choice(A, B) returns X \n",
    "```\n",
    "    - Arguments:\n",
    "      - `car_door`: (int) The door with the car behind it. \n",
    "      - `contestant_door`: (int) The door the contestant picked. \n",
    "    - Returns:\n",
    "      - (int) Monty's choice of a door.\n",
    "  - Function: `has_won` - Determine if the contestant won based on the their first choice and whether they decided to switch or stay. In debug mode print a trace like the following: \n",
    "```\n",
    "DEBUG: has_won(A, B, C) returns X \n",
    "```\n",
    "    - Arguments:\n",
    "      - `car_door`: (int) The door with the car behind it. \n",
    "      - `contestant_door`: (int) The door the contestant picked. \n",
    "      - `switch_or_stay`: (str) The word \"switch\" or \"stay\" \n",
    "    - Returns\n",
    "      - `True` if the contestant won the car, `False` if they won a goat.  \n",
    "\n",
    "Each function should have a docstring describing what it does. "
   ]
  },
  {
   "cell_type": "markdown",
   "metadata": {},
   "source": [
    "## Requirements \n",
    "\n",
    "  - You must have a docstring describing your program.\n",
    "  - You must have the required functions \n",
    "    - The functions must have the exact names as above\n",
    "    - The functions must take the exact arguments in the order above\n",
    "    - The functions must have docstrings.\n",
    "    - Your fucntions must print the trace lines when the DEBUG environment variable is set. \n",
    "  - The program must say \"car\" if you win and \"goat\" if you lose. \n",
    "  - All code should be in a function \n",
    "  - You should have a `main()` function\n",
    "    - Only use `input()` inside of `main()` (not inside of the other functions)\n",
    "  - Your program must be submitted in a file called `monty_hall.py`"
   ]
  },
  {
   "cell_type": "markdown",
   "metadata": {},
   "source": [
    "## Test Your Code \n",
    "\n",
    "Run the cell below to test."
   ]
  },
  {
   "cell_type": "code",
   "execution_count": null,
   "metadata": {},
   "outputs": [],
   "source": [
    "import re\n",
    "import random\n",
    "from p4e.testlib import TestCase, run\n",
    "\n",
    "class TestMontyHall(TestCase):\n",
    "\n",
    "    test_file = 'monty_hall.py'\n",
    "\n",
    "    def test_01_for_docstring(self):\n",
    "        \"\"\"Looking for the docstring\"\"\"\n",
    "        if re.search(r'(?i)cis-15', self.source) is None:\n",
    "            self.fail(\"Your program doesn't have the right docstring.\")\n",
    "\n",
    "    def test_02_random_door(self):\n",
    "        \"\"\"Checking your pick_random_door() function.\"\"\"\n",
    "        pick_random_door = self.sandbox('pick_random_door')\n",
    "        \n",
    "        for _ in range(100):\n",
    "            if pick_random_door(check_return=int) not in [1, 2, 3]:\n",
    "                self.fail(\"Whoa! You picked a wacky door!\")\n",
    " \n",
    "    def test_03_montys_choice(self):\n",
    "        \"\"\"Testing your montys_choice() function.\"\"\"\n",
    "        montys_choice = self.sandbox('montys_choice')\n",
    "        \n",
    "        for _ in range(100):\n",
    "            car = random.randint(1,3)\n",
    "            contestant = random.randint(1,3)\n",
    "            monty = montys_choice(car, contestant, check_return=int)\n",
    "            if monty in [car, contestant]:\n",
    "                self.fail(f\"\"\"Monty made the wrong choice: {monty} the car is behind {car} and the contestant picked {contestant}\"\"\")\n",
    "\n",
    "\n",
    "    def test_04_has_won(self):\n",
    "        \"\"\"Testing your has_won() function.\"\"\" \n",
    "        has_won = self.sandbox('has_won')\n",
    "\n",
    "        self.assertTrue(has_won(1,1,'stay', check_return=bool), \n",
    "                        \"\"\"You told me I lost but I should have won!\"\"\")\n",
    "        self.assertFalse(has_won(1,1,'switch', check_return=bool), \n",
    "                         \"\"\"You told me I won but I should have lost!\"\"\")\n",
    "            \n",
    "    def test_05_play_game(self):\n",
    "        \"\"\"Playing the game by running the project from the command line.\"\"\"\n",
    "        \n",
    "        with self.spawn() as test:\n",
    "            test.expect('door')\n",
    "            test.sendline(\"1\")\n",
    "            test.expect('Monty')\n",
    "            test.sendline(\"switch\")\n",
    "            test.expect([r'(?i)goat', r'(?i)car'])\n",
    "\n",
    "run()"
   ]
  }
 ],
 "metadata": {
  "kernelspec": {
   "display_name": "Python 3",
   "language": "python",
   "name": "python3"
  },
  "language_info": {
   "codemirror_mode": {
    "name": "ipython",
    "version": 3
   },
   "file_extension": ".py",
   "mimetype": "text/x-python",
   "name": "python",
   "nbconvert_exporter": "python",
   "pygments_lexer": "ipython3",
   "version": "3.8.2"
  }
 },
 "nbformat": 4,
 "nbformat_minor": 4
}
