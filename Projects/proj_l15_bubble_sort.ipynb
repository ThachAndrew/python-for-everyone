{
 "cells": [
  {
   "cell_type": "markdown",
   "metadata": {},
   "source": [
    "# Project: Bubble Sort \n",
    "\n",
    "In this project you will implement your own sorting routine using the well-known algorithm bubble sort. Start by reading about bubble sort on Wikipedia:\n",
    "\n",
    "[https://en.wikipedia.org/wiki/Bubble_sort](https://en.wikipedia.org/wiki/Bubble_sort)"
   ]
  },
  {
   "cell_type": "markdown",
   "metadata": {},
   "source": [
    "## The Swap Function \n",
    "\n",
    "Bubble sort requires that you be able to \"swap\" strings or numbers in an array. Implement a function called `bubble_swap()` that takes two arguments, `work` and `position`. The function should swap the values in the list called `work` at `position` and `position+1`. For eample: \n",
    "\n",
    "```python\n",
    "my_list = [ 4, 5, 6, 7] \n",
    "bubble_swap(my_list, 0)\n",
    "# my_list is now [ 5, 4, 6, 7 ] \n",
    "```\n",
    "\n",
    "Here's another example: \n",
    "\n",
    "```python\n",
    "my_list = [ 4, 5, 6, 7] \n",
    "bubble_swap(my_list, 2)\n",
    "# my_list is now [ 4, 5, 7, 6 ] \n",
    "```\n",
    "\n",
    "The `swap` function must work no matter what index it receives. For example, if given the last index in the list the `bubble_swap` function swapps the first and last elements.  \n",
    "\n",
    "```python\n",
    "my_list = [ 4, 5, 6, 7 ] \n",
    "bubble_swap(my_list, 3) \n",
    "# my_list is now [ 7, 5, 6, 4 ] \n",
    "```\n",
    "\n",
    "> Hint: Use the modulus (`%`) operator.\n",
    "\n",
    "The function does not test if the elements are in order or not, it swapps elements no matter what. "
   ]
  },
  {
   "cell_type": "markdown",
   "metadata": {},
   "source": [
    "## The Sort Function \n",
    "\n",
    "Your program should have a function called `bubble_sort` that sorts a list. The function takes a list as an argument, makes a copy of the list and sorts the copy. The sort function must implement Bubble Sort and can't use the built-in sort function! The list can be made up of elements of any type, including words, but the list will not mix types (i.e. no mixing of words and numbers).\n",
    "\n",
    "You can make a copy of a list like this:\n",
    "\n",
    "```python\n",
    "my_list_copy = list(my_list)\n",
    "```\n",
    "\n",
    "The `bubble_sort` function should not change the original list."
   ]
  },
  {
   "cell_type": "markdown",
   "metadata": {},
   "source": [
    "## Required Functions\n",
    "\n",
    "  * Function: `bubble_swap` - Swap two values in a list, modifying the argument. \n",
    "    * Arguments:\n",
    "      * `work` - The list to work on \n",
    "      * `position` - The position to swap (swaps `position` and `position+1`)\n",
    "    * Returns: None\n",
    "  * Function: `bubble_sort` - Sort a list using bubble sort and return the sorted list. \n",
    "    * Arguments:\n",
    "        * `work` - A list to sort. **Do not change this list!**\n",
    "    * Returns:\n",
    "        * A sorted copy of `work`\n",
    "      "
   ]
  },
  {
   "cell_type": "markdown",
   "metadata": {},
   "source": [
    "## Requirements \n",
    "\n",
    "  - You must have a docstring describing your program.\n",
    "  - You must have the required functions \n",
    "    - The functions must have the exact names as above\n",
    "    - The functions must take the exact arguments in the order above\n",
    "    - The functions must have docstrings. \n",
    "  - All code should be in a function \n",
    "  - You should have a `main()` function\n",
    "    - I will not call your `main()` function, you should use it for testing purposes. \n",
    "  - Your program must be submitted in a file called `bubble_sort.py`"
   ]
  },
  {
   "cell_type": "markdown",
   "metadata": {},
   "source": [
    "## Unit Tests\n",
    "\n",
    "The unit tests below will test your `bubble_sort.py` project. Before you turn it in make sure that all of the test are passing!"
   ]
  },
  {
   "cell_type": "code",
   "execution_count": null,
   "metadata": {},
   "outputs": [],
   "source": []
  }
 ],
 "metadata": {
  "kernelspec": {
   "display_name": "Python 3",
   "language": "python",
   "name": "python3"
  },
  "language_info": {
   "codemirror_mode": {
    "name": "ipython",
    "version": 3
   },
   "file_extension": ".py",
   "mimetype": "text/x-python",
   "name": "python",
   "nbconvert_exporter": "python",
   "pygments_lexer": "ipython3",
   "version": "3.8.2"
  },
  "pycharm": {
   "stem_cell": {
    "cell_type": "raw",
    "metadata": {
     "collapsed": false
    },
    "source": []
   }
  }
 },
 "nbformat": 4,
 "nbformat_minor": 4
}
