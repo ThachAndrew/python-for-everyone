{
 "cells": [
  {
   "cell_type": "markdown",
   "metadata": {},
   "source": [
    "# Lab 8: Lists and Loops \n",
    "\n",
    "This lab will give you practice to help solidify your understanding of lists and loops. \n",
    "\n",
    "\n",
    "## Part 1: Build Your own To-Do List \n",
    "\n",
    "Make sure you understand the syntax introduced in the lists lecture. \n",
    "\n",
    "### 1.1. Create a List \n",
    "\n",
    "Create a list variable called `todo_list` with the following items:\n",
    "\n",
    "1. Wake up early \n",
    "1. Exercise \n",
    "1. Eat Breakfast \n",
    "1. Do Python Lab \n",
    "1. Watch Class\n"
   ]
  },
  {
   "cell_type": "code",
   "execution_count": null,
   "metadata": {},
   "outputs": [],
   "source": []
  },
  {
   "cell_type": "markdown",
   "metadata": {},
   "source": [
    "### 1.2. Change an Item \n",
    "\n",
    "Change \"Wake up early\" to \"Wake up on time\" "
   ]
  },
  {
   "cell_type": "code",
   "execution_count": null,
   "metadata": {},
   "outputs": [],
   "source": []
  },
  {
   "cell_type": "markdown",
   "metadata": {},
   "source": [
    "### 1.3. Access an Item \n",
    "\n",
    "Print the third item in `todo_list`"
   ]
  },
  {
   "cell_type": "code",
   "execution_count": null,
   "metadata": {},
   "outputs": [],
   "source": []
  },
  {
   "cell_type": "markdown",
   "metadata": {},
   "source": [
    "### 1.4. Access an Indes \n",
    "\n",
    "Print index three of `todo_list`"
   ]
  },
  {
   "cell_type": "code",
   "execution_count": null,
   "metadata": {},
   "outputs": [],
   "source": []
  },
  {
   "cell_type": "markdown",
   "metadata": {},
   "source": [
    "### 1.5. Use `append`\n",
    "\n",
    "Use the `append` function to add \"Sleep\" to the end of `todo_list`"
   ]
  },
  {
   "cell_type": "markdown",
   "metadata": {},
   "source": [
    "### 1.6. Use `insert`\n",
    "\n",
    "Use `insert` to insert \"Read the Book\" between \"Do Python Lab\" and \"Watch Class\""
   ]
  },
  {
   "cell_type": "code",
   "execution_count": null,
   "metadata": {},
   "outputs": [],
   "source": []
  },
  {
   "cell_type": "markdown",
   "metadata": {},
   "source": [
    "### 1.7. Use `del`\n",
    "\n",
    "Use the `del` operator to remove \"Wake up on time\" "
   ]
  },
  {
   "cell_type": "code",
   "execution_count": null,
   "metadata": {},
   "outputs": [],
   "source": []
  },
  {
   "cell_type": "markdown",
   "metadata": {},
   "source": [
    "### 1.8. Use `remove` \n",
    "\n",
    "Use the `remove` function to remove \"Sleep\" from the `todo_list`"
   ]
  },
  {
   "cell_type": "code",
   "execution_count": null,
   "metadata": {},
   "outputs": [],
   "source": []
  }
 ],
 "metadata": {
  "kernelspec": {
   "display_name": "Python 3.8 (XPython)",
   "language": "python",
   "name": "xpython"
  },
  "language_info": {
   "file_extension": ".py",
   "mimetype": "text/x-python",
   "name": "python",
   "version": "3.8.2"
  }
 },
 "nbformat": 4,
 "nbformat_minor": 4
}
