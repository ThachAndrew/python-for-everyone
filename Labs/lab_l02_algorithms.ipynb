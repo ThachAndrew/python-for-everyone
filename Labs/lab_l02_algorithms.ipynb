{
 "cells": [
  {
   "attachments": {},
   "cell_type": "markdown",
   "metadata": {},
   "source": [
    "# Lab: Algorithms \n",
    "\n",
    "An algorithm is a sequence of steps that performs a task. Programmers learn to take complex tasks and break them down into steps they've learned. Sometimes it's hard to figure out how to break down a problem. When you're stuck it's best to start by copying example code that works. This notebook will use the turtle which will help you understand algorithms. "
   ]
  },
  {
   "attachments": {},
   "cell_type": "markdown",
   "metadata": {},
   "source": [
    "## Drawing Shapes \n",
    "\n",
    "How can you use the pen to draw shapes? Every shape is a sequence of pen strokes and turns. For example, think of a triangle. You can draw a triangle by:\n",
    "\n",
    "1. Drawing an initial line \n",
    "2. Turning 120 degrees\n",
    "3. Drawing a second line \n",
    "4. Turning 120 degrees \n",
    "5. Drawing a third line\n",
    "\n",
    "Every closed shape has one important thing in common, the sum of all the turns equals 360 degrees. A triangle has three turns of 120 degrees each. The code below draws a triangle."
   ]
  },
  {
   "cell_type": "code",
   "execution_count": 10,
   "metadata": {},
   "outputs": [],
   "source": [
    "import jupyter_turtle.turtle as tu"
   ]
  },
  {
   "attachments": {},
   "cell_type": "markdown",
   "metadata": {},
   "source": [
    "You only have to run the `import` cell once unless you restart the python kernel. "
   ]
  },
  {
   "cell_type": "code",
   "execution_count": null,
   "metadata": {},
   "outputs": [],
   "source": [
    "tu.new()\n",
    "tu.clear()\n",
    "tu.move(80)   # Draw the first line\n",
    "tu.turn(120)\n",
    "tu.move(80)   # Draw the second line\n",
    "tu.turn(120)\n",
    "tu.move(80)   # Draw the third line\n",
    "tu.turn(120)"
   ]
  },
  {
   "attachments": {},
   "cell_type": "markdown",
   "metadata": {},
   "source": [
    "## Part 1: Drawing Algorithms\n",
    "\n",
    "In the cells provided write code to implement the requested algorithms.\n",
    "\n",
    "### 1. Draw a Square\n",
    "\n",
    "Write an algorithm that draws a square."
   ]
  },
  {
   "cell_type": "code",
   "execution_count": null,
   "metadata": {},
   "outputs": [],
   "source": []
  },
  {
   "attachments": {},
   "cell_type": "markdown",
   "metadata": {},
   "source": [
    "### 2. Draw a \"T\"\n",
    "\n",
    "Write an algorithm that draws a capital \"T\""
   ]
  },
  {
   "cell_type": "code",
   "execution_count": null,
   "metadata": {},
   "outputs": [],
   "source": []
  },
  {
   "attachments": {},
   "cell_type": "markdown",
   "metadata": {},
   "source": [
    "### 3. Draw an \"A\"\n",
    "\n",
    "Write an algorithm that draws a capital \"A\""
   ]
  },
  {
   "cell_type": "code",
   "execution_count": null,
   "metadata": {},
   "outputs": [],
   "source": []
  },
  {
   "attachments": {},
   "cell_type": "markdown",
   "metadata": {},
   "source": [
    "### 4. Escape the Maze!\n",
    "\n",
    "Use pen commands to help the turtle escape the maze. "
   ]
  },
  {
   "cell_type": "code",
   "execution_count": null,
   "metadata": {},
   "outputs": [],
   "source": [
    "tu.new()\n",
    "tu.background('files/maze.png')\n",
    "\n",
    "# Put your code below this line."
   ]
  },
  {
   "attachments": {},
   "cell_type": "markdown",
   "metadata": {},
   "source": [
    "## Part 2: Explore Turtle Commands \n",
    "\n",
    "Use the Lesson 2 notebook to discover how to solve the challenges in this section. \n",
    "\n",
    "### 1. Draw an \"M\"\n",
    "\n",
    "Use the `pos` property to draw an \"M\". **Do not use `move` or `turn`.**"
   ]
  },
  {
   "cell_type": "code",
   "execution_count": null,
   "metadata": {},
   "outputs": [],
   "source": []
  },
  {
   "attachments": {},
   "cell_type": "markdown",
   "metadata": {},
   "source": [
    "### 2. Draw an \"X\"\n",
    "\n",
    "Use the `pos` property draw an \"X\". You will need to pick the pen up and put it down again. **Do not use `move` or `turn`.**  "
   ]
  },
  {
   "cell_type": "code",
   "execution_count": null,
   "metadata": {},
   "outputs": [],
   "source": []
  },
  {
   "attachments": {},
   "cell_type": "markdown",
   "metadata": {},
   "source": [
    "### 3. Colorful Writing \n",
    "\n",
    "Write your name three times using three different colors. "
   ]
  },
  {
   "cell_type": "code",
   "execution_count": null,
   "metadata": {},
   "outputs": [],
   "source": []
  }
 ],
 "metadata": {
  "interpreter": {
   "hash": "ede5dd4a0524117f1bdcf3d20d74022d27599f0f4a7a520dc0cd0446015e4e96"
  },
  "kernelspec": {
   "display_name": "Python 3 (ipykernel)",
   "language": "python",
   "name": "python3"
  },
  "language_info": {
   "codemirror_mode": {
    "name": "ipython",
    "version": 3
   },
   "file_extension": ".py",
   "mimetype": "text/x-python",
   "name": "python",
   "nbconvert_exporter": "python",
   "pygments_lexer": "ipython3",
   "version": "3.10.12"
  }
 },
 "nbformat": 4,
 "nbformat_minor": 4
}
