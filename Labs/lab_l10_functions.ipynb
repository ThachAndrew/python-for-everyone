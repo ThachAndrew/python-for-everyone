{
 "cells": [
  {
   "attachments": {},
   "cell_type": "markdown",
   "metadata": {},
   "source": [
    "# Lab: Functions\n",
    "\n",
    "This lab will help you get practice using functions. It will also help you understand how functions are specified. From now on most of the things that I will have you write will be in a function. It's important that you structure your function to match the question exactly. \n",
    "\n",
    "Here's an example of a function specification. It tells you the name of the function, what it should return the names of the arguments (if any) and their order. Though the argument names can change everything else should be the same. \n",
    "\n",
    "* Name: `the_function`\n",
    "* Arguments:\n",
    "  * `arg1` (string) - The first argument\n",
    "  * `arg2` (integer) - The second argument \n",
    "* Return Values:\n",
    "  * Your name (string)  \n",
    "\n",
    "Here's how you setup the answer:\n",
    "\n",
    "```python\n",
    "def the_function(arg1, arg2): \n",
    "    \"\"\"This is the docstring for the_function\"\"\"\n",
    "    # Put your code here\n",
    "    return \"Mike\"\n",
    "```\n",
    "\n",
    "Before you turn in or test your function make sure that:\n",
    "\n",
    "1. You used the correct name\n",
    "1. There is a docstring\n",
    "1. You have the same number of arguments (you can rename them if you like)\n",
    "1. You return the requested value. If the requested value is `None` you can simply `return`\n",
    "\n",
    "## Part 1: Writing Functions \n",
    "\n",
    "\n",
    "### 1. Write `foo`\n",
    "\n",
    "Write a function called `foo` that takes one argument `bar`. The function should `print` the contents of `bar`.\n",
    "\n",
    "* Name: `foo`\n",
    "* Arguments:\n",
    "  * `bar` (string) - The thing to print\n",
    "* Returns: `None`"
   ]
  },
  {
   "cell_type": "code",
   "execution_count": null,
   "metadata": {},
   "outputs": [],
   "source": []
  },
  {
   "attachments": {},
   "cell_type": "markdown",
   "metadata": {},
   "source": [
    "Test your function using the cell below: "
   ]
  },
  {
   "cell_type": "code",
   "execution_count": null,
   "metadata": {},
   "outputs": [],
   "source": []
  },
  {
   "attachments": {},
   "cell_type": "markdown",
   "metadata": {},
   "source": [
    "### 2. Write `do_sum`\n",
    "\n",
    "Write a function called `do_sum` that takes two arguments, `a` and `b`. The function should `print` the sum of its arguments.\n",
    "\n",
    "* Name: `do_sum`\n",
    "* Arguments:\n",
    "  * `a` (float) - A number\n",
    "  * `b` (float) - Another number\n",
    "* Returns: `None`"
   ]
  },
  {
   "cell_type": "code",
   "execution_count": null,
   "metadata": {},
   "outputs": [],
   "source": []
  },
  {
   "attachments": {},
   "cell_type": "markdown",
   "metadata": {},
   "source": [
    "Test your function in the cell below:"
   ]
  },
  {
   "cell_type": "code",
   "execution_count": null,
   "metadata": {},
   "outputs": [],
   "source": []
  },
  {
   "attachments": {},
   "cell_type": "markdown",
   "metadata": {},
   "source": [
    "### 3. Print Repeated\n",
    "\n",
    "Write a function called `print_repeat` that takes two arguments, `words` and `times`. The function prints `words` `times` times. \n",
    "\n",
    "* Name: `print_repeat`\n",
    "* Arguments:\n",
    "  * `words` (string) - The words to repeat\n",
    "  * `times` (integer) - Another number\n",
    "* Returns: `None`"
   ]
  },
  {
   "cell_type": "code",
   "execution_count": null,
   "metadata": {},
   "outputs": [],
   "source": []
  },
  {
   "attachments": {},
   "cell_type": "markdown",
   "metadata": {},
   "source": [
    "Test your function is the cell below:"
   ]
  },
  {
   "cell_type": "code",
   "execution_count": null,
   "metadata": {},
   "outputs": [],
   "source": []
  },
  {
   "attachments": {},
   "cell_type": "markdown",
   "metadata": {},
   "source": [
    "### 4. A Return Value\n",
    "\n",
    "Write a function called `i_am_four` that returns the number `4`.\n",
    "\n",
    "* Name: `i_am_four`\n",
    "* Arguments: None\n",
    "* Returns: `4`"
   ]
  },
  {
   "cell_type": "code",
   "execution_count": null,
   "metadata": {},
   "outputs": [],
   "source": []
  },
  {
   "attachments": {},
   "cell_type": "markdown",
   "metadata": {},
   "source": [
    "Test your function in the cell below:"
   ]
  },
  {
   "cell_type": "code",
   "execution_count": null,
   "metadata": {},
   "outputs": [],
   "source": []
  },
  {
   "attachments": {},
   "cell_type": "markdown",
   "metadata": {},
   "source": [
    "### 5. Arguments and Return Values\n",
    "\n",
    "Write a function called `do_sum_return` that takes two arguments, `a` and `b`. The function returns the sum of the two numbers. \n",
    "\n",
    "* Name: `do_sum_return`\n",
    "* Arguments: \n",
    "    * `a` (float) A number\n",
    "    * `b` (float) Another number\n",
    "* Returns: The sum of `a` and `b`"
   ]
  },
  {
   "cell_type": "code",
   "execution_count": null,
   "metadata": {},
   "outputs": [],
   "source": []
  },
  {
   "attachments": {},
   "cell_type": "markdown",
   "metadata": {},
   "source": [
    "Test your function in the cell below:"
   ]
  },
  {
   "cell_type": "code",
   "execution_count": null,
   "metadata": {},
   "outputs": [],
   "source": []
  },
  {
   "attachments": {},
   "cell_type": "markdown",
   "metadata": {},
   "source": [
    "### 6. Returning a Boolean Value\n",
    "\n",
    "Write a function called `is_greater` that takes two arguments called `a` and `b`. The function returns `True` if `a` is greater than `b`, `False` otherwise.\n",
    "\n",
    "* Name: `is_greater`\n",
    "* Arguments:\n",
    "    * `a` (float) A number \n",
    "    * `b` (float) A number \n",
    "* Returns:\n",
    "    * True if `a` is greater than `b`. `False` otherwise. "
   ]
  },
  {
   "cell_type": "code",
   "execution_count": null,
   "metadata": {},
   "outputs": [],
   "source": []
  },
  {
   "attachments": {},
   "cell_type": "markdown",
   "metadata": {},
   "source": [
    "Test your function in the cell below:"
   ]
  },
  {
   "cell_type": "code",
   "execution_count": null,
   "metadata": {},
   "outputs": [],
   "source": []
  },
  {
   "attachments": {},
   "cell_type": "markdown",
   "metadata": {},
   "source": [
    "## Part 2: Using Your Own Functions \n",
    "\n",
    "In this part you'll write reusable functions and use them to make a simple program."
   ]
  },
  {
   "attachments": {},
   "cell_type": "markdown",
   "metadata": {},
   "source": [
    "### 1. Write a `triangle` Function \n",
    "\n",
    "Write a function to draw a `triangle` that takes one argument `len`, the length of a side. The function draws an equilateral triangle with sides of `len` pixels.\n",
    "\n",
    "* Name: `triangle`\n",
    "* Arguments:\n",
    "  * `size` (int) the length of a side"
   ]
  },
  {
   "cell_type": "code",
   "execution_count": null,
   "metadata": {},
   "outputs": [],
   "source": []
  },
  {
   "attachments": {},
   "cell_type": "markdown",
   "metadata": {},
   "source": [
    "### 2. Draw Using `triangle`\n",
    "\n",
    "Use the `triangle` function from the last question to construct a figure like this: \n",
    "\n",
    "![](files/triangles.svg)\n",
    "\n",
    "Notice that it's made of three triangles, two at the base and one on top. "
   ]
  },
  {
   "cell_type": "code",
   "execution_count": null,
   "metadata": {},
   "outputs": [],
   "source": []
  }
 ],
 "metadata": {
  "interpreter": {
   "hash": "916dbcbb3f70747c44a77c7bcd40155683ae19c65e1c03b4aa3499c5328201f1"
  },
  "kernelspec": {
   "display_name": "Python 3 (ipykernel)",
   "language": "python",
   "name": "python3"
  },
  "language_info": {
   "codemirror_mode": {
    "name": "ipython",
    "version": 3
   },
   "file_extension": ".py",
   "mimetype": "text/x-python",
   "name": "python",
   "nbconvert_exporter": "python",
   "pygments_lexer": "ipython3",
   "version": "3.10.12"
  }
 },
 "nbformat": 4,
 "nbformat_minor": 4
}
