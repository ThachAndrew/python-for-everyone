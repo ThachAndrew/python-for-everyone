{
 "cells": [
  {
   "cell_type": "markdown",
   "metadata": {},
   "source": [
    "# XXXX Lab: Dictionaries \n",
    "\n",
    "This test will help you better understand how to use dictionaries. \n"
   ]
  },
  {
   "cell_type": "markdown",
   "metadata": {},
   "source": [
    "## Part 2: The `for` Loop and Dictionaries \n",
    "\n",
    "Now get practice using the `for` loops you learned. \n",
    "\n",
    "\n",
    "### 2.1. Loop Over Keys\n",
    "\n",
    "Write a `for` loop that prints all the keys in `courses`."
   ]
  },
  {
   "cell_type": "code",
   "execution_count": null,
   "metadata": {},
   "outputs": [],
   "source": []
  },
  {
   "cell_type": "markdown",
   "metadata": {},
   "source": [
    "### 2.2. Loop Over Values \n",
    "\n",
    "Write a `for` loop that prints all of the values in `courses`."
   ]
  },
  {
   "cell_type": "code",
   "execution_count": null,
   "metadata": {},
   "outputs": [],
   "source": []
  },
  {
   "cell_type": "markdown",
   "metadata": {},
   "source": [
    "### 2.3. Keys and Values \n",
    "\n",
    "Write a `for` loop that prints all keys and values in `courses`."
   ]
  },
  {
   "cell_type": "code",
   "execution_count": null,
   "metadata": {},
   "outputs": [],
   "source": []
  },
  {
   "cell_type": "markdown",
   "metadata": {},
   "source": [
    "## Part 3: Dictionary Functions \n",
    "\n",
    "Here are some more challenging problems using dictionaries. \n",
    "\n",
    "### 3.1. Reverse the Dictionary\n",
    "\n",
    "Write a function caled `reverse_get` that takes two arguments, `data` and `val`. The function searches `data` for the *value* `val` and returns the corresponding key. \n",
    "\n",
    "- Name: `reverse_get`\n",
    "- Arguments:\n",
    "  - `data` - A dictionary \n",
    "  - `val` - A value in the dictionary \n",
    "- Returns: The key that matches the value or `None` if the value is not found in the dictionary. "
   ]
  },
  {
   "cell_type": "code",
   "execution_count": null,
   "metadata": {},
   "outputs": [],
   "source": []
  },
  {
   "cell_type": "markdown",
   "metadata": {},
   "source": [
    "### 3.2. Frequency Counter \n",
    "\n",
    "Write a function that takes a single string argument and counts how many times each letter appears in the string. The function returns a dictionary with letters for keys and the count of the letters as values. For example if the function is given the sentence:\n",
    "\n",
    "```python\n",
    "count_letters('Hello World')\n",
    "```\n",
    "\n",
    "It should return the dictionary:\n",
    "\n",
    "```python\n",
    "{ \n",
    "    'h' : 1,\n",
    "    'e' : 1,\n",
    "    'l' : 3,\n",
    "    ' ' : 1,\n",
    "    'o' : 2,\n",
    "    'w' : 1,\n",
    "    'd' : 1,\n",
    "}\n",
    "```\n",
    "\n",
    "- Name: `count_letters`\n",
    "- Arguments:\n",
    "  - `text` (string) - The text to count.\n",
    "- Returns: A dictionary with letters for keys and counts for values.\n",
    "\n",
    "The nex cell has some example text to try:"
   ]
  },
  {
   "cell_type": "code",
   "execution_count": null,
   "metadata": {},
   "outputs": [],
   "source": [
    "example_text = \"\"\"\n",
    "It was a dark and stormy night; the rain fell in torrents — except \n",
    "at occasional intervals, when it was checked by a violent gust of \n",
    "wind which swept up the streets (for it is in London that our scene\n",
    "lies), rattling along the housetops, and fiercely agitating the \n",
    "scanty flame of the lamps that struggled against the darkness.\n",
    "\"\"\""
   ]
  },
  {
   "cell_type": "markdown",
   "metadata": {},
   "source": [
    "Put your solution here:"
   ]
  },
  {
   "cell_type": "code",
   "execution_count": null,
   "metadata": {},
   "outputs": [],
   "source": []
  }
 ],
 "metadata": {
  "interpreter": {
   "hash": "916dbcbb3f70747c44a77c7bcd40155683ae19c65e1c03b4aa3499c5328201f1"
  },
  "kernelspec": {
   "display_name": "Python 3.8 (XPython)",
   "language": "python",
   "name": "python3"
  },
  "language_info": {
   "file_extension": ".py",
   "mimetype": "text/x-python",
   "name": "python",
   "version": "3.8.10"
  },
  "pycharm": {
   "stem_cell": {
    "cell_type": "raw",
    "metadata": {
     "collapsed": false
    },
    "source": []
   }
  }
 },
 "nbformat": 4,
 "nbformat_minor": 4
}
