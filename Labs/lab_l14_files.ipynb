{
 "cells": [
  {
   "cell_type": "markdown",
   "metadata": {},
   "source": [
    "# Lab: Files \n",
    "\n",
    "The problems in this lab will help you understand reading and writing files.\n",
    "\n",
    "## Part 1: Reading and Writing a Text File \n",
    "\n",
    "This part will help you understand reading and writing. \n",
    "\n",
    "### 1. Open and Read a File\n",
    "\n",
    "*Create a file called `test.txt` with a few lines in it.* Read and print the first line of the file. **Don't forget to close the file**."
   ]
  },
  {
   "cell_type": "code",
   "execution_count": null,
   "metadata": {},
   "outputs": [],
   "source": []
  },
  {
   "cell_type": "markdown",
   "metadata": {},
   "source": [
    "### 2. Read Two Lines \n",
    "\n",
    "Wirte a program that reads the first two lines of `test.txt` and prints them. **Don't forget to close the file**.  "
   ]
  },
  {
   "cell_type": "code",
   "execution_count": null,
   "metadata": {},
   "outputs": [],
   "source": []
  },
  {
   "cell_type": "markdown",
   "metadata": {},
   "source": [
    "### 3. Write a File \n",
    "\n",
    "Use Python to write the following into a file called `fish.txt`:\n",
    "\n",
    "```\n",
    "One fish, \n",
    "Two fish, \n",
    "Red fish, \n",
    "Blue fish.\n",
    "```\n",
    "\n",
    "The program should create the file if it doesn't exist."
   ]
  },
  {
   "cell_type": "code",
   "execution_count": null,
   "metadata": {},
   "outputs": [],
   "source": []
  },
  {
   "cell_type": "markdown",
   "metadata": {},
   "source": [
    "### 4. Write Data \n",
    "\n",
    "Write a program that uses the widgets in the next cell to:\n",
    "\n",
    " - Get the name of a file (`widget_filename`)\n",
    " - Get a word (`widget_word`)\n",
    " - Get a number (`widget_times`)"
   ]
  },
  {
   "cell_type": "code",
   "execution_count": null,
   "metadata": {},
   "outputs": [],
   "source": [
    "import ipywidgets \n",
    "widget_filename = ipywidgets.Text(description=\"Filename:\")\n",
    "widget_word = ipywidgets.Text(description=\"Word:\")\n",
    "widget_times = ipywidgets.IntSlider(description=\"Times:\")\n",
    "display(widget_filename, widget_word, widget_times)"
   ]
  },
  {
   "cell_type": "markdown",
   "metadata": {},
   "source": [
    "Open the file `widget_filename.value` then write `widget_word.value` `widget_times.value` number of times. *Hint: Remember what happens when you multiply a string by an integer (e.g. `\"hello\" * 100`)*  "
   ]
  },
  {
   "cell_type": "code",
   "execution_count": null,
   "metadata": {},
   "outputs": [],
   "source": []
  },
  {
   "cell_type": "markdown",
   "metadata": {},
   "source": [
    "### 5. Read Lines and Reorder \n",
    "\n",
    "Write a program that reads the four lines in `fish.txt` and prints them in *reverse order*. "
   ]
  },
  {
   "cell_type": "code",
   "execution_count": null,
   "metadata": {},
   "outputs": [],
   "source": []
  },
  {
   "cell_type": "markdown",
   "metadata": {},
   "source": [
    "### 6. Read Into a List \n",
    "\n",
    "Write a program that reads `fish.txt` into a list. "
   ]
  },
  {
   "cell_type": "code",
   "execution_count": null,
   "metadata": {},
   "outputs": [],
   "source": []
  },
  {
   "cell_type": "markdown",
   "metadata": {},
   "source": [
    "### 7. Print the Last Line \n",
    "\n",
    "Use the list you created in the previous question to print the last line of the file."
   ]
  },
  {
   "cell_type": "code",
   "execution_count": null,
   "metadata": {},
   "outputs": [],
   "source": []
  },
  {
   "cell_type": "markdown",
   "metadata": {},
   "source": [
    "## Part 2: Functions with Files \n",
    "\n",
    "In this part you'll write functions that manipulate files."
   ]
  },
  {
   "cell_type": "markdown",
   "metadata": {},
   "source": [
    "### 1. Read a Whole File\n",
    "\n",
    "Write a function called `read_file` that has an argument `filename` that contains the name of a file. The function should read the file and return it's entire contents. The function must close the file before returning. \n",
    "\n",
    "* Name: `read_file`\n",
    "* Arguments: \n",
    "    * `filename` (string) The name of a file to read.\n",
    "* Returns: (string) The contents of the file. "
   ]
  },
  {
   "cell_type": "code",
   "execution_count": null,
   "metadata": {},
   "outputs": [],
   "source": []
  },
  {
   "cell_type": "markdown",
   "metadata": {},
   "source": [
    "Test your function below. You can use the file `example.txt` for testing purposes."
   ]
  },
  {
   "cell_type": "code",
   "execution_count": null,
   "metadata": {},
   "outputs": [],
   "source": []
  },
  {
   "cell_type": "markdown",
   "metadata": {},
   "source": [
    "### 2. Write a Whole File\n",
    "\n",
    "Write a function called `write_file` that takes two arguments `filename` and `contents`. The function opens the file named in `filename` removing any previous contents and replacing them with `contents`. Return the number of characters written to the file. The function must close the file before returning. \n",
    "\n",
    "* Name: `write_file`\n",
    "* Arguments: \n",
    "    * `filename` (string) The name of a file to write.\n",
    "    * `contents` (string) The stuff to write into the file. \n",
    "* Returns: (integer) The number of characters written."
   ]
  },
  {
   "cell_type": "code",
   "execution_count": null,
   "metadata": {},
   "outputs": [],
   "source": []
  },
  {
   "cell_type": "markdown",
   "metadata": {},
   "source": [
    "Test your function in the cell below. Write to a file named `output.txt`"
   ]
  },
  {
   "cell_type": "code",
   "execution_count": null,
   "metadata": {},
   "outputs": [],
   "source": []
  },
  {
   "cell_type": "markdown",
   "metadata": {},
   "source": [
    "### 3. Summing Values \n",
    "\n",
    "Write a function called `file_sum` that takes one argument `filename`, the name of a file. The function should read the first four lines of the file and convert the lines to `float`, then return the sum of the numbers in the file. \n",
    "\n",
    "* Name: `file_sum`\n",
    "* Arguments:\n",
    "    * `filename` (string) - The name of a file \n",
    "* Returns: (float) The sum of the first four lines in the file. "
   ]
  },
  {
   "cell_type": "code",
   "execution_count": null,
   "metadata": {},
   "outputs": [],
   "source": []
  },
  {
   "cell_type": "markdown",
   "metadata": {},
   "source": [
    "Test your function in the code below. The file `numbers.txt` in the current directory can be used for testing. "
   ]
  },
  {
   "cell_type": "code",
   "execution_count": null,
   "metadata": {},
   "outputs": [],
   "source": []
  },
  {
   "cell_type": "markdown",
   "metadata": {},
   "source": [
    "### 4. Top to Bottom \n",
    "\n",
    "Write a function called `top_to_bottom` that takes one argument `filename`. The function reads the file and re-rewrites it with the first line of the file moved to the bottom. For example if the file looked like this before `top_to_bottom`:\n",
    "\n",
    "``` \n",
    "line 1\n",
    "line 2\n",
    "Mary had a little \n",
    "Lamb. \n",
    "And stuff\n",
    "```\n",
    "\n",
    "After `top_to_bottom` the file should look like this:\n",
    "\n",
    "``` \n",
    "line 2\n",
    "Mary had a little \n",
    "Lamb. \n",
    "And stuff\n",
    "line 1\n",
    "```\n",
    "\n",
    "* Name: `top_to_bottom`\n",
    "* Arguments:\n",
    "    * `filename` (string) - The name of a file \n",
    "* Returns: None"
   ]
  },
  {
   "cell_type": "code",
   "execution_count": null,
   "metadata": {},
   "outputs": [],
   "source": []
  },
  {
   "cell_type": "markdown",
   "metadata": {},
   "source": [
    "Test your function in the cell below:"
   ]
  },
  {
   "cell_type": "code",
   "execution_count": null,
   "metadata": {},
   "outputs": [],
   "source": []
  }
 ],
 "metadata": {
  "interpreter": {
   "hash": "ede5dd4a0524117f1bdcf3d20d74022d27599f0f4a7a520dc0cd0446015e4e96"
  },
  "kernelspec": {
   "display_name": "Python 3 (ipykernel)",
   "language": "python",
   "name": "python3"
  },
  "language_info": {
   "codemirror_mode": {
    "name": "ipython",
    "version": 3
   },
   "file_extension": ".py",
   "mimetype": "text/x-python",
   "name": "python",
   "nbconvert_exporter": "python",
   "pygments_lexer": "ipython3",
   "version": "3.10.6"
  }
 },
 "nbformat": 4,
 "nbformat_minor": 4
}
