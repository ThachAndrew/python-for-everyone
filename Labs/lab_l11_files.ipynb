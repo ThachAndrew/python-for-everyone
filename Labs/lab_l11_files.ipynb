{
 "cells": [
  {
   "cell_type": "markdown",
   "metadata": {},
   "source": [
    "# Lab: Files \n",
    "\n",
    "The problems in this lab will help you understand reading and writing files.\n",
    "\n",
    "## Part 1: Reading and Writing a Text File \n",
    "\n",
    "This part will help you understand reading and writing. \n",
    "\n",
    "### 1. Open and Read a File\n",
    "\n",
    "*Create a file called `test.txt` with a few lines in it.* Read and print the first line of the file. **Don't forget to close the file**."
   ]
  },
  {
   "cell_type": "code",
   "execution_count": null,
   "metadata": {},
   "outputs": [],
   "source": []
  },
  {
   "cell_type": "markdown",
   "metadata": {},
   "source": [
    "### 2. Read Two Lines \n",
    "\n",
    "Wirte a program that reads the first two lines of `test.txt` and prints them. **Don't forget to close the file**.  "
   ]
  },
  {
   "cell_type": "code",
   "execution_count": null,
   "metadata": {},
   "outputs": [],
   "source": []
  },
  {
   "cell_type": "markdown",
   "metadata": {},
   "source": [
    "### 3. Write a File \n",
    "\n",
    "Use Python to write the following into a file called `fish.txt`:\n",
    "\n",
    "```\n",
    "One fish, \n",
    "Two fish, \n",
    "Red fish, \n",
    "Blue fish.\n",
    "```\n",
    "\n",
    "The program should create the file if it doesn't exist."
   ]
  },
  {
   "cell_type": "code",
   "execution_count": null,
   "metadata": {},
   "outputs": [],
   "source": []
  },
  {
   "cell_type": "markdown",
   "metadata": {},
   "source": [
    "### 4. Write Data \n",
    "\n",
    "Write a program that uses the widgets in the next cell to:\n",
    "\n",
    " - Get the name of a file (`widget_filename`)\n",
    " - Get a word (`widget_word`)\n",
    " - Get a number (`widget_times`)"
   ]
  },
  {
   "cell_type": "code",
   "execution_count": null,
   "metadata": {},
   "outputs": [],
   "source": [
    "import ipywidgets \n",
    "widget_filename = ipywidgets.Text(description=\"Filename:\")\n",
    "widget_word = ipywidgets.Text(description=\"Word:\")\n",
    "widget_times = ipywidgets.IntSlider(description=\"Times:\")\n",
    "display(widget_filename, widget_word, widget_times)"
   ]
  },
  {
   "cell_type": "markdown",
   "metadata": {},
   "source": [
    "Open the file `widget_filename.value` then write `widget_word.value` `widget_times.value` number of times. *Hint: Remember what happens when you multiply a string by an integer (e.g. `\"hello\" * 100`)*  "
   ]
  },
  {
   "cell_type": "code",
   "execution_count": null,
   "metadata": {},
   "outputs": [],
   "source": []
  },
  {
   "cell_type": "markdown",
   "metadata": {},
   "source": [
    "### 5. Read Lines and Reorder \n",
    "\n",
    "Write a program that reads the four lines in `fish.txt` and prints them in *reverse order*. "
   ]
  },
  {
   "cell_type": "code",
   "execution_count": null,
   "metadata": {},
   "outputs": [],
   "source": []
  },
  {
   "cell_type": "markdown",
   "metadata": {},
   "source": [
    "### 6. Read Into a List \n",
    "\n",
    "Write a program that reads `fish.txt` into a list. "
   ]
  },
  {
   "cell_type": "code",
   "execution_count": null,
   "metadata": {},
   "outputs": [],
   "source": []
  },
  {
   "cell_type": "markdown",
   "metadata": {},
   "source": [
    "### 7. Print the Last Line \n",
    "\n",
    "Use the list you created in the previous question to print the last line of the file."
   ]
  },
  {
   "cell_type": "code",
   "execution_count": null,
   "metadata": {},
   "outputs": [],
   "source": []
  }
 ],
 "metadata": {
  "interpreter": {
   "hash": "ede5dd4a0524117f1bdcf3d20d74022d27599f0f4a7a520dc0cd0446015e4e96"
  },
  "kernelspec": {
   "display_name": "Python 3.8 (XPython)",
   "language": "python",
   "name": "python3"
  },
  "language_info": {
   "codemirror_mode": {
    "name": "ipython",
    "version": 3
   },
   "file_extension": ".py",
   "mimetype": "text/x-python",
   "name": "python",
   "nbconvert_exporter": "python",
   "pygments_lexer": "ipython3",
   "version": "3.8.10"
  }
 },
 "nbformat": 4,
 "nbformat_minor": 4
}
