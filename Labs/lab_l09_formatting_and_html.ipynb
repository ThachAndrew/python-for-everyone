{
 "cells": [
  {
   "attachments": {},
   "cell_type": "markdown",
   "metadata": {},
   "source": [
    "# Lab: Formatting and HTML\n",
    "\n",
    "This lab will give you practice using the `format()` function and the `f-string` and making HTML.\n",
    "    \n",
    "## Part 1: Quotes\n",
    "\n",
    "### 1. Single Quotes \n",
    "\n",
    "Write a string that uses single quotes. "
   ]
  },
  {
   "cell_type": "code",
   "execution_count": null,
   "metadata": {},
   "outputs": [],
   "source": []
  },
  {
   "attachments": {},
   "cell_type": "markdown",
   "metadata": {},
   "source": [
    "### 2. Triple Quotes\n",
    "\n",
    "Write a string that uses triple quotes. "
   ]
  },
  {
   "cell_type": "code",
   "execution_count": null,
   "metadata": {},
   "outputs": [],
   "source": []
  },
  {
   "attachments": {},
   "cell_type": "markdown",
   "metadata": {},
   "source": [
    "### 3. Multi Line String\n",
    "\n",
    "Write a string that uses triple quotes and spans multiple lines. "
   ]
  },
  {
   "cell_type": "code",
   "execution_count": null,
   "metadata": {},
   "outputs": [],
   "source": []
  },
  {
   "attachments": {},
   "cell_type": "markdown",
   "metadata": {},
   "source": [
    "### 4. f-String\n",
    "\n",
    "Write an f-string. "
   ]
  },
  {
   "cell_type": "code",
   "execution_count": null,
   "metadata": {},
   "outputs": [],
   "source": []
  },
  {
   "attachments": {},
   "cell_type": "markdown",
   "metadata": {},
   "source": [
    "### 5. Assign Name\n",
    "\n",
    "Change the contents of the `name` variable to your name:"
   ]
  },
  {
   "cell_type": "code",
   "execution_count": null,
   "metadata": {},
   "outputs": [],
   "source": [
    "name = \"Your name here\""
   ]
  },
  {
   "attachments": {},
   "cell_type": "markdown",
   "metadata": {},
   "source": [
    "Now copy this code into the cell below: \n",
    "\n",
    "```python\n",
    "print(\"Hello {name}\")\n",
    "```"
   ]
  },
  {
   "cell_type": "code",
   "execution_count": null,
   "metadata": {},
   "outputs": [],
   "source": []
  },
  {
   "attachments": {},
   "cell_type": "markdown",
   "metadata": {},
   "source": [
    "Now copy this code into the cell below:\n",
    "\n",
    "```python\n",
    "print(f\"Hello {name}\")\n",
    "```"
   ]
  },
  {
   "cell_type": "code",
   "execution_count": null,
   "metadata": {},
   "outputs": [],
   "source": []
  },
  {
   "attachments": {},
   "cell_type": "markdown",
   "metadata": {},
   "source": [
    "> Can you explain the difference in the output of the last two code cells?"
   ]
  },
  {
   "attachments": {},
   "cell_type": "markdown",
   "metadata": {},
   "source": [
    "## Part 2: Formatting and f-Strings\n",
    "\n",
    "Practice with the `format` function and `f-strings`.\n",
    "\n",
    "### 1. Print Your Name\n",
    "\n",
    "Change this code to print your name:\n",
    "\n",
    "```python \n",
    "name = \"Your Name\"\n",
    "print(f'Hello my name is {name}')\n",
    "```"
   ]
  },
  {
   "cell_type": "code",
   "execution_count": null,
   "metadata": {},
   "outputs": [],
   "source": []
  },
  {
   "attachments": {},
   "cell_type": "markdown",
   "metadata": {},
   "source": [
    "### 2. Format \n",
    "\n",
    "Use the `format()` function to fill in your name.\n",
    "\n",
    "Start with this code: \n",
    "\n",
    "```python \n",
    "name = \"Your Name\"\n",
    "print(\"Hello my name is {}\".format())\n",
    "```"
   ]
  },
  {
   "cell_type": "code",
   "execution_count": null,
   "metadata": {},
   "outputs": [],
   "source": []
  },
  {
   "attachments": {},
   "cell_type": "markdown",
   "metadata": {},
   "source": [
    "### 3. Format Two Blanks\n",
    "\n",
    "Use the `format()` function to fill in two blanks.\n",
    "\n",
    "Start with this code: \n",
    "\n",
    "```python\n",
    "print(\"My name is {} and my favorite color is {}\".format())\n",
    "```"
   ]
  },
  {
   "cell_type": "code",
   "execution_count": null,
   "metadata": {},
   "outputs": [],
   "source": []
  },
  {
   "attachments": {},
   "cell_type": "markdown",
   "metadata": {},
   "source": [
    "### 4. Variable Blank\n",
    "\n",
    "Use the `format()` function to fill in the blank with a variable.\n",
    "\n",
    "Start with this code: \n",
    "\n",
    "```python\n",
    "name = \"Your Name Here\"\n",
    "print(\"Hello my name is {}\".format())\n",
    "```"
   ]
  },
  {
   "cell_type": "code",
   "execution_count": null,
   "metadata": {},
   "outputs": [],
   "source": []
  },
  {
   "attachments": {},
   "cell_type": "markdown",
   "metadata": {},
   "source": [
    "### 5. F-String Instead \n",
    "\n",
    "Use an f-string instead of `format()` to do the previous question."
   ]
  },
  {
   "cell_type": "code",
   "execution_count": null,
   "metadata": {},
   "outputs": [],
   "source": []
  },
  {
   "attachments": {},
   "cell_type": "markdown",
   "metadata": {},
   "source": [
    "### 6. More Blanks \n",
    "\n",
    "Use the `format()` function to fill in two blanks with variables.\n",
    "\n",
    "Start with this code: \n",
    "\n",
    "```python\n",
    "name = \"Your Name Here\"\n",
    "color = \"Your Color Here\"\n",
    "print(\"My name is {} and my favorite color is {}\".format())\n",
    "```"
   ]
  },
  {
   "cell_type": "code",
   "execution_count": null,
   "metadata": {},
   "outputs": [],
   "source": []
  },
  {
   "attachments": {},
   "cell_type": "markdown",
   "metadata": {},
   "source": [
    "### 7. F-String Instead\n",
    "\n",
    "Use an f-string instead of `format()` to do the previous question."
   ]
  },
  {
   "cell_type": "code",
   "execution_count": null,
   "metadata": {},
   "outputs": [],
   "source": []
  },
  {
   "attachments": {},
   "cell_type": "markdown",
   "metadata": {},
   "source": [
    "## Part 3: Templates and Variables\n",
    "\n",
    "### 1. Use a Template \n",
    "\n",
    "Begin with the program below. Update it to print the values for `a` and `b` using the `template`.\n",
    "\n",
    "```python\n",
    "template = \"a = {}; b = {}\"\n",
    "a = 123\n",
    "b = 95\n",
    "```"
   ]
  },
  {
   "cell_type": "code",
   "execution_count": null,
   "metadata": {},
   "outputs": [],
   "source": []
  },
  {
   "attachments": {},
   "cell_type": "markdown",
   "metadata": {},
   "source": [
    "### 2. More Templates \n",
    "\n",
    "Begin with the program below. Update it to print values for `a` and `b` as well as the product of the two numbers. \n",
    "\n",
    "```python\n",
    "template = \"The product of {} and {} is {}\"\n",
    "a = 123\n",
    "b = 95\n",
    "```"
   ]
  },
  {
   "cell_type": "code",
   "execution_count": null,
   "metadata": {},
   "outputs": [],
   "source": []
  },
  {
   "attachments": {},
   "cell_type": "markdown",
   "metadata": {},
   "source": [
    "## Part 4: HTML\n",
    "\n",
    "The answers in this section should produce HTML output. Use the `HTML` and `display` functions to do so. \n",
    "\n",
    "### 1. Bold \n",
    "\n",
    "Use HTML tags to make the following sentence **bold**.\n",
    "\n",
    "```\n",
    "I'm really serious.\n",
    "```"
   ]
  },
  {
   "cell_type": "code",
   "execution_count": null,
   "metadata": {},
   "outputs": [],
   "source": []
  },
  {
   "attachments": {},
   "cell_type": "markdown",
   "metadata": {},
   "source": [
    "### 2. Italic\n",
    "\n",
    "Use HTML tags to make the following sentence *italic*.\n",
    "\n",
    "```\n",
    "Are you for real?\n",
    "```"
   ]
  },
  {
   "cell_type": "code",
   "execution_count": null,
   "metadata": {},
   "outputs": [],
   "source": []
  },
  {
   "attachments": {},
   "cell_type": "markdown",
   "metadata": {},
   "source": [
    "### 3. Heading \n",
    "\n",
    "Use HTML tags to make the following sentence a level-1 heading.\n",
    "\n",
    "```\n",
    "My title is: title\n",
    "```"
   ]
  },
  {
   "cell_type": "code",
   "execution_count": null,
   "metadata": {},
   "outputs": [],
   "source": []
  },
  {
   "attachments": {},
   "cell_type": "markdown",
   "metadata": {},
   "source": [
    "### 4. Unordered List \n",
    "\n",
    "Use HTML to make an unordered list of items like this:\n",
    "\n",
    "  * Item 1 \n",
    "  * Item 2 \n",
    "  * Item 3"
   ]
  },
  {
   "cell_type": "code",
   "execution_count": null,
   "metadata": {},
   "outputs": [],
   "source": []
  },
  {
   "attachments": {},
   "cell_type": "markdown",
   "metadata": {},
   "source": [
    "### 5. Table \n",
    "\n",
    "Use HTML to make a table like this:\n",
    "\n",
    "| Header 1 | Header 2 | \n",
    "| --- | --- | \n",
    "| Item 1 | Item 2 | \n",
    "\n",
    "Note: Your table will have a less pretty style, that's okay."
   ]
  },
  {
   "cell_type": "code",
   "execution_count": null,
   "metadata": {},
   "outputs": [],
   "source": []
  },
  {
   "attachments": {},
   "cell_type": "markdown",
   "metadata": {},
   "source": [
    "### 6. Hyperlink \n",
    "\n",
    "Use HTML to make a hyperlink to my web site. "
   ]
  },
  {
   "cell_type": "code",
   "execution_count": null,
   "metadata": {},
   "outputs": [],
   "source": []
  }
 ],
 "metadata": {
  "interpreter": {
   "hash": "916dbcbb3f70747c44a77c7bcd40155683ae19c65e1c03b4aa3499c5328201f1"
  },
  "kernelspec": {
   "display_name": "Python 3 (ipykernel)",
   "language": "python",
   "name": "python3"
  },
  "language_info": {
   "codemirror_mode": {
    "name": "ipython",
    "version": 3
   },
   "file_extension": ".py",
   "mimetype": "text/x-python",
   "name": "python",
   "nbconvert_exporter": "python",
   "pygments_lexer": "ipython3",
   "version": "3.10.6"
  }
 },
 "nbformat": 4,
 "nbformat_minor": 4
}
