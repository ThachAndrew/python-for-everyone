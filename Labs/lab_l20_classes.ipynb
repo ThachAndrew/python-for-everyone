{
 "cells": [
  {
   "cell_type": "markdown",
   "metadata": {},
   "source": [
    "# Lab: Writing Classes\n",
    "\n",
    "This lab will help you write classes. \n",
    "\n",
    "## Part 1: Write Classes\n",
    "\n",
    "### 1. Empty Class\n",
    "\n",
    "Write a class called `my_class` with no functions. "
   ]
  },
  {
   "cell_type": "code",
   "execution_count": null,
   "metadata": {},
   "outputs": [],
   "source": []
  },
  {
   "cell_type": "markdown",
   "metadata": {},
   "source": [
    "### 2. Instance \n",
    "\n",
    "Make an instance of `my_class` called `inst`."
   ]
  },
  {
   "cell_type": "code",
   "execution_count": null,
   "metadata": {},
   "outputs": [],
   "source": []
  },
  {
   "cell_type": "markdown",
   "metadata": {},
   "source": [
    "### 3. Write a Counting Class \n",
    "\n",
    "Write a class called `Counter`. The class should have the following member variables:\n",
    "\n",
    "  - `count`: an integer\n",
    "  \n",
    "The class should have the following member functions: \n",
    "\n",
    "  - `__init__` - Set the class variable `count` to zero.\n",
    "    - Arguments: \n",
    "      - `self`: The class instance \n",
    "    - Returns: None\n",
    "  - `plus_one` - Add one to the count\n",
    "    - Arguments: \n",
    "      - `self`: The class instance \n",
    "    - Returns: None\n",
    "  - `minus_one` - Subtract one from the count\n",
    "    - Arguments: \n",
    "      - `self`: The class instance \n",
    "    - Returns: None\n",
    "  - `print_count` - Print the current count value.\n",
    "    - Arguments: \n",
    "      - `self`: The class instance \n",
    "    - Returns: None\n",
    "\n",
    "*Test your class by creating an instance of it and using all member functions.*"
   ]
  },
  {
   "cell_type": "code",
   "execution_count": null,
   "metadata": {},
   "outputs": [],
   "source": []
  },
  {
   "cell_type": "markdown",
   "metadata": {},
   "source": [
    "### 4. Update your Counting Class\n",
    "\n",
    "Update the `Counter` class to have an `__init__` function that takes an argument:\n",
    "\n",
    "  - `__init__` - Set the class variable `count` to `initial_count`\n",
    "    - Arguments:\n",
    "      - `self`: The class instance. \n",
    "      - `initial_count`: The initial value of the count variable. \n",
    "\n",
    "*Test your class by creating an instance of it and using both member functions.*"
   ]
  },
  {
   "cell_type": "code",
   "execution_count": null,
   "metadata": {},
   "outputs": [],
   "source": []
  }
 ],
 "metadata": {
  "interpreter": {
   "hash": "916dbcbb3f70747c44a77c7bcd40155683ae19c65e1c03b4aa3499c5328201f1"
  },
  "kernelspec": {
   "display_name": "Python 3.8 (XPython)",
   "language": "python",
   "name": "python3"
  },
  "language_info": {
   "file_extension": ".py",
   "mimetype": "text/x-python",
   "name": "python",
   "version": "3.8.10"
  }
 },
 "nbformat": 4,
 "nbformat_minor": 4
}
