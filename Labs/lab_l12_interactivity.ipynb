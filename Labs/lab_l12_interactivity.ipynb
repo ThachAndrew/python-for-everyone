{
 "cells": [
  {
   "cell_type": "markdown",
   "id": "54cc220a-3170-4680-a9ba-cd42e35de247",
   "metadata": {},
   "source": [
    "# Lab: Interactive Functions \n",
    "\n",
    "This lab has some simple user interfaces that will be completed by a function you write. Run the next cell before you begin:"
   ]
  },
  {
   "cell_type": "code",
   "execution_count": null,
   "id": "499b76f2-9fb1-4bdd-9763-c820bd41f4bd",
   "metadata": {},
   "outputs": [],
   "source": [
    "import ipywidgets\n",
    "from p4e.widgets import bind "
   ]
  },
  {
   "cell_type": "markdown",
   "id": "8cb548c9-67fe-46da-b906-27d24b6c1ad3",
   "metadata": {},
   "source": [
    "## Part 1: Interactive Functions\n",
    "\n",
    "Each of the following questions has code for a user interface (UI) and asks you to write a specified funtion. \n",
    "\n",
    "### 1. Add Integers\n",
    "\n",
    "Using the UI in the next cell:"
   ]
  },
  {
   "cell_type": "code",
   "execution_count": null,
   "id": "b50eece6-bc24-41a5-a963-952db74854c5",
   "metadata": {},
   "outputs": [],
   "source": [
    "a_widget = ipywidgets.IntText(description=\"a:\")\n",
    "b_widget = ipywidgets.IntText(description=\"b:\")\n",
    "display(\n",
    "    a_widget,\n",
    "    b_widget, \n",
    "    bind('add_ints', {'a': a_widget, 'b': b_widget})\n",
    ")"
   ]
  },
  {
   "cell_type": "markdown",
   "id": "7e4ca0d3-8d41-4ab2-9684-1d3ba872d87f",
   "metadata": {},
   "source": [
    "Write a function `add_ints` that takes two inputs, `a` and `b` and returns their sum. \n",
    "\n",
    "* Function name: `add_ints`\n",
    "* Arguments:\n",
    "  * `a` (`int`): The first int \n",
    "  * `b` (`int`): The second int\n",
    "* Returns: The sum of `a` and `b`"
   ]
  },
  {
   "cell_type": "code",
   "execution_count": null,
   "id": "78bd9c8a-5811-4171-90d2-477eae001667",
   "metadata": {},
   "outputs": [],
   "source": []
  },
  {
   "cell_type": "markdown",
   "id": "7db17bd8-aea0-4e55-81fa-34233b2b38af",
   "metadata": {},
   "source": [
    "### 2. Hyperlink\n",
    "\n",
    "Using the UI in the next cell:"
   ]
  },
  {
   "cell_type": "code",
   "execution_count": null,
   "id": "54f525a4-27cf-4f33-a481-b63c2c847d75",
   "metadata": {},
   "outputs": [],
   "source": [
    "url_widget = ipywidgets.Text(description=\"URL:\", value=\"https://www.lifealgorithmic.com/\")\n",
    "text_widget = ipywidgets.Text(description=\"Text:\", value=\"Class Home\")\n",
    "display(\n",
    "    url_widget,\n",
    "    text_widget, \n",
    "    bind('hyper_link', {'url': url_widget, 'text': text_widget})\n",
    ")"
   ]
  },
  {
   "cell_type": "markdown",
   "id": "45f75988-d625-47ac-83ef-504a8a23ea74",
   "metadata": {},
   "source": [
    "Write a function named `hyper_link` that takes two inputs, `url` and `text` and returns an `HTML` containing a hyperlink that takes the browser to `url` and displays `text`. \n",
    "\n",
    "* Function name: `hyper_link`\n",
    "* Arguments:\n",
    "  * `url` (`str`): The link target \n",
    "  * `text` (`str`): The link text\n",
    "* Returns: An `HTML` with the hyperlink (it should be clickable)."
   ]
  },
  {
   "cell_type": "code",
   "execution_count": null,
   "id": "081d8c9f-5d2b-45a7-bc18-8e86a472fbab",
   "metadata": {},
   "outputs": [],
   "source": []
  },
  {
   "cell_type": "markdown",
   "id": "0aa61a0a-c884-486d-b8cd-f02b982ee999",
   "metadata": {},
   "source": [
    "## Part 2: Global Widgets \n",
    "\n",
    "In this part your interactive functions will have to use global variables. "
   ]
  },
  {
   "cell_type": "markdown",
   "id": "1f71e9c3-8d5a-48c6-bd56-29a7b6378c15",
   "metadata": {},
   "source": [
    "### 1. Minimum and Maximum\n",
    "\n",
    "The interface in the next cell has three widgets: \n",
    "\n",
    "1. A slider that selects an integer \n",
    "1. An IntText that sets the minimum for the slider\n",
    "1. An IntText that sets the maximum for the slider\n",
    "\n",
    "Run the UI in the next cell:"
   ]
  },
  {
   "cell_type": "code",
   "execution_count": null,
   "id": "e068cd1a-a4a2-43f6-b0d3-dcf7f37235a8",
   "metadata": {},
   "outputs": [],
   "source": [
    "int_widget = ipywidgets.IntSlider(description='Number:', min=0, max=10)\n",
    "min_widget = ipywidgets.IntText(description='Min:', value=0)\n",
    "max_widget = ipywidgets.IntText(description='Max:', value=10)\n",
    "bind('set_minmax', {'min': min_widget, 'max': max_widget,})\n",
    "display(\n",
    "    int_widget, min_widget, max_widget,\n",
    ")"
   ]
  },
  {
   "cell_type": "markdown",
   "id": "3ded2631-aec9-410b-920b-f92d7f831525",
   "metadata": {},
   "source": [
    "Write a funcion called `set_minmax` that sets the values `int_widget.min` and `int_widget.max`. \n",
    "\n",
    "* Function name: `set_minmax`\n",
    "* Arguments:\n",
    "  * `min` (`int`) - The minimum\n",
    "  * `max` (`int`) - The maximum \n",
    "* Returns `None`"
   ]
  },
  {
   "cell_type": "code",
   "execution_count": null,
   "id": "e9d094be-fc82-463d-8d7c-e010e0c6f15d",
   "metadata": {},
   "outputs": [],
   "source": []
  }
 ],
 "metadata": {
  "kernelspec": {
   "display_name": "Python 3 (ipykernel)",
   "language": "python",
   "name": "python3"
  },
  "language_info": {
   "codemirror_mode": {
    "name": "ipython",
    "version": 3
   },
   "file_extension": ".py",
   "mimetype": "text/x-python",
   "name": "python",
   "nbconvert_exporter": "python",
   "pygments_lexer": "ipython3",
   "version": "3.8.10"
  }
 },
 "nbformat": 4,
 "nbformat_minor": 5
}
