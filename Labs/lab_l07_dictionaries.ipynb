{
 "cells": [
  {
   "attachments": {},
   "cell_type": "markdown",
   "metadata": {},
   "source": [
    "# Lab: Dictionaries \n",
    "\n",
    "This test will help you better understand how to use dictionaries. \n",
    "\n",
    "## Part 1: Using Dictionaries \n",
    "\n",
    "In part 1 you'll create and manipulate a dictionary. \n",
    "\n",
    "### 1. Create a Dictionary \n",
    "\n",
    "Create a dictionary called `courses` that contains the following:\n",
    "\n",
    "| Key | Value | \n",
    "| --- | --- |\n",
    "| cis-15 | Python Programming for Everyone |\n",
    "| cis-81 | Introduction to Networking |\n",
    "| cis-90 | Introduction to UNIX/Linux | \n",
    "| cis-75 | Computer Security Fundamentals |"
   ]
  },
  {
   "cell_type": "code",
   "execution_count": null,
   "metadata": {},
   "outputs": [],
   "source": []
  },
  {
   "attachments": {},
   "cell_type": "markdown",
   "metadata": {},
   "source": [
    "### 2. Print a Key\n",
    "\n",
    "Use the `courses` dictionary you created. Write a `print` statement that prints the title of `cis-15`."
   ]
  },
  {
   "cell_type": "code",
   "execution_count": null,
   "metadata": {
    "collapsed": false,
    "jupyter": {
     "outputs_hidden": false
    },
    "pycharm": {
     "name": "#%%\n"
    }
   },
   "outputs": [],
   "source": []
  },
  {
   "attachments": {},
   "cell_type": "markdown",
   "metadata": {},
   "source": [
    "### 3. Change a Value \n",
    "\n",
    "The name of CIS-15 changed to \"Python Programming for Everyone\". Change the value in `courses` to reflect the new name."
   ]
  },
  {
   "cell_type": "code",
   "execution_count": null,
   "metadata": {},
   "outputs": [],
   "source": []
  },
  {
   "attachments": {},
   "cell_type": "markdown",
   "metadata": {},
   "source": [
    "### 4. Add a Key\n",
    "\n",
    "Write a statement that adds one key value pair:\n",
    "\n",
    "  * Key: cis-54\n",
    "  * Value: Introduction to Relational Databases"
   ]
  },
  {
   "cell_type": "code",
   "execution_count": null,
   "metadata": {
    "collapsed": false,
    "jupyter": {
     "outputs_hidden": false
    },
    "pycharm": {
     "name": "#%%\n"
    }
   },
   "outputs": [],
   "source": []
  },
  {
   "attachments": {},
   "cell_type": "markdown",
   "metadata": {},
   "source": [
    "### 5. Remove a Key \n",
    "\n",
    "Write a statement that removes cis-81 from the dictionary. "
   ]
  },
  {
   "cell_type": "code",
   "execution_count": null,
   "metadata": {
    "collapsed": false,
    "jupyter": {
     "outputs_hidden": false
    },
    "pycharm": {
     "name": "#%%\n"
    }
   },
   "outputs": [],
   "source": []
  },
  {
   "attachments": {},
   "cell_type": "markdown",
   "metadata": {},
   "source": [
    "### 6. Test for a Key \n",
    "\n",
    "Write an expression that results to `True` if the `cis-81` key is in `courses` and `False` otherwise."
   ]
  },
  {
   "cell_type": "code",
   "execution_count": null,
   "metadata": {},
   "outputs": [],
   "source": []
  }
 ],
 "metadata": {
  "interpreter": {
   "hash": "767d51c1340bd893661ea55ea3124f6de3c7a262a8b4abca0554b478b1e2ff90"
  },
  "kernelspec": {
   "display_name": "Python 3 (ipykernel)",
   "language": "python",
   "name": "python3"
  },
  "language_info": {
   "codemirror_mode": {
    "name": "ipython",
    "version": 3
   },
   "file_extension": ".py",
   "mimetype": "text/x-python",
   "name": "python",
   "nbconvert_exporter": "python",
   "pygments_lexer": "ipython3",
   "version": "3.10.6"
  },
  "pycharm": {
   "stem_cell": {
    "cell_type": "raw",
    "metadata": {
     "collapsed": false
    },
    "source": []
   }
  }
 },
 "nbformat": 4,
 "nbformat_minor": 4
}
