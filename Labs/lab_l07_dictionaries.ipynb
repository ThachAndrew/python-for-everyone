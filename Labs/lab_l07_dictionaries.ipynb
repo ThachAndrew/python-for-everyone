{
 "cells": [
  {
   "cell_type": "markdown",
   "metadata": {},
   "source": [
    "# Lab 9: Dictionaries \n",
    "\n",
    "This test will help you better understand how to use dictionaries. \n",
    "\n",
    "## Part 1: Using Dictionaries \n",
    "\n",
    "In part 1 you'll create and manipulate a dictionary. \n",
    "\n",
    "### 1.1. Create a Dictionary \n",
    "\n",
    "Create a dictionary called `courses` that contains the following:\n",
    "\n",
    "| Key | Value | \n",
    "| --- | --- |\n",
    "| cis-15 | Cloud Programming in Python |\n",
    "| cis-81 | Introduction to Networking |\n",
    "| cis-90 | Introduction to UNIX/Linux | \n",
    "| cis-75 | Computer Security Fundamentals |\n",
    "\n"
   ]
  },
  {
   "cell_type": "code",
   "execution_count": null,
   "metadata": {},
   "outputs": [],
   "source": []
  },
  {
   "cell_type": "markdown",
   "metadata": {},
   "source": [
    "### 1.2. Print a Key\n",
    "\n",
    "Use the `courses` dictionary you created. Write a `print` statement that prints the title of `cis-15`."
   ]
  },
  {
   "cell_type": "code",
   "execution_count": null,
   "metadata": {
    "collapsed": false,
    "jupyter": {
     "outputs_hidden": false
    },
    "pycharm": {
     "name": "#%%\n"
    }
   },
   "outputs": [],
   "source": []
  },
  {
   "cell_type": "markdown",
   "metadata": {},
   "source": [
    "### 1.3. Change a Value \n",
    "\n",
    "The name of CIS-15 changed to \"Python Programming for Everyone\". Change the value in `courses` to reflect the new name."
   ]
  },
  {
   "cell_type": "code",
   "execution_count": null,
   "metadata": {},
   "outputs": [],
   "source": []
  },
  {
   "cell_type": "markdown",
   "metadata": {},
   "source": [
    "### 1.4. Add a Key\n",
    "\n",
    "Write a statement that adds one key value pair:\n",
    "\n",
    "  * Key: cis-54\n",
    "  * Value: Introduction to Relational Databases"
   ]
  },
  {
   "cell_type": "code",
   "execution_count": null,
   "metadata": {
    "collapsed": false,
    "jupyter": {
     "outputs_hidden": false
    },
    "pycharm": {
     "name": "#%%\n"
    }
   },
   "outputs": [],
   "source": []
  },
  {
   "cell_type": "markdown",
   "metadata": {},
   "source": [
    "### 1.5. Remove a Key \n",
    "\n",
    "Write a statement that removes cis-81 from the dictionary. "
   ]
  },
  {
   "cell_type": "code",
   "execution_count": null,
   "metadata": {
    "collapsed": false,
    "jupyter": {
     "outputs_hidden": false
    },
    "pycharm": {
     "name": "#%%\n"
    }
   },
   "outputs": [],
   "source": []
  },
  {
   "cell_type": "markdown",
   "metadata": {},
   "source": [
    "### 1.6. Test for a Key \n",
    "\n",
    "Write an expression that results to `True` if the `cis-81` key is in `courses` and `False` otherwise."
   ]
  },
  {
   "cell_type": "code",
   "execution_count": null,
   "metadata": {},
   "outputs": [],
   "source": []
  }
 ],
 "metadata": {
  "kernelspec": {
   "display_name": "Python 3.8 (XPython)",
   "language": "python",
   "name": "xpython"
  },
  "language_info": {
   "file_extension": ".py",
   "mimetype": "text/x-python",
   "name": "python",
   "version": "3.8.2"
  },
  "pycharm": {
   "stem_cell": {
    "cell_type": "raw",
    "metadata": {
     "collapsed": false
    },
    "source": []
   }
  }
 },
 "nbformat": 4,
 "nbformat_minor": 4
}
