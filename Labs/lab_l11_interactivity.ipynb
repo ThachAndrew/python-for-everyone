{
 "cells": [
  {
   "attachments": {},
   "cell_type": "markdown",
   "id": "54cc220a-3170-4680-a9ba-cd42e35de247",
   "metadata": {},
   "source": [
    "# Lab: Interactive Functions \n",
    "\n",
    "This lab has some simple user interfaces that will be completed by a function you write. Run the next cell before you begin:"
   ]
  },
  {
   "cell_type": "code",
   "execution_count": null,
   "id": "499b76f2-9fb1-4bdd-9763-c820bd41f4bd",
   "metadata": {},
   "outputs": [],
   "source": [
    "import ipywidgets"
   ]
  },
  {
   "attachments": {},
   "cell_type": "markdown",
   "id": "8cb548c9-67fe-46da-b906-27d24b6c1ad3",
   "metadata": {},
   "source": [
    "## Part 1: Interactive Functions\n",
    "\n",
    "Each of the following questions has code for a user interface (UI) and asks you to write a function. "
   ]
  },
  {
   "attachments": {},
   "cell_type": "markdown",
   "id": "7e4ca0d3-8d41-4ab2-9684-1d3ba872d87f",
   "metadata": {},
   "source": [
    "### 1. Add Integers\n",
    "\n",
    "Write a function `add_ints` that takes two inputs, `a` and `b` and returns their sum. \n",
    "\n",
    "* Function name: `add_ints`\n",
    "* Arguments:\n",
    "  * `a` (`int`): The first int \n",
    "  * `b` (`int`): The second int\n",
    "* Returns: The sum of `a` and `b`"
   ]
  },
  {
   "cell_type": "code",
   "execution_count": null,
   "id": "78bd9c8a-5811-4171-90d2-477eae001667",
   "metadata": {},
   "outputs": [],
   "source": []
  },
  {
   "cell_type": "markdown",
   "id": "99dd1d30",
   "metadata": {},
   "source": [
    "Use the interactive command in the next cell to test your function. Notice how running the cell shows you two sliders and right below them you see the return value for your `add_ints` function."
   ]
  },
  {
   "cell_type": "code",
   "execution_count": null,
   "id": "b50eece6-bc24-41a5-a963-952db74854c5",
   "metadata": {},
   "outputs": [],
   "source": [
    "ipywidgets.interact(add_ints, a=10, b=20)"
   ]
  },
  {
   "attachments": {},
   "cell_type": "markdown",
   "id": "45f75988-d625-47ac-83ef-504a8a23ea74",
   "metadata": {},
   "source": [
    "### 2. Hyperlink\n",
    "\n",
    "Write a function named `hyper_link` that takes two inputs, `url` and `text` and returns an `HTML` containing a hyperlink that takes the browser to `url` and returns `text`. \n",
    "\n",
    "* Function name: `hyper_link`\n",
    "* Arguments:\n",
    "  * `url` (`str`): The link target \n",
    "  * `text` (`str`): The link text\n",
    "* Returns: An `HTML` with the hyperlink (it should be clickable)."
   ]
  },
  {
   "cell_type": "code",
   "execution_count": null,
   "id": "081d8c9f-5d2b-45a7-bc18-8e86a472fbab",
   "metadata": {},
   "outputs": [],
   "source": []
  },
  {
   "cell_type": "markdown",
   "id": "d049d668",
   "metadata": {},
   "source": [
    "Use the next cell to test your `hyper_link` function:"
   ]
  },
  {
   "cell_type": "code",
   "execution_count": null,
   "id": "54f525a4-27cf-4f33-a481-b63c2c847d75",
   "metadata": {},
   "outputs": [],
   "source": [
    "ipywidgets.interact(hyper_link, url=\"https://www.lifealgorithmic.com\", text='Class Home')"
   ]
  },
  {
   "cell_type": "markdown",
   "id": "c344bbad",
   "metadata": {},
   "source": [
    "## Part 2: Make it Interactive\n",
    "\n",
    "In this part you make existing functions interactive.\n",
    "\n",
    "### 1. Interactive Drawing\n",
    "\n",
    "The next cell has a function that draws a triangle."
   ]
  },
  {
   "cell_type": "code",
   "execution_count": 12,
   "id": "a633015e",
   "metadata": {},
   "outputs": [],
   "source": [
    "from jupyter_turtle import turtle as tu \n",
    "\n",
    "def triangle(size):\n",
    "    \"\"\"Draw a triangle.\"\"\"\n",
    "    tu.clear()\n",
    "    tu.move(size)\n",
    "    tu.turn(120)\n",
    "    tu.move(size)\n",
    "    tu.turn(120)\n",
    "    tu.move(size)\n",
    "    tu.turn(120)"
   ]
  },
  {
   "cell_type": "markdown",
   "id": "d8381b67",
   "metadata": {},
   "source": [
    "Make the function interactive in the next cell:"
   ]
  },
  {
   "cell_type": "code",
   "execution_count": null,
   "id": "3fcfa385",
   "metadata": {},
   "outputs": [],
   "source": []
  },
  {
   "cell_type": "markdown",
   "id": "f74ac461",
   "metadata": {},
   "source": [
    "### 2. Interactive HTML \n",
    "\n",
    "Here's a function that generates an HTML tag:"
   ]
  },
  {
   "cell_type": "code",
   "execution_count": 19,
   "id": "fb7dc3bc",
   "metadata": {},
   "outputs": [],
   "source": [
    "from IPython.display import HTML \n",
    "\n",
    "def my_tag(tag, contents):\n",
    "    \"\"\"Make a tag with the given contents.    \n",
    "    Arguments:\n",
    "        tag - A tag name (should be one of \"i\", \"b\" or \"u\")\n",
    "        contents - The contents between the tags.\n",
    "    Returns:\n",
    "        HTML\n",
    "    \"\"\"\n",
    "    return HTML(f\"\"\"<{tag}>{contents}</{tag}>\"\"\")"
   ]
  },
  {
   "cell_type": "markdown",
   "id": "c9f84cb0",
   "metadata": {},
   "source": [
    "Make the function interactive in the next cell. Make the user choose between `\"b\"`, `\"i\"`, and `\"u\"` for the `tag` argument:"
   ]
  },
  {
   "cell_type": "code",
   "execution_count": null,
   "id": "61db49f9",
   "metadata": {},
   "outputs": [],
   "source": []
  }
 ],
 "metadata": {
  "kernelspec": {
   "display_name": "Python 3 (ipykernel)",
   "language": "python",
   "name": "python3"
  },
  "language_info": {
   "codemirror_mode": {
    "name": "ipython",
    "version": 3
   },
   "file_extension": ".py",
   "mimetype": "text/x-python",
   "name": "python",
   "nbconvert_exporter": "python",
   "pygments_lexer": "ipython3",
   "version": "3.10.12"
  }
 },
 "nbformat": 4,
 "nbformat_minor": 5
}
