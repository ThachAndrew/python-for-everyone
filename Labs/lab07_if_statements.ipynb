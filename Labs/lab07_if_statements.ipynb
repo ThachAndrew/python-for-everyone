{
 "cells": [
  {
   "cell_type": "markdown",
   "metadata": {},
   "source": [
    "XXX: REWRITE\n",
    "\n",
    "# Lab: Making Decisions\n",
    "\n",
    "This lab will help you get comfortable with logic and if/else statements. "
   ]
  },
  {
   "cell_type": "markdown",
   "metadata": {},
   "source": [
    "## Practice `if` Statements\n",
    "\n",
    "Write a program that asks the user for an integer and prints \"You got it!\" if the integer is equal to `42`:"
   ]
  },
  {
   "cell_type": "code",
   "execution_count": null,
   "metadata": {},
   "outputs": [],
   "source": []
  },
  {
   "cell_type": "markdown",
   "metadata": {},
   "source": [
    "Write a program that asks the user for an integer and prints the following based in the input:\n",
    "\n",
    "  * If the input is equal to 42, print \"You got it!\"\n",
    "  * If the input is less than 42, print \"Too low!\"\n",
    "  * If the input is greater than 42, print \"Too high!\""
   ]
  },
  {
   "cell_type": "code",
   "execution_count": null,
   "metadata": {},
   "outputs": [],
   "source": []
  },
  {
   "cell_type": "markdown",
   "metadata": {},
   "source": [
    "Write a program that asks the user to type a word. \n",
    "\n",
    "  * If the word starts with \"X\" or \"Y\", print \"=== X, Y ===\"\n",
    "  * If the word starts with \"M\" or \"N\", print \"=== M, N ===\"\n",
    "  * If the word equals \"Mike\", print \"=== Instructor ===\"\n",
    "  * If the word equals your name, print \"=== Me ===\" \n",
    "  * If the word doesn't match any of the above, print \"=== No Match ===\"\n",
    "  \n",
    "*Hint: Google \"Python string starts with\"*"
   ]
  },
  {
   "cell_type": "code",
   "execution_count": null,
   "metadata": {},
   "outputs": [],
   "source": []
  },
  {
   "cell_type": "markdown",
   "metadata": {},
   "source": [
    "Write a program that can draw a triangle or a square based on user input. Your program should use the `input()` function to ask the user what figure to draw. Draw the figure they request. If you don't recoginize the figure print an error message. \n",
    "\n",
    "**Hint: The `strip()` function is necessary to remove the newline (`\\n`) character from user input.**"
   ]
  },
  {
   "cell_type": "code",
   "execution_count": null,
   "metadata": {},
   "outputs": [],
   "source": [
    "from Lab.drawing import pen\n"
   ]
  },
  {
   "cell_type": "markdown",
   "metadata": {},
   "source": [
    "Improve your program from the last part and have it ask two questions: What figure to draw and the lenght of each side.   "
   ]
  },
  {
   "cell_type": "code",
   "execution_count": null,
   "metadata": {},
   "outputs": [],
   "source": [
    "# Start by copying your code from the previous cell."
   ]
  },
  {
   "cell_type": "markdown",
   "metadata": {},
   "source": [
    "## Decisions in Functions \n",
    "\n",
    "Write a function called `grade_letter_percent` that takes one input `percent` and returns the grade letter given for that percentage.\n",
    "\n",
    " * Name: `grade_letter_percent`\n",
    " * Arguments: \n",
    "   * `percent` - A grade percentage.\n",
    " * Returns: \n",
    "   * The grade letter (e.g. \"A\", \"B\", \"C\")"
   ]
  },
  {
   "cell_type": "code",
   "execution_count": null,
   "metadata": {},
   "outputs": [],
   "source": []
  },
  {
   "cell_type": "markdown",
   "metadata": {},
   "source": [
    "Improve your `grade_letter_percent` function so that it calculates the percentage based on score in points and the point total of an assignment. \n",
    "\n",
    " * Name: `grade_letter`\n",
    " * Arguments:\n",
    "   * `grade` - The grade in points \n",
    "   * `total` - The total points for the assignment \n",
    " * Returns: \n",
    "   * The grade letter (e.g. \"A\", \"B\", \"C\")"
   ]
  },
  {
   "cell_type": "code",
   "execution_count": null,
   "metadata": {},
   "outputs": [],
   "source": []
  },
  {
   "cell_type": "markdown",
   "metadata": {},
   "source": [
    "Improve your `grade_letter_percent` function again to include `+` and `-` grades. A `+` grade is given to the highest percent grade in the category, for example 99% is an A+, 89% is a B+, etc. A `-` grade is given to the lowest grade in the category, for example 90% is an A-, 80% is a B-, etc. \n",
    "\n",
    " * Name: `grade_letter_plus`\n",
    " * Arguments:\n",
    "   * `grade` - The grade in points \n",
    "   * `total` - The total points for the assignment \n",
    " * Returns: \n",
    "   * The grade letter (e.g. \"A+\", \"A\", \"A-\" \"B+\")"
   ]
  },
  {
   "cell_type": "code",
   "execution_count": null,
   "metadata": {},
   "outputs": [],
   "source": []
  }
 ],
 "metadata": {
  "kernelspec": {
   "display_name": "Python 3",
   "language": "python",
   "name": "python3"
  },
  "language_info": {
   "codemirror_mode": {
    "name": "ipython",
    "version": 3
   },
   "file_extension": ".py",
   "mimetype": "text/x-python",
   "name": "python",
   "nbconvert_exporter": "python",
   "pygments_lexer": "ipython3",
   "version": "3.8.4"
  }
 },
 "nbformat": 4,
 "nbformat_minor": 4
}
