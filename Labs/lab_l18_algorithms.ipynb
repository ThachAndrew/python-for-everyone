{
 "cells": [
  {
   "cell_type": "markdown",
   "metadata": {},
   "source": [
    "# Lab: Loop Algorithms \n",
    "\n",
    "This lab will give you practice building algorithms with loops."
   ]
  },
  {
   "cell_type": "markdown",
   "metadata": {
    "tags": []
   },
   "source": [
    "## Part 1: Algorithms With `for` Loops\n",
    "\n",
    "Now let's do some harder things with `for` loops. If you're having trouble with these problems remember to use the debugger."
   ]
  },
  {
   "cell_type": "code",
   "execution_count": null,
   "metadata": {},
   "outputs": [],
   "source": [
    "my_list = ['One', 'Two', 'Three', 'Four', 'Five', 'Six', 'Seven']\n",
    "\n",
    "# Put your code below this comment."
   ]
  },
  {
   "cell_type": "markdown",
   "metadata": {
    "tags": []
   },
   "source": [
    "### 1. Compute the Sum\n",
    "\n",
    "Write a `for` loop that prints the sum of all the elements in `my_list`"
   ]
  },
  {
   "cell_type": "code",
   "execution_count": null,
   "metadata": {},
   "outputs": [],
   "source": [
    "my_list = [1, 2, 3.4, 239, 43, 0x12, 0b1101, 4, 3]\n",
    "\n",
    "# Put your code below this comment."
   ]
  },
  {
   "cell_type": "markdown",
   "metadata": {},
   "source": [
    "### 2. Find the Largest Value \n",
    "\n",
    "Write a `for` loop that prints the **largest** element in `my_list`"
   ]
  },
  {
   "cell_type": "code",
   "execution_count": null,
   "metadata": {},
   "outputs": [],
   "source": [
    "my_list = [1, 2, 3.4, 239, 43, 0x12, 0b1101, 4, 3]\n",
    "\n",
    "# Put your code below this comment."
   ]
  },
  {
   "cell_type": "markdown",
   "metadata": {},
   "source": [
    "### 3. Find the Smallest Value \n",
    "\n",
    "Write a for loop that prints the **smallest** element in my_list."
   ]
  },
  {
   "cell_type": "code",
   "execution_count": null,
   "metadata": {},
   "outputs": [],
   "source": [
    "my_list = [1, 2, 3.4, 239, 43, 0x12, 0b1101, 4, 3]\n",
    "\n",
    "# Put your code below this comment."
   ]
  },
  {
   "cell_type": "markdown",
   "metadata": {},
   "source": [
    "### 4. Bold Face \n",
    "\n",
    "Copy and paste this example list into the next cell:\n",
    "\n",
    "```python\n",
    "items = ['Eat', 'Sleep', 'Program', 'Repeat']\n",
    "```\n",
    "\n",
    "Write a for loop that makes a list named `bolded` with the elements from `items` surrounded by bold tags. For example your code should turn `\"Eat\"` into `\"<b>Eat</b>\"`.\n"
   ]
  },
  {
   "cell_type": "code",
   "execution_count": null,
   "metadata": {},
   "outputs": [],
   "source": []
  },
  {
   "cell_type": "markdown",
   "metadata": {},
   "source": [
    "### 5. Build HTML \n",
    "\n",
    "Use the items in `bolded` from the last question to create an *unorderd list* in HTML. Display the list. \n",
    "\n",
    "The output should look approximately like:\n",
    "\n",
    "<div class='alert-info'>\n",
    "<ul>\n",
    "  <li><b>Eat</b></li>\n",
    "  <li><b>Sleep</b></li>\n",
    "  <li><b>Program</b></li>\n",
    "  <li><b>Repeat</b></li>\n",
    "</ul>\n",
    "</div> \n",
    "   "
   ]
  },
  {
   "cell_type": "code",
   "execution_count": null,
   "metadata": {},
   "outputs": [],
   "source": []
  },
  {
   "cell_type": "markdown",
   "metadata": {},
   "source": [
    "### 5. A List as a Function Argument \n",
    "\n",
    "Write a function called `add_me` that takes one argument `the_list`. The function adds your name to the end of the list making your name the last element in the list. \n",
    "\n",
    "- Function: `add_me` - Add your name to a list. \n",
    "  - Arguments: `the_list`\n",
    "  - Returns: `None`"
   ]
  },
  {
   "cell_type": "code",
   "execution_count": null,
   "metadata": {},
   "outputs": [],
   "source": []
  },
  {
   "cell_type": "markdown",
   "metadata": {},
   "source": [
    "Copy this list definition in to the cell below and call your `add_me` function with `a_list` as its argument.\n",
    "\n",
    "```python\n",
    "a_list = [ 'one', 'two', 'apple', 'pear' ] \n",
    "```\n",
    "\n",
    "**What happens to a_list after you call add_me?**"
   ]
  },
  {
   "cell_type": "code",
   "execution_count": null,
   "metadata": {},
   "outputs": [],
   "source": []
  },
  {
   "cell_type": "markdown",
   "metadata": {},
   "source": [
    "### 6. Remove the Smallest Value \n",
    "\n",
    "Write a function called `remove_min` that takes one argument `the_list` and removes the smallest value in it. The function returns the smallest value. \n",
    "\n",
    "- Function: `remove_min` - Removes and returns the smallest value.\n",
    "  - Arguments: `the_list` - A list of values (they should all be the same type)\n",
    "  - Returns: The smallest value in the list.\n",
    "  "
   ]
  },
  {
   "cell_type": "code",
   "execution_count": null,
   "metadata": {},
   "outputs": [],
   "source": []
  },
  {
   "cell_type": "markdown",
   "metadata": {},
   "source": [
    "## Part 2: Dictionary Functions \n",
    "\n",
    "Here are some more challenging problems using dictionaries. \n",
    "\n",
    "### 3.1. Reverse the Dictionary\n",
    "\n",
    "Write a function caled `reverse_get` that takes two arguments, `data` and `val`. The function searches `data` for the *value* `val` and returns the corresponding key. \n",
    "\n",
    "- Name: `reverse_get`\n",
    "- Arguments:\n",
    "  - `data` - A dictionary \n",
    "  - `val` - A value in the dictionary \n",
    "- Returns: The key that matches the value or `None` if the value is not found in the dictionary. "
   ]
  },
  {
   "cell_type": "code",
   "execution_count": null,
   "metadata": {},
   "outputs": [],
   "source": []
  },
  {
   "cell_type": "markdown",
   "metadata": {},
   "source": [
    "### 3.2. Frequency Counter \n",
    "\n",
    "Write a function that takes a single string argument and counts how many times each letter appears in the string. The function returns a dictionary with letters for keys and the count of the letters as values. For example if the function is given the sentence:\n",
    "\n",
    "```python\n",
    "count_letters('Hello World')\n",
    "```\n",
    "\n",
    "It should return the dictionary:\n",
    "\n",
    "```python\n",
    "{ \n",
    "    'h' : 1,\n",
    "    'e' : 1,\n",
    "    'l' : 3,\n",
    "    ' ' : 1,\n",
    "    'o' : 2,\n",
    "    'w' : 1,\n",
    "    'd' : 1,\n",
    "}\n",
    "```\n",
    "\n",
    "- Name: `count_letters`\n",
    "- Arguments:\n",
    "  - `text` (string) - The text to count.\n",
    "- Returns: A dictionary with letters for keys and counts for values.\n",
    "\n",
    "The nex cell has some example text to try:"
   ]
  },
  {
   "cell_type": "code",
   "execution_count": null,
   "metadata": {},
   "outputs": [],
   "source": [
    "example_text = \"\"\"\n",
    "It was a dark and stormy night; the rain fell in torrents — except \n",
    "at occasional intervals, when it was checked by a violent gust of \n",
    "wind which swept up the streets (for it is in London that our scene\n",
    "lies), rattling along the housetops, and fiercely agitating the \n",
    "scanty flame of the lamps that struggled against the darkness.\n",
    "\"\"\""
   ]
  },
  {
   "cell_type": "markdown",
   "metadata": {},
   "source": [
    "Put your solution here:"
   ]
  },
  {
   "cell_type": "code",
   "execution_count": null,
   "metadata": {},
   "outputs": [],
   "source": []
  }
 ],
 "metadata": {
  "interpreter": {
   "hash": "916dbcbb3f70747c44a77c7bcd40155683ae19c65e1c03b4aa3499c5328201f1"
  },
  "kernelspec": {
   "display_name": "Python 3 (ipykernel)",
   "language": "python",
   "name": "python3"
  },
  "language_info": {
   "codemirror_mode": {
    "name": "ipython",
    "version": 3
   },
   "file_extension": ".py",
   "mimetype": "text/x-python",
   "name": "python",
   "nbconvert_exporter": "python",
   "pygments_lexer": "ipython3",
   "version": "3.10.6"
  }
 },
 "nbformat": 4,
 "nbformat_minor": 4
}
