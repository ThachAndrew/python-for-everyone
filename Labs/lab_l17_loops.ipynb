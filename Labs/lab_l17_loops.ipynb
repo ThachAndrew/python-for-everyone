{
 "cells": [
  {
   "cell_type": "markdown",
   "metadata": {},
   "source": [
    "# Lab 8: Lists and Loops \n",
    "\n",
    "This lab will give you practice to help solidify your understanding of lists and loops. "
   ]
  },
  {
   "cell_type": "markdown",
   "metadata": {},
   "source": [
    "## Part 1: Beginning `for` Loops \n",
    "\n",
    "In programming there's a thing called the 90/10 rule: A program spends 90% of its time in 10% of the code. That's because of loops! Here is some practice with the `for` loop.\n",
    "\n",
    "### 1.1. Loop over a List\n",
    "\n",
    "Write a for loop that prints every element of `todo_list` from the last part."
   ]
  },
  {
   "cell_type": "code",
   "execution_count": null,
   "metadata": {},
   "outputs": [],
   "source": []
  },
  {
   "cell_type": "markdown",
   "metadata": {},
   "source": [
    "### 1.2. Counting Loop \n",
    "\n",
    "Write a `for` loop that prints every number from 0 to 10 including 0 an 10"
   ]
  },
  {
   "cell_type": "code",
   "execution_count": null,
   "metadata": {},
   "outputs": [],
   "source": []
  },
  {
   "cell_type": "markdown",
   "metadata": {},
   "source": [
    "### 1.3. More Counting \n",
    "\n",
    "Write a for loop that prints every number from 5 to 10 including 5 and 10."
   ]
  },
  {
   "cell_type": "code",
   "execution_count": null,
   "metadata": {},
   "outputs": [],
   "source": []
  },
  {
   "cell_type": "markdown",
   "metadata": {},
   "source": [
    "### 1.4. File For Loop \n",
    "\n",
    "Write a for loop that prints every line of the file `../Lessons/files/example.txt` **with line nubers**."
   ]
  },
  {
   "cell_type": "code",
   "execution_count": null,
   "metadata": {},
   "outputs": [],
   "source": []
  },
  {
   "cell_type": "markdown",
   "metadata": {},
   "source": [
    "## Part 2: Algorithms With `for` Loops\n",
    "\n",
    "Now let's do some harder things with `for` loops. If you're having trouble with these problems remember to use the debugger.\n",
    "\n",
    "### 2.1. Iterate in Reverse \n",
    "\n",
    "Write a `for` loop that prints the elements of `my_list` in **reverse** order."
   ]
  },
  {
   "cell_type": "code",
   "execution_count": null,
   "metadata": {},
   "outputs": [],
   "source": [
    "my_list = ['One', 'Two', 'Three', 'Four', 'Five', 'Six', 'Seven']\n",
    "\n",
    "# Put your code below this comment."
   ]
  },
  {
   "cell_type": "markdown",
   "metadata": {},
   "source": [
    "### 2.2. Compute the Sum\n",
    "\n",
    "Write a `for` loop that prints the sum of all the elements in `my_list`"
   ]
  },
  {
   "cell_type": "code",
   "execution_count": null,
   "metadata": {},
   "outputs": [],
   "source": [
    "my_list = [1, 2, 3.4, 239, 43, 0x12, 0b1101, 4, 3]\n",
    "\n",
    "# Put your code below this comment."
   ]
  },
  {
   "cell_type": "markdown",
   "metadata": {},
   "source": [
    "### 2.3. Find the Largest Value \n",
    "\n",
    "Write a `for` loop that prints the **largest** element in `my_list`"
   ]
  },
  {
   "cell_type": "code",
   "execution_count": null,
   "metadata": {},
   "outputs": [],
   "source": [
    "my_list = [1, 2, 3.4, 239, 43, 0x12, 0b1101, 4, 3]\n",
    "\n",
    "# Put your code below this comment."
   ]
  },
  {
   "cell_type": "markdown",
   "metadata": {},
   "source": [
    "### 2.4. Find the Smallest Value \n",
    "\n",
    "Write a for loop that prints the **smallest** element in my_list."
   ]
  },
  {
   "cell_type": "code",
   "execution_count": null,
   "metadata": {},
   "outputs": [],
   "source": [
    "my_list = [1, 2, 3.4, 239, 43, 0x12, 0b1101, 4, 3]\n",
    "\n",
    "# Put your code below this comment."
   ]
  },
  {
   "cell_type": "markdown",
   "metadata": {},
   "source": [
    "### 2.5. A List as a Function Argument \n",
    "\n",
    "Write a function called `add_me` that takes one argument `the_list`. The function adds your name to the end of the list making your name the last element in the list. \n",
    "\n",
    "- Function: `add_me` - Add your name to a list. \n",
    "  - Arguments: `the_list`\n",
    "  - Returns: `None`"
   ]
  },
  {
   "cell_type": "code",
   "execution_count": null,
   "metadata": {},
   "outputs": [],
   "source": []
  },
  {
   "cell_type": "markdown",
   "metadata": {},
   "source": [
    "Copy this list definition in to the cell below and call your `add_me` function with `a_list` as its argument.\n",
    "\n",
    "```python\n",
    "a_list = [ 'one', 'two', 'apple', 'pear' ] \n",
    "```\n",
    "\n",
    "**What happens to a_list after you call add_me?**"
   ]
  },
  {
   "cell_type": "code",
   "execution_count": null,
   "metadata": {},
   "outputs": [],
   "source": []
  },
  {
   "cell_type": "markdown",
   "metadata": {},
   "source": [
    "### 2.6. Remove the Smallest Value \n",
    "\n",
    "Write a function called `remove_min` that takes one argument `the_list` and removes the smallest value in it. The function returns the smallest value. \n",
    "\n",
    "- Function: `remove_min` - Removes and returns the smallest value.\n",
    "  - Arguments: `the_list` - A list of values (they should all be the same type)\n",
    "  - Returns: The smallest value in the list.\n",
    "  \n",
    "*Hint: Use the code you wrote in 3.4.*"
   ]
  },
  {
   "cell_type": "code",
   "execution_count": null,
   "metadata": {},
   "outputs": [],
   "source": []
  },
  {
   "cell_type": "markdown",
   "metadata": {},
   "source": [
    "### 2.7. Sort by Removal \n",
    "\n",
    "Write a `for` loop that calls your `remove_min` function from the previous question, once for every element in `random_list`.  Each time you call `remove_min` print the return value. Your algorithm should remove all of the elments in the order of smallest to largest.\n",
    "\n",
    "\n",
    "The code in the next cell creates `random_list`. Use `random_list` to test the code in this question. Since your code modifies `random_list` you should re-run the next cell when you want to test your code again. Re-running the cell gives you a new random list."
   ]
  },
  {
   "cell_type": "code",
   "execution_count": null,
   "metadata": {},
   "outputs": [],
   "source": [
    "import random\n",
    "random_list = []\n",
    "for _ in range(random.randint(5,15)):\n",
    "    random_list.append(random.randint(0,100))\n",
    "\n",
    "print('Your new list is:', random_list)"
   ]
  },
  {
   "cell_type": "markdown",
   "metadata": {},
   "source": [
    "Put your solution in the next cell:"
   ]
  },
  {
   "cell_type": "code",
   "execution_count": null,
   "metadata": {},
   "outputs": [],
   "source": []
  },
  {
   "cell_type": "markdown",
   "metadata": {},
   "source": [
    "## A While Loop for Input \n",
    "\n",
    "Write a `while` loop that uses the `input()` function to get an integer from the user. If the users's guess is too high print \"Too High\" if the user's guess is too low write \"Too Low\". Exit the `while` loop when the user guesses the correct number. The code in the cell picks a random number an puts it into the `number` variable. "
   ]
  },
  {
   "cell_type": "code",
   "execution_count": null,
   "metadata": {},
   "outputs": [],
   "source": [
    "import random \n",
    "number = random.randint(1,101)\n",
    "print (f'Guessing game! Guess a number between 1 and 100 (spoiler alert the nuber is {number})')\n",
    "\n",
    "# Put your code below this comment."
   ]
  }
 ],
 "metadata": {
  "kernelspec": {
   "display_name": "Python 3.8 (XPython)",
   "language": "python",
   "name": "xpython"
  },
  "language_info": {
   "file_extension": ".py",
   "mimetype": "text/x-python",
   "name": "python",
   "version": "3.8.2"
  }
 },
 "nbformat": 4,
 "nbformat_minor": 4
}
