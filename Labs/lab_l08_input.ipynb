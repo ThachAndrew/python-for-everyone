{
 "cells": [
  {
   "attachments": {},
   "cell_type": "markdown",
   "metadata": {},
   "source": [
    "# Lab: Widgets\n",
    "\n",
    "In lesson 10 you learned how to take input from the user. That's something that every program does one way or another. This lab will help you practice getting and using input. \n",
    "\n",
    "**Don't forget to run the `import` cell.**"
   ]
  },
  {
   "cell_type": "code",
   "execution_count": null,
   "metadata": {},
   "outputs": [],
   "source": [
    "import ipywidgets"
   ]
  },
  {
   "attachments": {},
   "cell_type": "markdown",
   "metadata": {},
   "source": [
    "## Part 1: Using Widgets\n",
    "\n",
    "In the next cell there are a collection of widgets that you will use to answer the questions in Part 1."
   ]
  },
  {
   "cell_type": "code",
   "execution_count": null,
   "metadata": {},
   "outputs": [],
   "source": [
    "name_widget = ipywidgets.Text(\n",
    "    description='Name:',\n",
    ")\n",
    "year_widget = ipywidgets.Dropdown(\n",
    "    description='Year:',\n",
    "    options=['Freshman', 'Sophomore'],\n",
    ")\n",
    "color_widget = ipywidgets.ColorPicker(\n",
    "    description='Favorite:',\n",
    ")\n",
    "display(name_widget, year_widget, color_widget)"
   ]
  },
  {
   "attachments": {},
   "cell_type": "markdown",
   "metadata": {},
   "source": [
    "### 1. Greeting \n",
    "\n",
    "Use the value of `name_widget` to print a greeting like \"Hello Mike!\" "
   ]
  },
  {
   "cell_type": "code",
   "execution_count": null,
   "metadata": {},
   "outputs": [],
   "source": []
  },
  {
   "attachments": {},
   "cell_type": "markdown",
   "metadata": {},
   "source": [
    "### 2. Are You a Sophomore? \n",
    "\n",
    "Write a statement that prints `True` if \"Sophomore\" is selected and `False` otherwise. "
   ]
  },
  {
   "cell_type": "code",
   "execution_count": null,
   "metadata": {},
   "outputs": [],
   "source": []
  },
  {
   "attachments": {},
   "cell_type": "markdown",
   "metadata": {},
   "source": [
    "### 3. Mind the Default \n",
    "\n",
    "Write a statement that prints `True` if the value in `name_widget` is the empty string and False otherwise. *Hint: The empty string is `\"\"`*"
   ]
  },
  {
   "cell_type": "code",
   "execution_count": null,
   "metadata": {},
   "outputs": [],
   "source": []
  },
  {
   "attachments": {},
   "cell_type": "markdown",
   "metadata": {},
   "source": [
    "### 4. Pick a Color \n",
    "\n",
    "Use Python code in the next cell to set the value of `color_widget` to `\"yellow\"`."
   ]
  },
  {
   "cell_type": "code",
   "execution_count": null,
   "metadata": {},
   "outputs": [],
   "source": []
  },
  {
   "attachments": {},
   "cell_type": "markdown",
   "metadata": {},
   "source": [
    "## Part 2: Create Your Own Widget Program \n",
    "\n",
    "In this part you'll create and use widgets based on the examples in the lecture notes. \n",
    "\n",
    "### 1. Turtle Controls \n",
    "\n",
    "Create three controls for the Turtle:\n",
    "\n",
    "1. An integer widget for the length of a side. \n",
    "1. An integer widget to control the width of the line. \n",
    "1. A color picker for the line color. \n",
    "\n",
    "You can use any integer widgets you like. Create and display the widgets in the next cell:"
   ]
  },
  {
   "cell_type": "code",
   "execution_count": null,
   "metadata": {},
   "outputs": [],
   "source": []
  },
  {
   "attachments": {},
   "cell_type": "markdown",
   "metadata": {},
   "source": [
    "### 2. Draw a Triangle\n",
    "\n",
    "Use the Turtle to draw a triangle in the next cell. The triangle should get it's side length, line thickness and color from the widgets in the previous question. "
   ]
  },
  {
   "cell_type": "code",
   "execution_count": null,
   "metadata": {},
   "outputs": [],
   "source": []
  }
 ],
 "metadata": {
  "interpreter": {
   "hash": "916dbcbb3f70747c44a77c7bcd40155683ae19c65e1c03b4aa3499c5328201f1"
  },
  "kernelspec": {
   "display_name": "Python 3 (ipykernel)",
   "language": "python",
   "name": "python3"
  },
  "language_info": {
   "codemirror_mode": {
    "name": "ipython",
    "version": 3
   },
   "file_extension": ".py",
   "mimetype": "text/x-python",
   "name": "python",
   "nbconvert_exporter": "python",
   "pygments_lexer": "ipython3",
   "version": "3.10.6"
  }
 },
 "nbformat": 4,
 "nbformat_minor": 4
}
