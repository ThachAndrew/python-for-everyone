{
 "cells": [
  {
   "cell_type": "markdown",
   "id": "2f37af70-3f03-4b0c-abb0-46467f0eac9d",
   "metadata": {},
   "source": [
    "# Lab: Managing Data \n",
    "\n",
    "In this lab you'll practice manipulating data in table form using Pandas. "
   ]
  },
  {
   "cell_type": "markdown",
   "id": "63915ff4-d774-4839-befd-04f4e75bb7f9",
   "metadata": {},
   "source": [
    "## Part 1: Airport Data \n",
    "\n",
    "There are so many datasets to choose from! In this part you'll use an open source dataset that tracks all the airports (large and small) and helicopter pads in the world. Run the next cell to download the dataset into your Labs directory:"
   ]
  },
  {
   "cell_type": "code",
   "execution_count": null,
   "id": "7b8c15ef-2132-4c15-b11b-d5d3e1c8b81a",
   "metadata": {},
   "outputs": [],
   "source": [
    "!wget https://davidmegginson.github.io/ourairports-data/airports.csv"
   ]
  },
  {
   "cell_type": "markdown",
   "id": "73023ff0-0d36-4dc3-8b97-5875c730e575",
   "metadata": {},
   "source": [
    "### 1. Load `airports.csv` \n",
    "\n",
    "The last cell downloaded a file called `airports.csv`. Load it into a `DataFrame` and display the data."
   ]
  },
  {
   "cell_type": "code",
   "execution_count": null,
   "id": "990eafe5-3ba8-44c1-89e5-613d149f9d5d",
   "metadata": {},
   "outputs": [],
   "source": []
  },
  {
   "cell_type": "markdown",
   "id": "8fab02a4-03c8-4dcc-b238-cdf949b6629b",
   "metadata": {},
   "source": [
    "### 2. US Airports \n",
    "\n",
    "Filter and show only the airports in the United States."
   ]
  },
  {
   "cell_type": "code",
   "execution_count": null,
   "id": "7ac71b95-6754-4a10-9be5-11bb7c5950e9",
   "metadata": {},
   "outputs": [],
   "source": []
  },
  {
   "cell_type": "markdown",
   "id": "e7497589-4bae-439b-afeb-edde3a2d52ec",
   "metadata": {},
   "source": [
    "### 3. Look for SJC\n",
    "\n",
    "Filter and show only the row for Norman Y. Mineta San Jose International Airport (SJC). "
   ]
  },
  {
   "cell_type": "code",
   "execution_count": null,
   "id": "78e1a742-0ced-4789-b6e0-dbd722ada787",
   "metadata": {},
   "outputs": [],
   "source": []
  },
  {
   "cell_type": "markdown",
   "id": "b644bfe3-17b6-46c1-a8a2-fb06209a7bf6",
   "metadata": {},
   "source": [
    "### 4. Link to SJC \n",
    "\n",
    "Refine your search in the last question to only show the URL to SJC's website."
   ]
  },
  {
   "cell_type": "code",
   "execution_count": null,
   "id": "a1a83a38-cdd4-4f93-900e-d19e8d094d0f",
   "metadata": {},
   "outputs": [],
   "source": []
  },
  {
   "cell_type": "markdown",
   "id": "86926a34-019d-4a13-ac75-1a8200af4863",
   "metadata": {},
   "source": [
    "### 5. Find the Lowest Elevation of Any Airport"
   ]
  },
  {
   "cell_type": "code",
   "execution_count": null,
   "id": "07381f06-254a-4592-add2-5163373d7336",
   "metadata": {},
   "outputs": [],
   "source": []
  },
  {
   "cell_type": "markdown",
   "id": "87b732e7-c75a-4efb-9685-d1458292bdf5",
   "metadata": {},
   "source": [
    "### 6. Lowest Airport \n",
    "\n",
    "Use the expression in the last question to show all data on the lowest airport."
   ]
  },
  {
   "cell_type": "code",
   "execution_count": null,
   "id": "be532bc6-8a69-4db8-87ec-41814b3c9aac",
   "metadata": {},
   "outputs": [],
   "source": []
  },
  {
   "cell_type": "markdown",
   "id": "69e84d26-1543-4c8b-885f-4dacaa23a769",
   "metadata": {},
   "source": [
    "### 7. Median Elevation\n",
    "\n",
    "Calculate the median elevation of all airports."
   ]
  },
  {
   "cell_type": "code",
   "execution_count": null,
   "id": "ead42c42-f638-4011-a39f-bf785bc08dd6",
   "metadata": {},
   "outputs": [],
   "source": []
  },
  {
   "cell_type": "markdown",
   "id": "7c816450-13c8-49c6-b4ec-878712f0a54f",
   "metadata": {},
   "source": [
    "### 8. Plot a Histogram \n",
    "\n",
    "Plot a histogram of all of the airport elevations."
   ]
  },
  {
   "cell_type": "code",
   "execution_count": null,
   "id": "490147c5-53dd-4e8a-9af5-06a32b1046ab",
   "metadata": {},
   "outputs": [],
   "source": []
  }
 ],
 "metadata": {
  "kernelspec": {
   "display_name": "Python 3 (ipykernel)",
   "language": "python",
   "name": "python3"
  },
  "language_info": {
   "codemirror_mode": {
    "name": "ipython",
    "version": 3
   },
   "file_extension": ".py",
   "mimetype": "text/x-python",
   "name": "python",
   "nbconvert_exporter": "python",
   "pygments_lexer": "ipython3",
   "version": "3.8.10"
  }
 },
 "nbformat": 4,
 "nbformat_minor": 5
}
